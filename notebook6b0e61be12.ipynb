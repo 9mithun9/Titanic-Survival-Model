{
 "cells": [
  {
   "cell_type": "code",
   "execution_count": 1,
   "id": "f9cfdd86",
   "metadata": {
    "_cell_guid": "b1076dfc-b9ad-4769-8c92-a6c4dae69d19",
    "_uuid": "8f2839f25d086af736a60e9eeb907d3b93b6e0e5",
    "execution": {
     "iopub.execute_input": "2025-04-27T12:02:47.111469Z",
     "iopub.status.busy": "2025-04-27T12:02:47.110519Z",
     "iopub.status.idle": "2025-04-27T12:02:52.519035Z",
     "shell.execute_reply": "2025-04-27T12:02:52.517923Z"
    },
    "papermill": {
     "duration": 5.424703,
     "end_time": "2025-04-27T12:02:52.520896",
     "exception": false,
     "start_time": "2025-04-27T12:02:47.096193",
     "status": "completed"
    },
    "tags": []
   },
   "outputs": [
    {
     "name": "stdout",
     "output_type": "stream",
     "text": [
      "/kaggle/input/playground-series-s5e4/sample_submission.csv\n",
      "/kaggle/input/playground-series-s5e4/train.csv\n",
      "/kaggle/input/playground-series-s5e4/test.csv\n"
     ]
    }
   ],
   "source": [
    "import numpy as np \n",
    "import pandas as pd \n",
    "import os\n",
    "import plotly.express as px\n",
    "from sklearn.impute import KNNImputer\n",
    "import seaborn as sns\n",
    "import matplotlib.pyplot as plt\n",
    "\n",
    "for dirname, _, filenames in os.walk('/kaggle/input'):\n",
    "    for filename in filenames:\n",
    "        print(os.path.join(dirname, filename))\n"
   ]
  },
  {
   "cell_type": "code",
   "execution_count": 2,
   "id": "2159a27d",
   "metadata": {
    "execution": {
     "iopub.execute_input": "2025-04-27T12:02:52.544512Z",
     "iopub.status.busy": "2025-04-27T12:02:52.544061Z",
     "iopub.status.idle": "2025-04-27T12:02:55.445251Z",
     "shell.execute_reply": "2025-04-27T12:02:55.443957Z"
    },
    "papermill": {
     "duration": 2.915238,
     "end_time": "2025-04-27T12:02:55.447411",
     "exception": false,
     "start_time": "2025-04-27T12:02:52.532173",
     "status": "completed"
    },
    "tags": []
   },
   "outputs": [],
   "source": [
    "train_df = pd.read_csv('/kaggle/input/playground-series-s5e4/train.csv')\n",
    "test_df = pd.read_csv('/kaggle/input/playground-series-s5e4/test.csv')"
   ]
  },
  {
   "cell_type": "code",
   "execution_count": 3,
   "id": "b23a9f21",
   "metadata": {
    "execution": {
     "iopub.execute_input": "2025-04-27T12:02:55.472016Z",
     "iopub.status.busy": "2025-04-27T12:02:55.471690Z",
     "iopub.status.idle": "2025-04-27T12:02:55.477860Z",
     "shell.execute_reply": "2025-04-27T12:02:55.477109Z"
    },
    "papermill": {
     "duration": 0.020536,
     "end_time": "2025-04-27T12:02:55.479274",
     "exception": false,
     "start_time": "2025-04-27T12:02:55.458738",
     "status": "completed"
    },
    "tags": []
   },
   "outputs": [
    {
     "data": {
      "text/plain": [
       "(250000, 11)"
      ]
     },
     "execution_count": 3,
     "metadata": {},
     "output_type": "execute_result"
    }
   ],
   "source": [
    "test_df.shape"
   ]
  },
  {
   "cell_type": "code",
   "execution_count": 4,
   "id": "d30d3440",
   "metadata": {
    "execution": {
     "iopub.execute_input": "2025-04-27T12:02:55.502613Z",
     "iopub.status.busy": "2025-04-27T12:02:55.502250Z",
     "iopub.status.idle": "2025-04-27T12:02:55.596448Z",
     "shell.execute_reply": "2025-04-27T12:02:55.595566Z"
    },
    "papermill": {
     "duration": 0.107942,
     "end_time": "2025-04-27T12:02:55.598321",
     "exception": false,
     "start_time": "2025-04-27T12:02:55.490379",
     "status": "completed"
    },
    "tags": []
   },
   "outputs": [],
   "source": [
    "train_df = train_df.drop(columns=['Guest_Popularity_percentage'])\n",
    "test_df = test_df.drop(columns=['Guest_Popularity_percentage'])"
   ]
  },
  {
   "cell_type": "code",
   "execution_count": 5,
   "id": "187cbc70",
   "metadata": {
    "execution": {
     "iopub.execute_input": "2025-04-27T12:02:55.621691Z",
     "iopub.status.busy": "2025-04-27T12:02:55.621328Z",
     "iopub.status.idle": "2025-04-27T12:02:55.627269Z",
     "shell.execute_reply": "2025-04-27T12:02:55.626395Z"
    },
    "papermill": {
     "duration": 0.019452,
     "end_time": "2025-04-27T12:02:55.628619",
     "exception": false,
     "start_time": "2025-04-27T12:02:55.609167",
     "status": "completed"
    },
    "tags": []
   },
   "outputs": [
    {
     "data": {
      "text/plain": [
       "Index(['id', 'Podcast_Name', 'Episode_Title', 'Episode_Length_minutes',\n",
       "       'Genre', 'Host_Popularity_percentage', 'Publication_Day',\n",
       "       'Publication_Time', 'Number_of_Ads', 'Episode_Sentiment',\n",
       "       'Listening_Time_minutes'],\n",
       "      dtype='object')"
      ]
     },
     "execution_count": 5,
     "metadata": {},
     "output_type": "execute_result"
    }
   ],
   "source": [
    "train_df.columns"
   ]
  },
  {
   "cell_type": "code",
   "execution_count": 6,
   "id": "2e9df5e8",
   "metadata": {
    "execution": {
     "iopub.execute_input": "2025-04-27T12:02:55.651971Z",
     "iopub.status.busy": "2025-04-27T12:02:55.651607Z",
     "iopub.status.idle": "2025-04-27T12:02:55.656337Z",
     "shell.execute_reply": "2025-04-27T12:02:55.655479Z"
    },
    "papermill": {
     "duration": 0.018075,
     "end_time": "2025-04-27T12:02:55.657944",
     "exception": false,
     "start_time": "2025-04-27T12:02:55.639869",
     "status": "completed"
    },
    "tags": []
   },
   "outputs": [],
   "source": [
    "input_cols = ['id', 'Podcast_Name', 'Episode_Title', 'Episode_Length_minutes',\n",
    "       'Genre', 'Host_Popularity_percentage', 'Publication_Day',\n",
    "       'Publication_Time', 'Number_of_Ads', 'Episode_Sentiment']\n",
    "target_cols = 'Listening_Time_minutes'"
   ]
  },
  {
   "cell_type": "code",
   "execution_count": 7,
   "id": "0b365df8",
   "metadata": {
    "execution": {
     "iopub.execute_input": "2025-04-27T12:02:55.681245Z",
     "iopub.status.busy": "2025-04-27T12:02:55.680945Z",
     "iopub.status.idle": "2025-04-27T12:02:55.861632Z",
     "shell.execute_reply": "2025-04-27T12:02:55.860799Z"
    },
    "papermill": {
     "duration": 0.194198,
     "end_time": "2025-04-27T12:02:55.863248",
     "exception": false,
     "start_time": "2025-04-27T12:02:55.669050",
     "status": "completed"
    },
    "tags": []
   },
   "outputs": [],
   "source": [
    "numerical_cols = train_df[input_cols].select_dtypes(include=['int64','float64']).columns.tolist()\n",
    "cat_cols = train_df[input_cols].select_dtypes('object').columns.tolist()"
   ]
  },
  {
   "cell_type": "code",
   "execution_count": 8,
   "id": "ee70e0dd",
   "metadata": {
    "collapsed": true,
    "execution": {
     "iopub.execute_input": "2025-04-27T12:02:55.887373Z",
     "iopub.status.busy": "2025-04-27T12:02:55.886444Z",
     "iopub.status.idle": "2025-04-27T12:02:57.339981Z",
     "shell.execute_reply": "2025-04-27T12:02:57.339155Z"
    },
    "jupyter": {
     "outputs_hidden": true
    },
    "papermill": {
     "duration": 1.467245,
     "end_time": "2025-04-27T12:02:57.341630",
     "exception": false,
     "start_time": "2025-04-27T12:02:55.874385",
     "status": "completed"
    },
    "tags": []
   },
   "outputs": [
    {
     "name": "stderr",
     "output_type": "stream",
     "text": [
      "/usr/local/lib/python3.11/dist-packages/seaborn/_oldcore.py:1119: FutureWarning: use_inf_as_na option is deprecated and will be removed in a future version. Convert inf values to NaN before operating instead.\n",
      "  with pd.option_context('mode.use_inf_as_na', True):\n"
     ]
    },
    {
     "data": {
      "text/plain": [
       "<Axes: xlabel='Episode_Length_minutes', ylabel='Count'>"
      ]
     },
     "execution_count": 8,
     "metadata": {},
     "output_type": "execute_result"
    },
    {
     "data": {
      "image/png": "[encoded data removed]",
      "text/plain": [
       "<Figure size 640x480 with 1 Axes>"
      ]
     },
     "metadata": {},
     "output_type": "display_data"
    }
   ],
   "source": [
    "sns.histplot(test_df['Episode_Length_minutes'].dropna(), bins=100, kde=True)"
   ]
  },
  {
   "cell_type": "code",
   "execution_count": 9,
   "id": "e9da2be0",
   "metadata": {
    "execution": {
     "iopub.execute_input": "2025-04-27T12:02:57.366105Z",
     "iopub.status.busy": "2025-04-27T12:02:57.365797Z",
     "iopub.status.idle": "2025-04-27T12:02:57.377876Z",
     "shell.execute_reply": "2025-04-27T12:02:57.376906Z"
    },
    "papermill": {
     "duration": 0.026199,
     "end_time": "2025-04-27T12:02:57.379579",
     "exception": false,
     "start_time": "2025-04-27T12:02:57.353380",
     "status": "completed"
    },
    "tags": []
   },
   "outputs": [],
   "source": [
    "upper = test_df['Episode_Length_minutes'].quantile(0.99)"
   ]
  },
  {
   "cell_type": "code",
   "execution_count": 10,
   "id": "9998ae2a",
   "metadata": {
    "execution": {
     "iopub.execute_input": "2025-04-27T12:02:57.403684Z",
     "iopub.status.busy": "2025-04-27T12:02:57.403336Z",
     "iopub.status.idle": "2025-04-27T12:02:57.418001Z",
     "shell.execute_reply": "2025-04-27T12:02:57.416905Z"
    },
    "papermill": {
     "duration": 0.028511,
     "end_time": "2025-04-27T12:02:57.419545",
     "exception": false,
     "start_time": "2025-04-27T12:02:57.391034",
     "status": "completed"
    },
    "tags": []
   },
   "outputs": [
    {
     "name": "stdout",
     "output_type": "stream",
     "text": [
      "Clipped Skewness: -0.0052217270817439525\n"
     ]
    },
    {
     "name": "stderr",
     "output_type": "stream",
     "text": [
      "/usr/local/lib/python3.11/dist-packages/pandas/core/computation/expressions.py:73: RuntimeWarning: invalid value encountered in less_equal\n",
      "  return op(a, b)\n"
     ]
    }
   ],
   "source": [
    "test_df['Episode_Length_minutes'] = test_df['Episode_Length_minutes'].clip(upper=upper)\n",
    "print(\"Clipped Skewness:\", test_df['Episode_Length_minutes'].skew())"
   ]
  },
  {
   "cell_type": "code",
   "execution_count": 11,
   "id": "f7388e25",
   "metadata": {
    "execution": {
     "iopub.execute_input": "2025-04-27T12:02:57.446932Z",
     "iopub.status.busy": "2025-04-27T12:02:57.446562Z",
     "iopub.status.idle": "2025-04-27T12:02:57.470239Z",
     "shell.execute_reply": "2025-04-27T12:02:57.469457Z"
    },
    "papermill": {
     "duration": 0.038157,
     "end_time": "2025-04-27T12:02:57.471962",
     "exception": false,
     "start_time": "2025-04-27T12:02:57.433805",
     "status": "completed"
    },
    "tags": []
   },
   "outputs": [
    {
     "data": {
      "text/plain": [
       "count    221264.000000\n",
       "mean         64.542858\n",
       "std          32.945031\n",
       "min           2.470000\n",
       "25%          35.780000\n",
       "50%          63.970000\n",
       "75%          94.150000\n",
       "max         119.010000\n",
       "Name: Episode_Length_minutes, dtype: float64"
      ]
     },
     "execution_count": 11,
     "metadata": {},
     "output_type": "execute_result"
    }
   ],
   "source": [
    "test_df['Episode_Length_minutes'].describe()"
   ]
  },
  {
   "cell_type": "code",
   "execution_count": 12,
   "id": "45029ed2",
   "metadata": {
    "collapsed": true,
    "execution": {
     "iopub.execute_input": "2025-04-27T12:02:57.497720Z",
     "iopub.status.busy": "2025-04-27T12:02:57.496844Z",
     "iopub.status.idle": "2025-04-27T12:02:57.521038Z",
     "shell.execute_reply": "2025-04-27T12:02:57.520032Z"
    },
    "jupyter": {
     "outputs_hidden": true
    },
    "papermill": {
     "duration": 0.03898,
     "end_time": "2025-04-27T12:02:57.522536",
     "exception": false,
     "start_time": "2025-04-27T12:02:57.483556",
     "status": "completed"
    },
    "tags": []
   },
   "outputs": [
    {
     "data": {
      "text/plain": [
       "87        119.01\n",
       "176       119.01\n",
       "529       119.01\n",
       "562       119.01\n",
       "625       119.01\n",
       "           ...  \n",
       "191670    117.60\n",
       "195880    117.60\n",
       "201417    117.60\n",
       "207509    117.60\n",
       "216522    117.60\n",
       "Name: Episode_Length_minutes, Length: 5000, dtype: float64"
      ]
     },
     "execution_count": 12,
     "metadata": {},
     "output_type": "execute_result"
    }
   ],
   "source": [
    "test_df['Episode_Length_minutes'].nlargest(5000)"
   ]
  },
  {
   "cell_type": "code",
   "execution_count": 13,
   "id": "7710137a",
   "metadata": {
    "collapsed": true,
    "execution": {
     "iopub.execute_input": "2025-04-27T12:02:57.551135Z",
     "iopub.status.busy": "2025-04-27T12:02:57.550293Z",
     "iopub.status.idle": "2025-04-27T12:02:57.934805Z",
     "shell.execute_reply": "2025-04-27T12:02:57.933704Z"
    },
    "jupyter": {
     "outputs_hidden": true
    },
    "papermill": {
     "duration": 0.40047,
     "end_time": "2025-04-27T12:02:57.936450",
     "exception": false,
     "start_time": "2025-04-27T12:02:57.535980",
     "status": "completed"
    },
    "tags": []
   },
   "outputs": [
    {
     "data": {
      "text/plain": [
       "<Axes: >"
      ]
     },
     "execution_count": 13,
     "metadata": {},
     "output_type": "execute_result"
    },
    {
     "data": {
      "image/png": "[encoded data removed]",
      "text/plain": [
       "<Figure size 640x480 with 1 Axes>"
      ]
     },
     "metadata": {},
     "output_type": "display_data"
    }
   ],
   "source": [
    "sns.heatmap(test_df.sample(2000).isnull(), cbar=False)"
   ]
  },
  {
   "cell_type": "code",
   "execution_count": 14,
   "id": "fbe95f85",
   "metadata": {
    "execution": {
     "iopub.execute_input": "2025-04-27T12:02:57.965108Z",
     "iopub.status.busy": "2025-04-27T12:02:57.964631Z",
     "iopub.status.idle": "2025-04-27T12:02:58.058656Z",
     "shell.execute_reply": "2025-04-27T12:02:58.057713Z"
    },
    "papermill": {
     "duration": 0.109779,
     "end_time": "2025-04-27T12:02:58.060232",
     "exception": false,
     "start_time": "2025-04-27T12:02:57.950453",
     "status": "completed"
    },
    "tags": []
   },
   "outputs": [
    {
     "data": {
      "text/plain": [
       "id                            0.000000\n",
       "Podcast_Name                  0.000000\n",
       "Episode_Title                 0.000000\n",
       "Episode_Length_minutes        0.114944\n",
       "Genre                         0.000000\n",
       "Host_Popularity_percentage    0.000000\n",
       "Publication_Day               0.000000\n",
       "Publication_Time              0.000000\n",
       "Number_of_Ads                 0.000000\n",
       "Episode_Sentiment             0.000000\n",
       "dtype: float64"
      ]
     },
     "execution_count": 14,
     "metadata": {},
     "output_type": "execute_result"
    }
   ],
   "source": [
    "test_df.isnull().mean()"
   ]
  },
  {
   "cell_type": "code",
   "execution_count": 15,
   "id": "760f8641",
   "metadata": {
    "execution": {
     "iopub.execute_input": "2025-04-27T12:02:58.163967Z",
     "iopub.status.busy": "2025-04-27T12:02:58.163521Z",
     "iopub.status.idle": "2025-04-27T12:02:58.187833Z",
     "shell.execute_reply": "2025-04-27T12:02:58.186869Z"
    },
    "papermill": {
     "duration": 0.040865,
     "end_time": "2025-04-27T12:02:58.189917",
     "exception": false,
     "start_time": "2025-04-27T12:02:58.149052",
     "status": "completed"
    },
    "tags": []
   },
   "outputs": [
    {
     "data": {
      "text/plain": [
       "id                           -8.717749e-17\n",
       "Episode_Length_minutes       -5.221727e-03\n",
       "Host_Popularity_percentage    1.174955e-02\n",
       "Number_of_Ads                 4.488675e+02\n",
       "dtype: float64"
      ]
     },
     "execution_count": 15,
     "metadata": {},
     "output_type": "execute_result"
    }
   ],
   "source": [
    "test_df[numerical_cols].skew()"
   ]
  },
  {
   "cell_type": "code",
   "execution_count": 16,
   "id": "76e7731c",
   "metadata": {
    "execution": {
     "iopub.execute_input": "2025-04-27T12:02:58.231245Z",
     "iopub.status.busy": "2025-04-27T12:02:58.230926Z",
     "iopub.status.idle": "2025-04-27T12:02:58.257236Z",
     "shell.execute_reply": "2025-04-27T12:02:58.256265Z"
    },
    "papermill": {
     "duration": 0.048935,
     "end_time": "2025-04-27T12:02:58.259010",
     "exception": false,
     "start_time": "2025-04-27T12:02:58.210075",
     "status": "completed"
    },
    "tags": []
   },
   "outputs": [
    {
     "data": {
      "text/plain": [
       "Episode_Length_minutes         -0.005222\n",
       "Host_Popularity_percentage      0.011750\n",
       "Number_of_Ads                 448.867463\n",
       "dtype: float64"
      ]
     },
     "execution_count": 16,
     "metadata": {},
     "output_type": "execute_result"
    }
   ],
   "source": [
    "test_df[['Episode_Length_minutes', 'Host_Popularity_percentage', 'Number_of_Ads']].skew()"
   ]
  },
  {
   "cell_type": "code",
   "execution_count": 17,
   "id": "19d8c622",
   "metadata": {
    "execution": {
     "iopub.execute_input": "2025-04-27T12:02:58.289139Z",
     "iopub.status.busy": "2025-04-27T12:02:58.288266Z",
     "iopub.status.idle": "2025-04-27T12:02:58.315950Z",
     "shell.execute_reply": "2025-04-27T12:02:58.314816Z"
    },
    "papermill": {
     "duration": 0.043251,
     "end_time": "2025-04-27T12:02:58.317510",
     "exception": false,
     "start_time": "2025-04-27T12:02:58.274259",
     "status": "completed"
    },
    "tags": []
   },
   "outputs": [
    {
     "data": {
      "text/html": [
       "<div>\n",
       "<style scoped>\n",
       "    .dataframe tbody tr th:only-of-type {\n",
       "        vertical-align: middle;\n",
       "    }\n",
       "\n",
       "    .dataframe tbody tr th {\n",
       "        vertical-align: top;\n",
       "    }\n",
       "\n",
       "    .dataframe thead th {\n",
       "        text-align: right;\n",
       "    }\n",
       "</style>\n",
       "<table border=\"1\" class=\"dataframe\">\n",
       "  <thead>\n",
       "    <tr style=\"text-align: right;\">\n",
       "      <th></th>\n",
       "      <th>id</th>\n",
       "      <th>Podcast_Name</th>\n",
       "      <th>Episode_Title</th>\n",
       "      <th>Episode_Length_minutes</th>\n",
       "      <th>Genre</th>\n",
       "      <th>Host_Popularity_percentage</th>\n",
       "      <th>Publication_Day</th>\n",
       "      <th>Publication_Time</th>\n",
       "      <th>Number_of_Ads</th>\n",
       "      <th>Episode_Sentiment</th>\n",
       "    </tr>\n",
       "  </thead>\n",
       "  <tbody>\n",
       "    <tr>\n",
       "      <th>0</th>\n",
       "      <td>750000</td>\n",
       "      <td>Educational Nuggets</td>\n",
       "      <td>Episode 73</td>\n",
       "      <td>78.96</td>\n",
       "      <td>Education</td>\n",
       "      <td>38.11</td>\n",
       "      <td>Saturday</td>\n",
       "      <td>Evening</td>\n",
       "      <td>1.0</td>\n",
       "      <td>Neutral</td>\n",
       "    </tr>\n",
       "    <tr>\n",
       "      <th>1</th>\n",
       "      <td>750001</td>\n",
       "      <td>Sound Waves</td>\n",
       "      <td>Episode 23</td>\n",
       "      <td>27.87</td>\n",
       "      <td>Music</td>\n",
       "      <td>71.29</td>\n",
       "      <td>Sunday</td>\n",
       "      <td>Morning</td>\n",
       "      <td>0.0</td>\n",
       "      <td>Neutral</td>\n",
       "    </tr>\n",
       "    <tr>\n",
       "      <th>2</th>\n",
       "      <td>750002</td>\n",
       "      <td>Joke Junction</td>\n",
       "      <td>Episode 11</td>\n",
       "      <td>69.10</td>\n",
       "      <td>Comedy</td>\n",
       "      <td>67.89</td>\n",
       "      <td>Friday</td>\n",
       "      <td>Evening</td>\n",
       "      <td>0.0</td>\n",
       "      <td>Positive</td>\n",
       "    </tr>\n",
       "    <tr>\n",
       "      <th>3</th>\n",
       "      <td>750003</td>\n",
       "      <td>Comedy Corner</td>\n",
       "      <td>Episode 73</td>\n",
       "      <td>115.39</td>\n",
       "      <td>Comedy</td>\n",
       "      <td>23.40</td>\n",
       "      <td>Sunday</td>\n",
       "      <td>Morning</td>\n",
       "      <td>2.0</td>\n",
       "      <td>Positive</td>\n",
       "    </tr>\n",
       "    <tr>\n",
       "      <th>4</th>\n",
       "      <td>750004</td>\n",
       "      <td>Life Lessons</td>\n",
       "      <td>Episode 50</td>\n",
       "      <td>72.32</td>\n",
       "      <td>Lifestyle</td>\n",
       "      <td>58.10</td>\n",
       "      <td>Wednesday</td>\n",
       "      <td>Morning</td>\n",
       "      <td>2.0</td>\n",
       "      <td>Neutral</td>\n",
       "    </tr>\n",
       "  </tbody>\n",
       "</table>\n",
       "</div>"
      ],
      "text/plain": [
       "       id         Podcast_Name Episode_Title  Episode_Length_minutes  \\\n",
       "0  750000  Educational Nuggets    Episode 73                   78.96   \n",
       "1  750001          Sound Waves    Episode 23                   27.87   \n",
       "2  750002        Joke Junction    Episode 11                   69.10   \n",
       "3  750003        Comedy Corner    Episode 73                  115.39   \n",
       "4  750004         Life Lessons    Episode 50                   72.32   \n",
       "\n",
       "       Genre  Host_Popularity_percentage Publication_Day Publication_Time  \\\n",
       "0  Education                       38.11        Saturday          Evening   \n",
       "1      Music                       71.29          Sunday          Morning   \n",
       "2     Comedy                       67.89          Friday          Evening   \n",
       "3     Comedy                       23.40          Sunday          Morning   \n",
       "4  Lifestyle                       58.10       Wednesday          Morning   \n",
       "\n",
       "   Number_of_Ads Episode_Sentiment  \n",
       "0            1.0           Neutral  \n",
       "1            0.0           Neutral  \n",
       "2            0.0          Positive  \n",
       "3            2.0          Positive  \n",
       "4            2.0           Neutral  "
      ]
     },
     "execution_count": 17,
     "metadata": {},
     "output_type": "execute_result"
    }
   ],
   "source": [
    "test_df.head()"
   ]
  },
  {
   "cell_type": "code",
   "execution_count": 18,
   "id": "2645b890",
   "metadata": {
    "execution": {
     "iopub.execute_input": "2025-04-27T12:02:58.346108Z",
     "iopub.status.busy": "2025-04-27T12:02:58.345805Z",
     "iopub.status.idle": "2025-04-27T12:02:58.357546Z",
     "shell.execute_reply": "2025-04-27T12:02:58.356449Z"
    },
    "papermill": {
     "duration": 0.027938,
     "end_time": "2025-04-27T12:02:58.359212",
     "exception": false,
     "start_time": "2025-04-27T12:02:58.331274",
     "status": "completed"
    },
    "tags": []
   },
   "outputs": [
    {
     "data": {
      "text/plain": [
       "3.0"
      ]
     },
     "execution_count": 18,
     "metadata": {},
     "output_type": "execute_result"
    }
   ],
   "source": [
    "upper = test_df['Number_of_Ads'].quantile(0.99)\n",
    "upper"
   ]
  },
  {
   "cell_type": "code",
   "execution_count": 19,
   "id": "2dd6a953",
   "metadata": {
    "execution": {
     "iopub.execute_input": "2025-04-27T12:02:58.388284Z",
     "iopub.status.busy": "2025-04-27T12:02:58.387878Z",
     "iopub.status.idle": "2025-04-27T12:02:58.397306Z",
     "shell.execute_reply": "2025-04-27T12:02:58.396456Z"
    },
    "papermill": {
     "duration": 0.026066,
     "end_time": "2025-04-27T12:02:58.399026",
     "exception": false,
     "start_time": "2025-04-27T12:02:58.372960",
     "status": "completed"
    },
    "tags": []
   },
   "outputs": [],
   "source": [
    "test_df['Number_of_Ads'] = test_df['Number_of_Ads'].clip(upper=upper)"
   ]
  },
  {
   "cell_type": "code",
   "execution_count": 20,
   "id": "f0cb7299",
   "metadata": {
    "execution": {
     "iopub.execute_input": "2025-04-27T12:02:58.428528Z",
     "iopub.status.busy": "2025-04-27T12:02:58.427626Z",
     "iopub.status.idle": "2025-04-27T12:02:58.442545Z",
     "shell.execute_reply": "2025-04-27T12:02:58.441686Z"
    },
    "papermill": {
     "duration": 0.031158,
     "end_time": "2025-04-27T12:02:58.444391",
     "exception": false,
     "start_time": "2025-04-27T12:02:58.413233",
     "status": "completed"
    },
    "tags": []
   },
   "outputs": [
    {
     "data": {
      "text/plain": [
       "14    3.0\n",
       "15    3.0\n",
       "26    3.0\n",
       "28    3.0\n",
       "40    3.0\n",
       "Name: Number_of_Ads, dtype: float64"
      ]
     },
     "execution_count": 20,
     "metadata": {},
     "output_type": "execute_result"
    }
   ],
   "source": [
    "test_df['Number_of_Ads'].nlargest(5)"
   ]
  },
  {
   "cell_type": "code",
   "execution_count": 21,
   "id": "f2348b14",
   "metadata": {
    "execution": {
     "iopub.execute_input": "2025-04-27T12:02:58.485863Z",
     "iopub.status.busy": "2025-04-27T12:02:58.485105Z",
     "iopub.status.idle": "2025-04-27T12:02:58.871905Z",
     "shell.execute_reply": "2025-04-27T12:02:58.870861Z"
    },
    "papermill": {
     "duration": 0.404349,
     "end_time": "2025-04-27T12:02:58.873816",
     "exception": false,
     "start_time": "2025-04-27T12:02:58.469467",
     "status": "completed"
    },
    "tags": []
   },
   "outputs": [
    {
     "name": "stderr",
     "output_type": "stream",
     "text": [
      "/usr/local/lib/python3.11/dist-packages/seaborn/_oldcore.py:1119: FutureWarning: use_inf_as_na option is deprecated and will be removed in a future version. Convert inf values to NaN before operating instead.\n",
      "  with pd.option_context('mode.use_inf_as_na', True):\n"
     ]
    },
    {
     "data": {
      "text/plain": [
       "<Axes: xlabel='Number_of_Ads', ylabel='Count'>"
      ]
     },
     "execution_count": 21,
     "metadata": {},
     "output_type": "execute_result"
    },
    {
     "data": {
      "image/png": "[encoded data removed]",
      "text/plain": [
       "<Figure size 640x480 with 1 Axes>"
      ]
     },
     "metadata": {},
     "output_type": "display_data"
    }
   ],
   "source": [
    "sns.histplot(test_df['Number_of_Ads'].sample(2000), kde=True)"
   ]
  },
  {
   "cell_type": "code",
   "execution_count": 22,
   "id": "db90694a",
   "metadata": {
    "execution": {
     "iopub.execute_input": "2025-04-27T12:02:58.904811Z",
     "iopub.status.busy": "2025-04-27T12:02:58.903997Z",
     "iopub.status.idle": "2025-04-27T12:03:00.811694Z",
     "shell.execute_reply": "2025-04-27T12:03:00.810936Z"
    },
    "papermill": {
     "duration": 1.924931,
     "end_time": "2025-04-27T12:03:00.813348",
     "exception": false,
     "start_time": "2025-04-27T12:02:58.888417",
     "status": "completed"
    },
    "tags": []
   },
   "outputs": [
    {
     "data": {
      "text/html": [
       "<html>\n",
       "<head><meta charset=\"utf-8\" /></head>\n",
       "<body>\n",
       "    <div>            <script src=\"https://cdnjs.cloudflare.com/ajax/libs/mathjax/2.7.5/MathJax.js?config=TeX-AMS-MML_SVG\"></script><script type=\"text/javascript\">if (window.MathJax && window.MathJax.Hub && window.MathJax.Hub.Config) {window.MathJax.Hub.Config({SVG: {font: \"STIX-Web\"}});}</script>                <script type=\"text/javascript\">window.PlotlyConfig = {MathJaxConfig: 'local'};</script>\n",
       "        <script charset=\"utf-8\" src=\"https://cdn.plot.ly/plotly-2.35.2.min.js\"></script>                <div id=\"c28ca4c9-f103-4005-92ce-7d0c26392784\" class=\"plotly-graph-div\" style=\"height:525px; width:100%;\"></div>            <script type=\"text/javascript\">                                    window.PLOTLYENV=window.PLOTLYENV || {};                                    if (document.getElementById(\"c28ca4c9-f103-4005-92ce-7d0c26392784\")) {                    Plotly.newPlot(                        \"c28ca4c9-f103-4005-92ce-7d0c26392784\",                        [{\"alignmentgroup\":\"True\",\"bingroup\":\"x\",\"hovertemplate\":\"Number_of_Ads=%{x}\\u003cbr\\u003ecount=%{y}\\u003cextra\\u003e\\u003c\\u002fextra\\u003e\",\"legendgroup\":\"\",\"marker\":{\"color\":\"#636efa\",\"pattern\":{\"shape\":\"\"}},\"name\":\"\",\"offsetgroup\":\"\",\"orientation\":\"v\",\"showlegend\":false,\"x\":[3.0,0.0,2.0,0.0,0.0,2.0,3.0,3.0,3.0,0.0,1.0,3.0,3.0,2.0,0.0,2.0,0.0,0.0,0.0,2.0,1.0,1.0,1.0,3.0,1.0,0.0,2.0,2.0,2.0,3.0,0.0,0.0,2.0,2.0,0.0,1.0,3.0,1.0,0.0,2.0,0.0,0.0,0.0,2.0,2.0,1.0,0.0,3.0,1.0,2.0,0.0,1.0,2.0,1.0,2.0,2.0,0.0,0.0,1.0,3.0,0.0,1.0,1.0,1.0,3.0,3.0,1.0,1.0,0.0,2.0,1.0,2.0,1.0,3.0,2.0,1.0,1.0,0.0,0.0,1.0,2.0,0.0,3.0,0.0,1.0,2.0,3.0,0.0,0.0,0.0,0.0,1.0,3.0,2.0,2.0,0.0,1.0,2.0,1.0,0.0,1.0,2.0,3.0,1.0,0.0,2.0,0.0,2.0,3.0,2.0,2.0,3.0,2.0,1.0,3.0,3.0,1.0,2.0,3.0,2.0,0.0,3.0,1.0,3.0,0.0,0.0,3.0,0.0,3.0,1.0,3.0,3.0,2.0,2.0,2.0,3.0,0.0,1.0,2.0,0.0,3.0,1.0,0.0,2.0,1.0,2.0,3.0,2.0,1.0,2.0,3.0,1.0,1.0,3.0,3.0,2.0,1.0,2.0,3.0,1.0,1.0,1.0,3.0,0.0,2.0,3.0,0.0,0.0,0.0,2.0,1.0,1.0,0.0,2.0,3.0,0.0,3.0,2.0,0.0,1.0,0.0,0.0,0.0,2.0,3.0,1.0,0.0,3.0,2.0,3.0,1.0,3.0,2.0,0.0,3.0,2.0,0.0,1.0,3.0,0.0,0.0,3.0,1.0,1.0,3.0,3.0,2.0,1.0,0.0,3.0,2.0,3.0,2.0,0.0,1.0,0.0,2.0,3.0,1.0,2.0,1.0,1.0,1.0,1.0,0.0,0.0,1.0,0.0,0.0,0.0,0.0,3.0,0.0,3.0,3.0,2.0,1.0,1.0,0.0,1.0,1.0,0.0,3.0,3.0,2.0,3.0,0.0,3.0,2.0,1.0,2.0,0.0,0.0,1.0,3.0,0.0,1.0,3.0,3.0,3.0,2.0,3.0,3.0,1.0,0.0,3.0,0.0,3.0,3.0,0.0,2.0,1.0,2.0,1.0,1.0,3.0,1.0,1.0,2.0,0.0,3.0,1.0,3.0,0.0,2.0,1.0,3.0,0.0,1.0,1.0,3.0,1.0,0.0,2.0,1.0,2.0,3.0,0.0,2.0,0.0,3.0,3.0,2.0,1.0,1.0,2.0,1.0,0.0,1.0,1.0,1.0,1.0,2.0,2.0,0.0,3.0,0.0,1.0,1.0,1.0,3.0,0.0,0.0,2.0,1.0,0.0,0.0,1.0,0.0,2.0,1.0,0.0,0.0,1.0,0.0,1.0,0.0,1.0,0.0,1.0,3.0,1.0,0.0,3.0,3.0,1.0,0.0,0.0,3.0,0.0,0.0,0.0,1.0,2.0,0.0,0.0,2.0,1.0,0.0,3.0,2.0,3.0,0.0,0.0,3.0,2.0,1.0,1.0,1.0,0.0,1.0,1.0,3.0,0.0,1.0,0.0,3.0,2.0,0.0,1.0,2.0,3.0,0.0,3.0,3.0,2.0,0.0,0.0,1.0,2.0,0.0,0.0,3.0,0.0,3.0,2.0,0.0,0.0,0.0,0.0,3.0,2.0,1.0,0.0,2.0,1.0,1.0,1.0,0.0,3.0,0.0,2.0,2.0,2.0,2.0,3.0,1.0,2.0,2.0,0.0,0.0,0.0,0.0,3.0,2.0,2.0,1.0,2.0,1.0,1.0,3.0,1.0,0.0,2.0,0.0,3.0,1.0,3.0,2.0,1.0,2.0,3.0,3.0,1.0,0.0,1.0,0.0,2.0,3.0,0.0,0.0,2.0,2.0,3.0,2.0,1.0,1.0,0.0,2.0,1.0,1.0,2.0,1.0,0.0,0.0,2.0,0.0,3.0,1.0,0.0,0.0,1.0,3.0,0.0,1.0,3.0,3.0,2.0,2.0,0.0,3.0,1.0,2.0,3.0,1.0,0.0,0.0,0.0,0.0,3.0,2.0,0.0,1.0,0.0,3.0,0.0,3.0,3.0,0.0,0.0,1.0,2.0,0.0,1.0,2.0,3.0,1.0,3.0,0.0,3.0,0.0,3.0,1.0,3.0,3.0,0.0,1.0,3.0,1.0,3.0,2.0,2.0,1.0,1.0,2.0,2.0,2.0,3.0,0.0,3.0,0.0,3.0,1.0,0.0,2.0,0.0,1.0,1.0,2.0,0.0,2.0,3.0,1.0,2.0,1.0,0.0,2.0,0.0,0.0,3.0,2.0,1.0,3.0,2.0,3.0,3.0,3.0,1.0,2.0,2.0,1.0,3.0,1.0,2.0,1.0,1.0,1.0,3.0,3.0,3.0,0.0,3.0,3.0,3.0,3.0,2.0,1.0,1.0,0.0,2.0,1.0,0.0,0.0,0.0,0.0,0.0,3.0,0.0,1.0,0.0,3.0,1.0,0.0,0.0,0.0,0.0,1.0,0.0,2.0,3.0,1.0,2.0,0.0,2.0,2.0,3.0,0.0,0.0,0.0,1.0,3.0,2.0,2.0,0.0,2.0,2.0,3.0,3.0,0.0,1.0,2.0,2.0,0.0,0.0,0.0,1.0,2.0,2.0,0.0,3.0,3.0,2.0,3.0,2.0,2.0,2.0,3.0,1.0,2.0,2.0,2.0,2.0,1.0,2.0,3.0,1.0,0.0,1.0,1.0,0.0,3.0,0.0,3.0,1.0,1.0,1.0,3.0,1.0,3.0,3.0,3.0,2.0,1.0,2.0,3.0,3.0,1.0,0.0,0.0,3.0,0.0,1.0,2.0,2.0,0.0,0.0,3.0,2.0,3.0,1.0,0.0,0.0,3.0,3.0,1.0,0.0,3.0,0.0,0.0,2.0,1.0,3.0,0.0,0.0,2.0,0.0,0.0,1.0,1.0,0.0,1.0,2.0,2.0,0.0,2.0,0.0,1.0,1.0,0.0,0.0,0.0,0.0,1.0,1.0,1.0,0.0,2.0,0.0,3.0,3.0,3.0,1.0,2.0,0.0,0.0,1.0,2.0,0.0,2.0,1.0,1.0,0.0,1.0,0.0,3.0,0.0,2.0,0.0,3.0,2.0,1.0,0.0,2.0,2.0,3.0,0.0,0.0,2.0,1.0,0.0,0.0,0.0,0.0,3.0,1.0,1.0,3.0,3.0,0.0,0.0,3.0,1.0,0.0,3.0,2.0,3.0,0.0,1.0,0.0,1.0,2.0,1.0,0.0,3.0,1.0,1.0,3.0,1.0,3.0,2.0,0.0,1.0,1.0,1.0,0.0,2.0,1.0,2.0,1.0,1.0,3.0,0.0,0.0,0.0,1.0,1.0,0.0,3.0,3.0,0.0,1.0,1.0,2.0,3.0,3.0,3.0,0.0,3.0,3.0,2.0,1.0,1.0,1.0,3.0,0.0,1.0,0.0,3.0,3.0,0.0,1.0,0.0,2.0,2.0,0.0,3.0,0.0,0.0,0.0,3.0,3.0,3.0,2.0,0.0,2.0,3.0,0.0,2.0,0.0,1.0,3.0,3.0,0.0,0.0,1.0,1.0,0.0,1.0,1.0,0.0,0.0,0.0,2.0,1.0,3.0,2.0,1.0,2.0,1.0,2.0,1.0,1.0,2.0,2.0,1.0,0.0,1.0,3.0,0.0,1.0,0.0,0.0,3.0,3.0,2.0,0.0,3.0,0.0,0.0,2.0,0.0,3.0,3.0,1.0,0.0,0.0,3.0,3.0,3.0,0.0,2.0,1.0,0.0,2.0,1.0,1.0,0.0,2.0,1.0,3.0,0.0,2.0,1.0,1.0,1.0,3.0,0.0,2.0,0.0,3.0,2.0,0.0,0.0,3.0,1.0,1.0,3.0,3.0,1.0,2.0,1.0,2.0,0.0,1.0,1.0,1.0,1.0,0.0,1.0,0.0,0.0,0.0,0.0,0.0,0.0,0.0,3.0,2.0,1.0,2.0,2.0,3.0,3.0,1.0,2.0,3.0,1.0,0.0,3.0,3.0,3.0,3.0,2.0,2.0,3.0,1.0,0.0,0.0,1.0,2.0,0.0,1.0,0.0,1.0,0.0,0.0,0.0,3.0,3.0,0.0,1.0,1.0,0.0,3.0,0.0,2.0,3.0,0.0,3.0,0.0,0.0,0.0,1.0,1.0,0.0,1.0,3.0,0.0,0.0,0.0,2.0,1.0,0.0,2.0,0.0,0.0,1.0,0.0,2.0,2.0,3.0,0.0,3.0,3.0,2.0,3.0,0.0,1.0,0.0,2.0,0.0,1.0,2.0,1.0,1.0,2.0,3.0,1.0,3.0,2.0,0.0,1.0,0.0,3.0,3.0,3.0,3.0,2.0,0.0,3.0,0.0,0.0,3.0,1.0,3.0,3.0,1.0,3.0,3.0,2.0,2.0,1.0,0.0,1.0,2.0,0.0,0.0,3.0,1.0,0.0,1.0,1.0,2.0,3.0,2.0,1.0,1.0,0.0,1.0,2.0,3.0,0.0,1.0,1.0,0.0,1.0,3.0,1.0,0.0,1.0,2.0,1.0,2.0,1.0,2.0,2.0,0.0,0.0,1.0,2.0,2.0,3.0,2.0,1.0,3.0,3.0,3.0,2.0,0.0,0.0,3.0,0.0,0.0,2.0,2.0,0.0,1.0,0.0,2.0,1.0,0.0,3.0,0.0,0.0,0.0,0.0,0.0,3.0,2.0,3.0,1.0,2.0,0.0,3.0,3.0,0.0,0.0,1.0,0.0,0.0,3.0,1.0,0.0,1.0,2.0,0.0,2.0,0.0,2.0,1.0,3.0,2.0,1.0,2.0,3.0,3.0,1.0,3.0,2.0,1.0,1.0,2.0,0.0,3.0,1.0,3.0,1.0,0.0,2.0,2.0,1.0,0.0,0.0,1.0,3.0,1.0,0.0,3.0,1.0,2.0,1.0,0.0,1.0,1.0,2.0,0.0,0.0,3.0,1.0,2.0,1.0,0.0,2.0,1.0,3.0,1.0,0.0,1.0,1.0,1.0,3.0,1.0,1.0,1.0,3.0,1.0,3.0,1.0,0.0,0.0,1.0,1.0,0.0,1.0,1.0,2.0,2.0,2.0,0.0,1.0,2.0,0.0,3.0,1.0,2.0,3.0,0.0,0.0,1.0,1.0,1.0,2.0,1.0,0.0,2.0,2.0,0.0,1.0,0.0,2.0,1.0,1.0,3.0,0.0,0.0,2.0,1.0,0.0,2.0,0.0,1.0,3.0,0.0,2.0,3.0,0.0,0.0,1.0,3.0,2.0,2.0,0.0,1.0,0.0,0.0,0.0,2.0,3.0,2.0,0.0,1.0,1.0,3.0,3.0,3.0,3.0,2.0,3.0,2.0,3.0,1.0,0.0,1.0,3.0,0.0,3.0,2.0,0.0,3.0,0.0,1.0,0.0,0.0,2.0,2.0,2.0,1.0,0.0,2.0,3.0,2.0,3.0,2.0,0.0,0.0,0.0,2.0,2.0,0.0,0.0,2.0,3.0,1.0,2.0,2.0,1.0,1.0,3.0,0.0,1.0,2.0,0.0,3.0,0.0,1.0,3.0,3.0,1.0,1.0,2.0,2.0,0.0,3.0,0.0,0.0,2.0,1.0,2.0,1.0,0.0,3.0,2.0,0.0,0.0,1.0,2.0,0.0,1.0,2.0,2.0,0.0,3.0,3.0,3.0,3.0,0.0,1.0,1.0,1.0,3.0,1.0,0.0,3.0,2.0,0.0,3.0,1.0,3.0,2.0,2.0,1.0,2.0,2.0,0.0,3.0,0.0,0.0,2.0,0.0,1.0,2.0,0.0,1.0,0.0,1.0,2.0,3.0,0.0,2.0,0.0,1.0,1.0,3.0,3.0,0.0,2.0,1.0,0.0,1.0,0.0,2.0,3.0,3.0,3.0,3.0,1.0,1.0,2.0,3.0,0.0,3.0,0.0,3.0,0.0,1.0,1.0,3.0,0.0,2.0,2.0,1.0,0.0,2.0,2.0,1.0,0.0,1.0,1.0,1.0,1.0,0.0,0.0,0.0,1.0,1.0,2.0,1.0,3.0,3.0,3.0,3.0,2.0,0.0,3.0,1.0,0.0,1.0,2.0,2.0,2.0,2.0,1.0,1.0,1.0,2.0,3.0,1.0,1.0,1.0,2.0,0.0,3.0,2.0,0.0,2.0,2.0,1.0,3.0,0.0,3.0,3.0,2.0,2.0,0.0,0.0,1.0,0.0,0.0,1.0,3.0,3.0,3.0,0.0,1.0,1.0,3.0,0.0,1.0,0.0,0.0,0.0,2.0,1.0,1.0,3.0,0.0,1.0,3.0,3.0,2.0,1.0,0.0,2.0,3.0,1.0,1.0,1.0,1.0,1.0,3.0,2.0,1.0,2.0,2.0,3.0,0.0,3.0,2.0,0.0,3.0,0.0,1.0,3.0,1.0,1.0,2.0,1.0,0.0,1.0,2.0,0.0,0.0,1.0,3.0,2.0,1.0,1.0,3.0,1.0,1.0,3.0,0.0,0.0,1.0,0.0,1.0,1.0,0.0,3.0,3.0,2.0,0.0,0.0,2.0,1.0,0.0,3.0,2.0,0.0,0.0,0.0,0.0,1.0,2.0,0.0,0.0,2.0,1.0,0.0,0.0,0.0,0.0,1.0,2.0,1.0,0.0,1.0,0.0,0.0,3.0,0.0,2.0,0.0,3.0,2.0,3.0,3.0,1.0,3.0,1.0,1.0,0.0,3.0,3.0,1.0,2.0,1.0,0.0,0.0,0.0,0.0,0.0,1.0,0.0,3.0,0.0,0.0,1.0,0.0,3.0,3.0,3.0,2.0,0.0,2.0,0.0,0.0,3.0,1.0,0.0,0.0,0.0,1.0,2.0,0.0,1.0,1.0,1.0,1.0,2.0,3.0,0.0,3.0,1.0,0.0,1.0,2.0,2.0,2.0,0.0,0.0,2.0,0.0,0.0,0.0,2.0,3.0,0.0,1.0,1.0,0.0,3.0,1.0,3.0,2.0,0.0,3.0,2.0,0.0,3.0,1.0,0.0,1.0,0.0,2.0,0.0,2.0,3.0,0.0,1.0,2.0,0.0,0.0,0.0,3.0,1.0,3.0,1.0,3.0,3.0,0.0,2.0,0.0,0.0,1.0,0.0,0.0,2.0,1.0,3.0,0.0,3.0,3.0,2.0,1.0,0.0,2.0,3.0,1.0,1.0,0.0,2.0,0.0,2.0,1.0,1.0,0.0,0.0,3.0,3.0,3.0,2.0,2.0,1.0,2.0,3.0,2.0,3.0,2.0,2.0,2.0,1.0,2.0,0.0,0.0,0.0,2.0,0.0,2.0,0.0,1.0,1.0,0.0,0.0,1.0,0.0,1.0,2.0,0.0,1.0,2.0,1.0,3.0,1.0,0.0,2.0,3.0,1.0,1.0,0.0,2.0,1.0,2.0,0.0,1.0,1.0,0.0,1.0,3.0,2.0,0.0,0.0,3.0,0.0,0.0,3.0,0.0,3.0,3.0,1.0,1.0,2.0,3.0,1.0,1.0,0.0,0.0,1.0,2.0,1.0,3.0,1.0,1.0,2.0,0.0,0.0,3.0,1.0,0.0,2.0,0.0,3.0,2.0,3.0,3.0,1.0,1.0,0.0,0.0,3.0,1.0,2.0,0.0,0.0,3.0,0.0,2.0,3.0,3.0,1.0,1.0,0.0,0.0,2.0,1.0,1.0,0.0,0.0,3.0,0.0,2.0,1.0,2.0,0.0,1.0,3.0,0.0,1.0,2.0,1.0,3.0,2.0,0.0,1.0,0.0,1.0,3.0,1.0,0.0,1.0,1.0,0.0,1.0,3.0,1.0,3.0,1.0,1.0,2.0,1.0,0.0,2.0,1.0,0.0,0.0,0.0,2.0,1.0,1.0,0.0,3.0,0.0,1.0,2.0,2.0,0.0,0.0,1.0,0.0,1.0,0.0,3.0,3.0,1.0,2.0,2.0,3.0,3.0,3.0,3.0,0.0,1.0,3.0,1.0,3.0,1.0,2.0,0.0,0.0,3.0,2.0,0.0,3.0,0.0,2.0,0.0,0.0,0.0,2.0,2.0,1.0,2.0,1.0,3.0,0.0,0.0,1.0,3.0,0.0,0.0,1.0,0.0,0.0,0.0,1.0,3.0,1.0,1.0,3.0,3.0,3.0,1.0,3.0,0.0,0.0,1.0,2.0,3.0,3.0,1.0,1.0,0.0,2.0,2.0,1.0,0.0,1.0,2.0,1.0,0.0,0.0,2.0,2.0,3.0,2.0,3.0,0.0,0.0,0.0,3.0,0.0,2.0,2.0,0.0,3.0,3.0,1.0,1.0,2.0,0.0,1.0,3.0,0.0,0.0,0.0,2.0,2.0,0.0,3.0,2.0,1.0,3.0,2.0,1.0,0.0,2.0,1.0,0.0,1.0,3.0,0.0,0.0,0.0,0.0,0.0,1.0,3.0,1.0,3.0,3.0,1.0,1.0,1.0,0.0,0.0,0.0,3.0,1.0,0.0,2.0,1.0,3.0,1.0,0.0,1.0,2.0,1.0,1.0,3.0,1.0,0.0,1.0,2.0,0.0,1.0,0.0,2.0,1.0,2.0,1.0],\"xaxis\":\"x\",\"yaxis\":\"y\",\"type\":\"histogram\"}],                        {\"template\":{\"data\":{\"histogram2dcontour\":[{\"type\":\"histogram2dcontour\",\"colorbar\":{\"outlinewidth\":0,\"ticks\":\"\"},\"colorscale\":[[0.0,\"#0d0887\"],[0.1111111111111111,\"#46039f\"],[0.2222222222222222,\"#7201a8\"],[0.3333333333333333,\"#9c179e\"],[0.4444444444444444,\"#bd3786\"],[0.5555555555555556,\"#d8576b\"],[0.6666666666666666,\"#ed7953\"],[0.7777777777777778,\"#fb9f3a\"],[0.8888888888888888,\"#fdca26\"],[1.0,\"#f0f921\"]]}],\"choropleth\":[{\"type\":\"choropleth\",\"colorbar\":{\"outlinewidth\":0,\"ticks\":\"\"}}],\"histogram2d\":[{\"type\":\"histogram2d\",\"colorbar\":{\"outlinewidth\":0,\"ticks\":\"\"},\"colorscale\":[[0.0,\"#0d0887\"],[0.1111111111111111,\"#46039f\"],[0.2222222222222222,\"#7201a8\"],[0.3333333333333333,\"#9c179e\"],[0.4444444444444444,\"#bd3786\"],[0.5555555555555556,\"#d8576b\"],[0.6666666666666666,\"#ed7953\"],[0.7777777777777778,\"#fb9f3a\"],[0.8888888888888888,\"#fdca26\"],[1.0,\"#f0f921\"]]}],\"heatmap\":[{\"type\":\"heatmap\",\"colorbar\":{\"outlinewidth\":0,\"ticks\":\"\"},\"colorscale\":[[0.0,\"#0d0887\"],[0.1111111111111111,\"#46039f\"],[0.2222222222222222,\"#7201a8\"],[0.3333333333333333,\"#9c179e\"],[0.4444444444444444,\"#bd3786\"],[0.5555555555555556,\"#d8576b\"],[0.6666666666666666,\"#ed7953\"],[0.7777777777777778,\"#fb9f3a\"],[0.8888888888888888,\"#fdca26\"],[1.0,\"#f0f921\"]]}],\"heatmapgl\":[{\"type\":\"heatmapgl\",\"colorbar\":{\"outlinewidth\":0,\"ticks\":\"\"},\"colorscale\":[[0.0,\"#0d0887\"],[0.1111111111111111,\"#46039f\"],[0.2222222222222222,\"#7201a8\"],[0.3333333333333333,\"#9c179e\"],[0.4444444444444444,\"#bd3786\"],[0.5555555555555556,\"#d8576b\"],[0.6666666666666666,\"#ed7953\"],[0.7777777777777778,\"#fb9f3a\"],[0.8888888888888888,\"#fdca26\"],[1.0,\"#f0f921\"]]}],\"contourcarpet\":[{\"type\":\"contourcarpet\",\"colorbar\":{\"outlinewidth\":0,\"ticks\":\"\"}}],\"contour\":[{\"type\":\"contour\",\"colorbar\":{\"outlinewidth\":0,\"ticks\":\"\"},\"colorscale\":[[0.0,\"#0d0887\"],[0.1111111111111111,\"#46039f\"],[0.2222222222222222,\"#7201a8\"],[0.3333333333333333,\"#9c179e\"],[0.4444444444444444,\"#bd3786\"],[0.5555555555555556,\"#d8576b\"],[0.6666666666666666,\"#ed7953\"],[0.7777777777777778,\"#fb9f3a\"],[0.8888888888888888,\"#fdca26\"],[1.0,\"#f0f921\"]]}],\"surface\":[{\"type\":\"surface\",\"colorbar\":{\"outlinewidth\":0,\"ticks\":\"\"},\"colorscale\":[[0.0,\"#0d0887\"],[0.1111111111111111,\"#46039f\"],[0.2222222222222222,\"#7201a8\"],[0.3333333333333333,\"#9c179e\"],[0.4444444444444444,\"#bd3786\"],[0.5555555555555556,\"#d8576b\"],[0.6666666666666666,\"#ed7953\"],[0.7777777777777778,\"#fb9f3a\"],[0.8888888888888888,\"#fdca26\"],[1.0,\"#f0f921\"]]}],\"mesh3d\":[{\"type\":\"mesh3d\",\"colorbar\":{\"outlinewidth\":0,\"ticks\":\"\"}}],\"scatter\":[{\"fillpattern\":{\"fillmode\":\"overlay\",\"size\":10,\"solidity\":0.2},\"type\":\"scatter\"}],\"parcoords\":[{\"type\":\"parcoords\",\"line\":{\"colorbar\":{\"outlinewidth\":0,\"ticks\":\"\"}}}],\"scatterpolargl\":[{\"type\":\"scatterpolargl\",\"marker\":{\"colorbar\":{\"outlinewidth\":0,\"ticks\":\"\"}}}],\"bar\":[{\"error_x\":{\"color\":\"#2a3f5f\"},\"error_y\":{\"color\":\"#2a3f5f\"},\"marker\":{\"line\":{\"color\":\"#E5ECF6\",\"width\":0.5},\"pattern\":{\"fillmode\":\"overlay\",\"size\":10,\"solidity\":0.2}},\"type\":\"bar\"}],\"scattergeo\":[{\"type\":\"scattergeo\",\"marker\":{\"colorbar\":{\"outlinewidth\":0,\"ticks\":\"\"}}}],\"scatterpolar\":[{\"type\":\"scatterpolar\",\"marker\":{\"colorbar\":{\"outlinewidth\":0,\"ticks\":\"\"}}}],\"histogram\":[{\"marker\":{\"pattern\":{\"fillmode\":\"overlay\",\"size\":10,\"solidity\":0.2}},\"type\":\"histogram\"}],\"scattergl\":[{\"type\":\"scattergl\",\"marker\":{\"colorbar\":{\"outlinewidth\":0,\"ticks\":\"\"}}}],\"scatter3d\":[{\"type\":\"scatter3d\",\"line\":{\"colorbar\":{\"outlinewidth\":0,\"ticks\":\"\"}},\"marker\":{\"colorbar\":{\"outlinewidth\":0,\"ticks\":\"\"}}}],\"scattermapbox\":[{\"type\":\"scattermapbox\",\"marker\":{\"colorbar\":{\"outlinewidth\":0,\"ticks\":\"\"}}}],\"scatterternary\":[{\"type\":\"scatterternary\",\"marker\":{\"colorbar\":{\"outlinewidth\":0,\"ticks\":\"\"}}}],\"scattercarpet\":[{\"type\":\"scattercarpet\",\"marker\":{\"colorbar\":{\"outlinewidth\":0,\"ticks\":\"\"}}}],\"carpet\":[{\"aaxis\":{\"endlinecolor\":\"#2a3f5f\",\"gridcolor\":\"white\",\"linecolor\":\"white\",\"minorgridcolor\":\"white\",\"startlinecolor\":\"#2a3f5f\"},\"baxis\":{\"endlinecolor\":\"#2a3f5f\",\"gridcolor\":\"white\",\"linecolor\":\"white\",\"minorgridcolor\":\"white\",\"startlinecolor\":\"#2a3f5f\"},\"type\":\"carpet\"}],\"table\":[{\"cells\":{\"fill\":{\"color\":\"#EBF0F8\"},\"line\":{\"color\":\"white\"}},\"header\":{\"fill\":{\"color\":\"#C8D4E3\"},\"line\":{\"color\":\"white\"}},\"type\":\"table\"}],\"barpolar\":[{\"marker\":{\"line\":{\"color\":\"#E5ECF6\",\"width\":0.5},\"pattern\":{\"fillmode\":\"overlay\",\"size\":10,\"solidity\":0.2}},\"type\":\"barpolar\"}],\"pie\":[{\"automargin\":true,\"type\":\"pie\"}]},\"layout\":{\"autotypenumbers\":\"strict\",\"colorway\":[\"#636efa\",\"#EF553B\",\"#00cc96\",\"#ab63fa\",\"#FFA15A\",\"#19d3f3\",\"#FF6692\",\"#B6E880\",\"#FF97FF\",\"#FECB52\"],\"font\":{\"color\":\"#2a3f5f\"},\"hovermode\":\"closest\",\"hoverlabel\":{\"align\":\"left\"},\"paper_bgcolor\":\"white\",\"plot_bgcolor\":\"#E5ECF6\",\"polar\":{\"bgcolor\":\"#E5ECF6\",\"angularaxis\":{\"gridcolor\":\"white\",\"linecolor\":\"white\",\"ticks\":\"\"},\"radialaxis\":{\"gridcolor\":\"white\",\"linecolor\":\"white\",\"ticks\":\"\"}},\"ternary\":{\"bgcolor\":\"#E5ECF6\",\"aaxis\":{\"gridcolor\":\"white\",\"linecolor\":\"white\",\"ticks\":\"\"},\"baxis\":{\"gridcolor\":\"white\",\"linecolor\":\"white\",\"ticks\":\"\"},\"caxis\":{\"gridcolor\":\"white\",\"linecolor\":\"white\",\"ticks\":\"\"}},\"coloraxis\":{\"colorbar\":{\"outlinewidth\":0,\"ticks\":\"\"}},\"colorscale\":{\"sequential\":[[0.0,\"#0d0887\"],[0.1111111111111111,\"#46039f\"],[0.2222222222222222,\"#7201a8\"],[0.3333333333333333,\"#9c179e\"],[0.4444444444444444,\"#bd3786\"],[0.5555555555555556,\"#d8576b\"],[0.6666666666666666,\"#ed7953\"],[0.7777777777777778,\"#fb9f3a\"],[0.8888888888888888,\"#fdca26\"],[1.0,\"#f0f921\"]],\"sequentialminus\":[[0.0,\"#0d0887\"],[0.1111111111111111,\"#46039f\"],[0.2222222222222222,\"#7201a8\"],[0.3333333333333333,\"#9c179e\"],[0.4444444444444444,\"#bd3786\"],[0.5555555555555556,\"#d8576b\"],[0.6666666666666666,\"#ed7953\"],[0.7777777777777778,\"#fb9f3a\"],[0.8888888888888888,\"#fdca26\"],[1.0,\"#f0f921\"]],\"diverging\":[[0,\"#8e0152\"],[0.1,\"#c51b7d\"],[0.2,\"#de77ae\"],[0.3,\"#f1b6da\"],[0.4,\"#fde0ef\"],[0.5,\"#f7f7f7\"],[0.6,\"#e6f5d0\"],[0.7,\"#b8e186\"],[0.8,\"#7fbc41\"],[0.9,\"#4d9221\"],[1,\"#276419\"]]},\"xaxis\":{\"gridcolor\":\"white\",\"linecolor\":\"white\",\"ticks\":\"\",\"title\":{\"standoff\":15},\"zerolinecolor\":\"white\",\"automargin\":true,\"zerolinewidth\":2},\"yaxis\":{\"gridcolor\":\"white\",\"linecolor\":\"white\",\"ticks\":\"\",\"title\":{\"standoff\":15},\"zerolinecolor\":\"white\",\"automargin\":true,\"zerolinewidth\":2},\"scene\":{\"xaxis\":{\"backgroundcolor\":\"#E5ECF6\",\"gridcolor\":\"white\",\"linecolor\":\"white\",\"showbackground\":true,\"ticks\":\"\",\"zerolinecolor\":\"white\",\"gridwidth\":2},\"yaxis\":{\"backgroundcolor\":\"#E5ECF6\",\"gridcolor\":\"white\",\"linecolor\":\"white\",\"showbackground\":true,\"ticks\":\"\",\"zerolinecolor\":\"white\",\"gridwidth\":2},\"zaxis\":{\"backgroundcolor\":\"#E5ECF6\",\"gridcolor\":\"white\",\"linecolor\":\"white\",\"showbackground\":true,\"ticks\":\"\",\"zerolinecolor\":\"white\",\"gridwidth\":2}},\"shapedefaults\":{\"line\":{\"color\":\"#2a3f5f\"}},\"annotationdefaults\":{\"arrowcolor\":\"#2a3f5f\",\"arrowhead\":0,\"arrowwidth\":1},\"geo\":{\"bgcolor\":\"white\",\"landcolor\":\"#E5ECF6\",\"subunitcolor\":\"white\",\"showland\":true,\"showlakes\":true,\"lakecolor\":\"white\"},\"title\":{\"x\":0.05},\"mapbox\":{\"style\":\"light\"}}},\"xaxis\":{\"anchor\":\"y\",\"domain\":[0.0,1.0],\"title\":{\"text\":\"Number_of_Ads\"}},\"yaxis\":{\"anchor\":\"x\",\"domain\":[0.0,1.0],\"title\":{\"text\":\"count\"}},\"legend\":{\"tracegroupgap\":0},\"margin\":{\"t\":60},\"barmode\":\"relative\"},                        {\"responsive\": true}                    ).then(function(){\n",
       "                            \n",
       "var gd = document.getElementById('c28ca4c9-f103-4005-92ce-7d0c26392784');\n",
       "var x = new MutationObserver(function (mutations, observer) {{\n",
       "        var display = window.getComputedStyle(gd).display;\n",
       "        if (!display || display === 'none') {{\n",
       "            console.log([gd, 'removed!']);\n",
       "            Plotly.purge(gd);\n",
       "            observer.disconnect();\n",
       "        }}\n",
       "}});\n",
       "\n",
       "// Listen for the removal of the full notebook cells\n",
       "var notebookContainer = gd.closest('#notebook-container');\n",
       "if (notebookContainer) {{\n",
       "    x.observe(notebookContainer, {childList: true});\n",
       "}}\n",
       "\n",
       "// Listen for the clearing of the current output cell\n",
       "var outputEl = gd.closest('.output');\n",
       "if (outputEl) {{\n",
       "    x.observe(outputEl, {childList: true});\n",
       "}}\n",
       "\n",
       "                        })                };                            </script>        </div>\n",
       "</body>\n",
       "</html>"
      ]
     },
     "metadata": {},
     "output_type": "display_data"
    }
   ],
   "source": [
    "px.histogram(test_df.sample(2000), x='Number_of_Ads')"
   ]
  },
  {
   "cell_type": "code",
   "execution_count": 23,
   "id": "cabbd914",
   "metadata": {
    "execution": {
     "iopub.execute_input": "2025-04-27T12:03:00.843539Z",
     "iopub.status.busy": "2025-04-27T12:03:00.843213Z",
     "iopub.status.idle": "2025-04-27T12:03:00.859872Z",
     "shell.execute_reply": "2025-04-27T12:03:00.859006Z"
    },
    "papermill": {
     "duration": 0.0337,
     "end_time": "2025-04-27T12:03:00.861466",
     "exception": false,
     "start_time": "2025-04-27T12:03:00.827766",
     "status": "completed"
    },
    "tags": []
   },
   "outputs": [
    {
     "data": {
      "text/plain": [
       "6.032991762852518"
      ]
     },
     "execution_count": 23,
     "metadata": {},
     "output_type": "execute_result"
    }
   ],
   "source": [
    "train_df['Number_of_Ads'].skew()"
   ]
  },
  {
   "cell_type": "code",
   "execution_count": 24,
   "id": "dacc723c",
   "metadata": {
    "collapsed": true,
    "execution": {
     "iopub.execute_input": "2025-04-27T12:03:00.891282Z",
     "iopub.status.busy": "2025-04-27T12:03:00.890911Z",
     "iopub.status.idle": "2025-04-27T12:03:01.146185Z",
     "shell.execute_reply": "2025-04-27T12:03:01.144975Z"
    },
    "jupyter": {
     "outputs_hidden": true
    },
    "papermill": {
     "duration": 0.271959,
     "end_time": "2025-04-27T12:03:01.147857",
     "exception": false,
     "start_time": "2025-04-27T12:03:00.875898",
     "status": "completed"
    },
    "tags": []
   },
   "outputs": [
    {
     "name": "stdout",
     "output_type": "stream",
     "text": [
      "<class 'pandas.core.frame.DataFrame'>\n",
      "RangeIndex: 750000 entries, 0 to 749999\n",
      "Data columns (total 11 columns):\n",
      " #   Column                      Non-Null Count   Dtype  \n",
      "---  ------                      --------------   -----  \n",
      " 0   id                          750000 non-null  int64  \n",
      " 1   Podcast_Name                750000 non-null  object \n",
      " 2   Episode_Title               750000 non-null  object \n",
      " 3   Episode_Length_minutes      662907 non-null  float64\n",
      " 4   Genre                       750000 non-null  object \n",
      " 5   Host_Popularity_percentage  750000 non-null  float64\n",
      " 6   Publication_Day             750000 non-null  object \n",
      " 7   Publication_Time            750000 non-null  object \n",
      " 8   Number_of_Ads               749999 non-null  float64\n",
      " 9   Episode_Sentiment           750000 non-null  object \n",
      " 10  Listening_Time_minutes      750000 non-null  float64\n",
      "dtypes: float64(4), int64(1), object(6)\n",
      "memory usage: 62.9+ MB\n"
     ]
    }
   ],
   "source": [
    "train_df.info()"
   ]
  },
  {
   "cell_type": "code",
   "execution_count": 25,
   "id": "13f002b5",
   "metadata": {
    "execution": {
     "iopub.execute_input": "2025-04-27T12:03:01.178098Z",
     "iopub.status.busy": "2025-04-27T12:03:01.177773Z",
     "iopub.status.idle": "2025-04-27T12:03:01.206601Z",
     "shell.execute_reply": "2025-04-27T12:03:01.205866Z"
    },
    "papermill": {
     "duration": 0.045865,
     "end_time": "2025-04-27T12:03:01.208126",
     "exception": false,
     "start_time": "2025-04-27T12:03:01.162261",
     "status": "completed"
    },
    "tags": []
   },
   "outputs": [
    {
     "data": {
      "text/plain": [
       "3347      119.97\n",
       "16285     119.97\n",
       "18423     119.97\n",
       "46709     119.97\n",
       "73010     119.97\n",
       "112084    119.97\n",
       "147960    119.97\n",
       "163462    119.97\n",
       "163853    119.97\n",
       "200116    119.97\n",
       "Name: Listening_Time_minutes, dtype: float64"
      ]
     },
     "execution_count": 25,
     "metadata": {},
     "output_type": "execute_result"
    }
   ],
   "source": [
    "train_df['Listening_Time_minutes'].nlargest(10)"
   ]
  },
  {
   "cell_type": "code",
   "execution_count": 26,
   "id": "b31bac06",
   "metadata": {
    "execution": {
     "iopub.execute_input": "2025-04-27T12:03:01.238808Z",
     "iopub.status.busy": "2025-04-27T12:03:01.238477Z",
     "iopub.status.idle": "2025-04-27T12:03:01.259593Z",
     "shell.execute_reply": "2025-04-27T12:03:01.258446Z"
    },
    "papermill": {
     "duration": 0.038799,
     "end_time": "2025-04-27T12:03:01.261296",
     "exception": false,
     "start_time": "2025-04-27T12:03:01.222497",
     "status": "completed"
    },
    "tags": []
   },
   "outputs": [
    {
     "data": {
      "text/plain": [
       "3.0"
      ]
     },
     "execution_count": 26,
     "metadata": {},
     "output_type": "execute_result"
    }
   ],
   "source": [
    "upper = train_df['Number_of_Ads'].quantile(0.99)\n",
    "upper"
   ]
  },
  {
   "cell_type": "code",
   "execution_count": 27,
   "id": "874aac2e",
   "metadata": {
    "execution": {
     "iopub.execute_input": "2025-04-27T12:03:01.292751Z",
     "iopub.status.busy": "2025-04-27T12:03:01.292089Z",
     "iopub.status.idle": "2025-04-27T12:03:01.305630Z",
     "shell.execute_reply": "2025-04-27T12:03:01.304662Z"
    },
    "papermill": {
     "duration": 0.030862,
     "end_time": "2025-04-27T12:03:01.307190",
     "exception": false,
     "start_time": "2025-04-27T12:03:01.276328",
     "status": "completed"
    },
    "tags": []
   },
   "outputs": [
    {
     "name": "stderr",
     "output_type": "stream",
     "text": [
      "/usr/local/lib/python3.11/dist-packages/pandas/core/computation/expressions.py:73: RuntimeWarning:\n",
      "\n",
      "invalid value encountered in less_equal\n",
      "\n"
     ]
    }
   ],
   "source": [
    "train_df['Number_of_Ads'] = train_df['Number_of_Ads'].clip(upper=upper)"
   ]
  },
  {
   "cell_type": "code",
   "execution_count": 28,
   "id": "3b7e6119",
   "metadata": {
    "collapsed": true,
    "execution": {
     "iopub.execute_input": "2025-04-27T12:03:01.339063Z",
     "iopub.status.busy": "2025-04-27T12:03:01.338314Z",
     "iopub.status.idle": "2025-04-27T12:03:01.396368Z",
     "shell.execute_reply": "2025-04-27T12:03:01.395407Z"
    },
    "jupyter": {
     "outputs_hidden": true
    },
    "papermill": {
     "duration": 0.075975,
     "end_time": "2025-04-27T12:03:01.397938",
     "exception": false,
     "start_time": "2025-04-27T12:03:01.321963",
     "status": "completed"
    },
    "tags": []
   },
   "outputs": [
    {
     "data": {
      "text/plain": [
       "4      3.0\n",
       "5      3.0\n",
       "9      3.0\n",
       "10     3.0\n",
       "18     3.0\n",
       "34     3.0\n",
       "42     3.0\n",
       "53     3.0\n",
       "63     3.0\n",
       "68     3.0\n",
       "69     3.0\n",
       "70     3.0\n",
       "71     3.0\n",
       "77     3.0\n",
       "78     3.0\n",
       "83     3.0\n",
       "87     3.0\n",
       "94     3.0\n",
       "100    3.0\n",
       "122    3.0\n",
       "125    3.0\n",
       "128    3.0\n",
       "131    3.0\n",
       "133    3.0\n",
       "134    3.0\n",
       "149    3.0\n",
       "151    3.0\n",
       "152    3.0\n",
       "164    3.0\n",
       "171    3.0\n",
       "176    3.0\n",
       "184    3.0\n",
       "201    3.0\n",
       "203    3.0\n",
       "205    3.0\n",
       "215    3.0\n",
       "217    3.0\n",
       "226    3.0\n",
       "244    3.0\n",
       "249    3.0\n",
       "255    3.0\n",
       "262    3.0\n",
       "265    3.0\n",
       "267    3.0\n",
       "268    3.0\n",
       "275    3.0\n",
       "276    3.0\n",
       "277    3.0\n",
       "278    3.0\n",
       "280    3.0\n",
       "Name: Number_of_Ads, dtype: float64"
      ]
     },
     "execution_count": 28,
     "metadata": {},
     "output_type": "execute_result"
    }
   ],
   "source": [
    "train_df['Number_of_Ads'].nlargest(50)"
   ]
  },
  {
   "cell_type": "code",
   "execution_count": 29,
   "id": "17ed163c",
   "metadata": {
    "execution": {
     "iopub.execute_input": "2025-04-27T12:03:01.428774Z",
     "iopub.status.busy": "2025-04-27T12:03:01.428426Z",
     "iopub.status.idle": "2025-04-27T12:03:01.516216Z",
     "shell.execute_reply": "2025-04-27T12:03:01.515334Z"
    },
    "papermill": {
     "duration": 0.10502,
     "end_time": "2025-04-27T12:03:01.517845",
     "exception": false,
     "start_time": "2025-04-27T12:03:01.412825",
     "status": "completed"
    },
    "tags": []
   },
   "outputs": [
    {
     "data": {
      "text/plain": [
       "id                                0\n",
       "Podcast_Name                      0\n",
       "Episode_Title                     0\n",
       "Episode_Length_minutes        28736\n",
       "Genre                             0\n",
       "Host_Popularity_percentage        0\n",
       "Publication_Day                   0\n",
       "Publication_Time                  0\n",
       "Number_of_Ads                     0\n",
       "Episode_Sentiment                 0\n",
       "dtype: int64"
      ]
     },
     "execution_count": 29,
     "metadata": {},
     "output_type": "execute_result"
    }
   ],
   "source": [
    "test_df.isna().sum()"
   ]
  },
  {
   "cell_type": "code",
   "execution_count": 30,
   "id": "16732dd5",
   "metadata": {
    "execution": {
     "iopub.execute_input": "2025-04-27T12:03:01.549063Z",
     "iopub.status.busy": "2025-04-27T12:03:01.548740Z",
     "iopub.status.idle": "2025-04-27T12:03:01.573742Z",
     "shell.execute_reply": "2025-04-27T12:03:01.572785Z"
    },
    "papermill": {
     "duration": 0.042521,
     "end_time": "2025-04-27T12:03:01.575284",
     "exception": false,
     "start_time": "2025-04-27T12:03:01.532763",
     "status": "completed"
    },
    "tags": []
   },
   "outputs": [
    {
     "data": {
      "text/plain": [
       "id                           -8.717749e-17\n",
       "Episode_Length_minutes       -5.221727e-03\n",
       "Host_Popularity_percentage    1.174955e-02\n",
       "Number_of_Ads                 2.184969e-01\n",
       "dtype: float64"
      ]
     },
     "execution_count": 30,
     "metadata": {},
     "output_type": "execute_result"
    }
   ],
   "source": [
    "test_df[numerical_cols].skew()"
   ]
  },
  {
   "cell_type": "code",
   "execution_count": 31,
   "id": "dd478ba5",
   "metadata": {
    "execution": {
     "iopub.execute_input": "2025-04-27T12:03:01.607428Z",
     "iopub.status.busy": "2025-04-27T12:03:01.607087Z",
     "iopub.status.idle": "2025-04-27T12:03:01.687797Z",
     "shell.execute_reply": "2025-04-27T12:03:01.686842Z"
    },
    "papermill": {
     "duration": 0.099191,
     "end_time": "2025-04-27T12:03:01.689446",
     "exception": false,
     "start_time": "2025-04-27T12:03:01.590255",
     "status": "completed"
    },
    "tags": []
   },
   "outputs": [
    {
     "data": {
      "text/html": [
       "<div>\n",
       "<style scoped>\n",
       "    .dataframe tbody tr th:only-of-type {\n",
       "        vertical-align: middle;\n",
       "    }\n",
       "\n",
       "    .dataframe tbody tr th {\n",
       "        vertical-align: top;\n",
       "    }\n",
       "\n",
       "    .dataframe thead th {\n",
       "        text-align: right;\n",
       "    }\n",
       "</style>\n",
       "<table border=\"1\" class=\"dataframe\">\n",
       "  <thead>\n",
       "    <tr style=\"text-align: right;\">\n",
       "      <th></th>\n",
       "      <th>Episode_Length_minutes</th>\n",
       "      <th>Host_Popularity_percentage</th>\n",
       "      <th>Number_of_Ads</th>\n",
       "      <th>Listening_Time_minutes</th>\n",
       "    </tr>\n",
       "  </thead>\n",
       "  <tbody>\n",
       "    <tr>\n",
       "      <th>Episode_Length_minutes</th>\n",
       "      <td>1.000000</td>\n",
       "      <td>0.023596</td>\n",
       "      <td>-0.058373</td>\n",
       "      <td>0.916749</td>\n",
       "    </tr>\n",
       "    <tr>\n",
       "      <th>Host_Popularity_percentage</th>\n",
       "      <td>0.023596</td>\n",
       "      <td>1.000000</td>\n",
       "      <td>-0.017862</td>\n",
       "      <td>0.050870</td>\n",
       "    </tr>\n",
       "    <tr>\n",
       "      <th>Number_of_Ads</th>\n",
       "      <td>-0.058373</td>\n",
       "      <td>-0.017862</td>\n",
       "      <td>1.000000</td>\n",
       "      <td>-0.124166</td>\n",
       "    </tr>\n",
       "    <tr>\n",
       "      <th>Listening_Time_minutes</th>\n",
       "      <td>0.916749</td>\n",
       "      <td>0.050870</td>\n",
       "      <td>-0.124166</td>\n",
       "      <td>1.000000</td>\n",
       "    </tr>\n",
       "  </tbody>\n",
       "</table>\n",
       "</div>"
      ],
      "text/plain": [
       "                            Episode_Length_minutes  \\\n",
       "Episode_Length_minutes                    1.000000   \n",
       "Host_Popularity_percentage                0.023596   \n",
       "Number_of_Ads                            -0.058373   \n",
       "Listening_Time_minutes                    0.916749   \n",
       "\n",
       "                            Host_Popularity_percentage  Number_of_Ads  \\\n",
       "Episode_Length_minutes                        0.023596      -0.058373   \n",
       "Host_Popularity_percentage                    1.000000      -0.017862   \n",
       "Number_of_Ads                                -0.017862       1.000000   \n",
       "Listening_Time_minutes                        0.050870      -0.124166   \n",
       "\n",
       "                            Listening_Time_minutes  \n",
       "Episode_Length_minutes                    0.916749  \n",
       "Host_Popularity_percentage                0.050870  \n",
       "Number_of_Ads                            -0.124166  \n",
       "Listening_Time_minutes                    1.000000  "
      ]
     },
     "execution_count": 31,
     "metadata": {},
     "output_type": "execute_result"
    }
   ],
   "source": [
    "train_df[['Episode_Length_minutes', 'Host_Popularity_percentage', 'Number_of_Ads','Listening_Time_minutes']].corr()"
   ]
  },
  {
   "cell_type": "code",
   "execution_count": 32,
   "id": "6245a4d6",
   "metadata": {
    "execution": {
     "iopub.execute_input": "2025-04-27T12:03:01.722709Z",
     "iopub.status.busy": "2025-04-27T12:03:01.722369Z",
     "iopub.status.idle": "2025-04-27T12:03:01.726944Z",
     "shell.execute_reply": "2025-04-27T12:03:01.725894Z"
    },
    "papermill": {
     "duration": 0.023351,
     "end_time": "2025-04-27T12:03:01.728636",
     "exception": false,
     "start_time": "2025-04-27T12:03:01.705285",
     "status": "completed"
    },
    "tags": []
   },
   "outputs": [],
   "source": [
    "from sklearn.impute import KNNImputer"
   ]
  },
  {
   "cell_type": "code",
   "execution_count": 33,
   "id": "208c32bf",
   "metadata": {
    "collapsed": true,
    "execution": {
     "iopub.execute_input": "2025-04-27T12:03:01.761025Z",
     "iopub.status.busy": "2025-04-27T12:03:01.760699Z",
     "iopub.status.idle": "2025-04-27T12:58:49.811656Z",
     "shell.execute_reply": "2025-04-27T12:58:49.810625Z"
    },
    "jupyter": {
     "outputs_hidden": true
    },
    "papermill": {
     "duration": 3348.069556,
     "end_time": "2025-04-27T12:58:49.813560",
     "exception": false,
     "start_time": "2025-04-27T12:03:01.744004",
     "status": "completed"
    },
    "tags": []
   },
   "outputs": [],
   "source": [
    "imputer = KNNImputer(n_neighbors=5)\n",
    "train_df['Episode_Length_minutes'] = imputer.fit_transform(train_df[['Episode_Length_minutes']])"
   ]
  },
  {
   "cell_type": "code",
   "execution_count": 34,
   "id": "23b4531b",
   "metadata": {
    "execution": {
     "iopub.execute_input": "2025-04-27T12:58:49.845774Z",
     "iopub.status.busy": "2025-04-27T12:58:49.845403Z",
     "iopub.status.idle": "2025-04-27T12:58:49.868621Z",
     "shell.execute_reply": "2025-04-27T12:58:49.867811Z"
    },
    "papermill": {
     "duration": 0.040707,
     "end_time": "2025-04-27T12:58:49.870083",
     "exception": false,
     "start_time": "2025-04-27T12:58:49.829376",
     "status": "completed"
    },
    "tags": []
   },
   "outputs": [
    {
     "data": {
      "text/plain": [
       "101637    325.24\n",
       "598106    120.93\n",
       "552181    120.73\n",
       "74270     120.64\n",
       "168115    120.64\n",
       "Name: Episode_Length_minutes, dtype: float64"
      ]
     },
     "execution_count": 34,
     "metadata": {},
     "output_type": "execute_result"
    }
   ],
   "source": [
    "train_df['Episode_Length_minutes'].nlargest(5)"
   ]
  },
  {
   "cell_type": "code",
   "execution_count": 35,
   "id": "3925e42b",
   "metadata": {
    "execution": {
     "iopub.execute_input": "2025-04-27T12:58:49.903785Z",
     "iopub.status.busy": "2025-04-27T12:58:49.903448Z",
     "iopub.status.idle": "2025-04-27T12:58:50.826608Z",
     "shell.execute_reply": "2025-04-27T12:58:50.825703Z"
    },
    "papermill": {
     "duration": 0.941265,
     "end_time": "2025-04-27T12:58:50.828369",
     "exception": false,
     "start_time": "2025-04-27T12:58:49.887104",
     "status": "completed"
    },
    "tags": []
   },
   "outputs": [],
   "source": [
    "train_df['Episode_Length_minutes'] = train_df['Episode_Length_minutes'].apply(\n",
    "    lambda x: np.random.uniform(0, 120) if np.isnan(x) else x\n",
    ")"
   ]
  },
  {
   "cell_type": "code",
   "execution_count": 36,
   "id": "069319bf",
   "metadata": {
    "execution": {
     "iopub.execute_input": "2025-04-27T12:58:50.860815Z",
     "iopub.status.busy": "2025-04-27T12:58:50.860247Z",
     "iopub.status.idle": "2025-04-27T12:58:51.247091Z",
     "shell.execute_reply": "2025-04-27T12:58:51.246011Z"
    },
    "papermill": {
     "duration": 0.405106,
     "end_time": "2025-04-27T12:58:51.249048",
     "exception": false,
     "start_time": "2025-04-27T12:58:50.843942",
     "status": "completed"
    },
    "tags": []
   },
   "outputs": [],
   "source": [
    "test_df['Episode_Length_minutes'] = test_df['Episode_Length_minutes'].apply(\n",
    "    lambda x: np.random.uniform(0, 120) if np.isnan(x) else x\n",
    ")"
   ]
  },
  {
   "cell_type": "code",
   "execution_count": 37,
   "id": "765429a8",
   "metadata": {
    "execution": {
     "iopub.execute_input": "2025-04-27T12:58:51.280858Z",
     "iopub.status.busy": "2025-04-27T12:58:51.280500Z",
     "iopub.status.idle": "2025-04-27T12:58:51.365973Z",
     "shell.execute_reply": "2025-04-27T12:58:51.365055Z"
    },
    "papermill": {
     "duration": 0.103183,
     "end_time": "2025-04-27T12:58:51.367570",
     "exception": false,
     "start_time": "2025-04-27T12:58:51.264387",
     "status": "completed"
    },
    "tags": []
   },
   "outputs": [
    {
     "data": {
      "text/plain": [
       "id                            0\n",
       "Podcast_Name                  0\n",
       "Episode_Title                 0\n",
       "Episode_Length_minutes        0\n",
       "Genre                         0\n",
       "Host_Popularity_percentage    0\n",
       "Publication_Day               0\n",
       "Publication_Time              0\n",
       "Number_of_Ads                 0\n",
       "Episode_Sentiment             0\n",
       "dtype: int64"
      ]
     },
     "execution_count": 37,
     "metadata": {},
     "output_type": "execute_result"
    }
   ],
   "source": [
    "test_df.isna().sum()"
   ]
  },
  {
   "cell_type": "code",
   "execution_count": 38,
   "id": "a1d352f0",
   "metadata": {
    "execution": {
     "iopub.execute_input": "2025-04-27T12:58:51.399588Z",
     "iopub.status.busy": "2025-04-27T12:58:51.399250Z",
     "iopub.status.idle": "2025-04-27T12:58:51.642775Z",
     "shell.execute_reply": "2025-04-27T12:58:51.641735Z"
    },
    "papermill": {
     "duration": 0.261579,
     "end_time": "2025-04-27T12:58:51.644446",
     "exception": false,
     "start_time": "2025-04-27T12:58:51.382867",
     "status": "completed"
    },
    "tags": []
   },
   "outputs": [
    {
     "data": {
      "text/plain": [
       "id                            0\n",
       "Podcast_Name                  0\n",
       "Episode_Title                 0\n",
       "Episode_Length_minutes        0\n",
       "Genre                         0\n",
       "Host_Popularity_percentage    0\n",
       "Publication_Day               0\n",
       "Publication_Time              0\n",
       "Number_of_Ads                 1\n",
       "Episode_Sentiment             0\n",
       "Listening_Time_minutes        0\n",
       "dtype: int64"
      ]
     },
     "execution_count": 38,
     "metadata": {},
     "output_type": "execute_result"
    }
   ],
   "source": [
    "train_df.isna().sum()"
   ]
  },
  {
   "cell_type": "code",
   "execution_count": 39,
   "id": "9c300e21",
   "metadata": {
    "execution": {
     "iopub.execute_input": "2025-04-27T12:58:51.677687Z",
     "iopub.status.busy": "2025-04-27T12:58:51.677297Z",
     "iopub.status.idle": "2025-04-27T12:58:51.774558Z",
     "shell.execute_reply": "2025-04-27T12:58:51.773549Z"
    },
    "papermill": {
     "duration": 0.115877,
     "end_time": "2025-04-27T12:58:51.776488",
     "exception": false,
     "start_time": "2025-04-27T12:58:51.660611",
     "status": "completed"
    },
    "tags": []
   },
   "outputs": [],
   "source": [
    "train_df = train_df.dropna(subset=['Number_of_Ads'])"
   ]
  },
  {
   "cell_type": "code",
   "execution_count": 40,
   "id": "bcbbc45f",
   "metadata": {
    "execution": {
     "iopub.execute_input": "2025-04-27T12:58:51.808512Z",
     "iopub.status.busy": "2025-04-27T12:58:51.808153Z",
     "iopub.status.idle": "2025-04-27T12:58:51.813888Z",
     "shell.execute_reply": "2025-04-27T12:58:51.812996Z"
    },
    "papermill": {
     "duration": 0.023624,
     "end_time": "2025-04-27T12:58:51.815504",
     "exception": false,
     "start_time": "2025-04-27T12:58:51.791880",
     "status": "completed"
    },
    "tags": []
   },
   "outputs": [
    {
     "data": {
      "text/plain": [
       "['id', 'Episode_Length_minutes', 'Host_Popularity_percentage', 'Number_of_Ads']"
      ]
     },
     "execution_count": 40,
     "metadata": {},
     "output_type": "execute_result"
    }
   ],
   "source": [
    "numerical_cols"
   ]
  },
  {
   "cell_type": "code",
   "execution_count": 41,
   "id": "b0bff84f",
   "metadata": {
    "execution": {
     "iopub.execute_input": "2025-04-27T12:58:51.847617Z",
     "iopub.status.busy": "2025-04-27T12:58:51.847280Z",
     "iopub.status.idle": "2025-04-27T12:58:51.853370Z",
     "shell.execute_reply": "2025-04-27T12:58:51.852354Z"
    },
    "papermill": {
     "duration": 0.023827,
     "end_time": "2025-04-27T12:58:51.854836",
     "exception": false,
     "start_time": "2025-04-27T12:58:51.831009",
     "status": "completed"
    },
    "tags": []
   },
   "outputs": [
    {
     "data": {
      "text/plain": [
       "['Podcast_Name',\n",
       " 'Episode_Title',\n",
       " 'Genre',\n",
       " 'Publication_Day',\n",
       " 'Publication_Time',\n",
       " 'Episode_Sentiment']"
      ]
     },
     "execution_count": 41,
     "metadata": {},
     "output_type": "execute_result"
    }
   ],
   "source": [
    "cat_cols"
   ]
  },
  {
   "cell_type": "code",
   "execution_count": null,
   "id": "d157999d",
   "metadata": {
    "papermill": {
     "duration": 0.015312,
     "end_time": "2025-04-27T12:58:51.885802",
     "exception": false,
     "start_time": "2025-04-27T12:58:51.870490",
     "status": "completed"
    },
    "tags": []
   },
   "outputs": [],
   "source": []
  },
  {
   "cell_type": "code",
   "execution_count": null,
   "id": "7d143c95",
   "metadata": {
    "papermill": {
     "duration": 0.015261,
     "end_time": "2025-04-27T12:58:51.919281",
     "exception": false,
     "start_time": "2025-04-27T12:58:51.904020",
     "status": "completed"
    },
    "tags": []
   },
   "outputs": [],
   "source": []
  },
  {
   "cell_type": "code",
   "execution_count": 42,
   "id": "89f8a27e",
   "metadata": {
    "execution": {
     "iopub.execute_input": "2025-04-27T12:58:51.952233Z",
     "iopub.status.busy": "2025-04-27T12:58:51.951905Z",
     "iopub.status.idle": "2025-04-27T12:58:51.956563Z",
     "shell.execute_reply": "2025-04-27T12:58:51.955689Z"
    },
    "papermill": {
     "duration": 0.022692,
     "end_time": "2025-04-27T12:58:51.958241",
     "exception": false,
     "start_time": "2025-04-27T12:58:51.935549",
     "status": "completed"
    },
    "tags": []
   },
   "outputs": [],
   "source": [
    "from sklearn.preprocessing import StandardScaler"
   ]
  },
  {
   "cell_type": "code",
   "execution_count": null,
   "id": "94c99bc9",
   "metadata": {
    "papermill": {
     "duration": 0.015313,
     "end_time": "2025-04-27T12:58:51.989265",
     "exception": false,
     "start_time": "2025-04-27T12:58:51.973952",
     "status": "completed"
    },
    "tags": []
   },
   "outputs": [],
   "source": []
  },
  {
   "cell_type": "code",
   "execution_count": 43,
   "id": "1e76e71a",
   "metadata": {
    "execution": {
     "iopub.execute_input": "2025-04-27T12:58:52.021911Z",
     "iopub.status.busy": "2025-04-27T12:58:52.021534Z",
     "iopub.status.idle": "2025-04-27T12:58:52.090684Z",
     "shell.execute_reply": "2025-04-27T12:58:52.089687Z"
    },
    "papermill": {
     "duration": 0.087885,
     "end_time": "2025-04-27T12:58:52.092429",
     "exception": false,
     "start_time": "2025-04-27T12:58:52.004544",
     "status": "completed"
    },
    "tags": []
   },
   "outputs": [],
   "source": [
    "scaler = StandardScaler()\n",
    "train_df[['Episode_Length_minutes', 'Host_Popularity_percentage', 'Number_of_Ads']] = scaler.fit_transform(train_df[['Episode_Length_minutes', 'Host_Popularity_percentage', 'Number_of_Ads']])"
   ]
  },
  {
   "cell_type": "code",
   "execution_count": 44,
   "id": "4e0b3fd4",
   "metadata": {
    "execution": {
     "iopub.execute_input": "2025-04-27T12:58:52.127203Z",
     "iopub.status.busy": "2025-04-27T12:58:52.126861Z",
     "iopub.status.idle": "2025-04-27T12:58:52.145135Z",
     "shell.execute_reply": "2025-04-27T12:58:52.143872Z"
    },
    "papermill": {
     "duration": 0.036824,
     "end_time": "2025-04-27T12:58:52.146867",
     "exception": false,
     "start_time": "2025-04-27T12:58:52.110043",
     "status": "completed"
    },
    "tags": []
   },
   "outputs": [
    {
     "data": {
      "text/html": [
       "<div>\n",
       "<style scoped>\n",
       "    .dataframe tbody tr th:only-of-type {\n",
       "        vertical-align: middle;\n",
       "    }\n",
       "\n",
       "    .dataframe tbody tr th {\n",
       "        vertical-align: top;\n",
       "    }\n",
       "\n",
       "    .dataframe thead th {\n",
       "        text-align: right;\n",
       "    }\n",
       "</style>\n",
       "<table border=\"1\" class=\"dataframe\">\n",
       "  <thead>\n",
       "    <tr style=\"text-align: right;\">\n",
       "      <th></th>\n",
       "      <th>Episode_Length_minutes</th>\n",
       "      <th>Host_Popularity_percentage</th>\n",
       "      <th>Number_of_Ads</th>\n",
       "    </tr>\n",
       "  </thead>\n",
       "  <tbody>\n",
       "    <tr>\n",
       "      <th>0</th>\n",
       "      <td>-0.000001</td>\n",
       "      <td>0.653610</td>\n",
       "      <td>-1.213263</td>\n",
       "    </tr>\n",
       "    <tr>\n",
       "      <th>1</th>\n",
       "      <td>1.783933</td>\n",
       "      <td>0.309974</td>\n",
       "      <td>0.586958</td>\n",
       "    </tr>\n",
       "    <tr>\n",
       "      <th>2</th>\n",
       "      <td>0.303108</td>\n",
       "      <td>0.442007</td>\n",
       "      <td>-1.213263</td>\n",
       "    </tr>\n",
       "    <tr>\n",
       "      <th>3</th>\n",
       "      <td>0.085985</td>\n",
       "      <td>-0.115417</td>\n",
       "      <td>0.586958</td>\n",
       "    </tr>\n",
       "    <tr>\n",
       "      <th>4</th>\n",
       "      <td>1.484219</td>\n",
       "      <td>0.883574</td>\n",
       "      <td>1.487068</td>\n",
       "    </tr>\n",
       "  </tbody>\n",
       "</table>\n",
       "</div>"
      ],
      "text/plain": [
       "   Episode_Length_minutes  Host_Popularity_percentage  Number_of_Ads\n",
       "0               -0.000001                    0.653610      -1.213263\n",
       "1                1.783933                    0.309974       0.586958\n",
       "2                0.303108                    0.442007      -1.213263\n",
       "3                0.085985                   -0.115417       0.586958\n",
       "4                1.484219                    0.883574       1.487068"
      ]
     },
     "execution_count": 44,
     "metadata": {},
     "output_type": "execute_result"
    }
   ],
   "source": [
    "train_df[['Episode_Length_minutes', 'Host_Popularity_percentage', 'Number_of_Ads']].head()"
   ]
  },
  {
   "cell_type": "code",
   "execution_count": 45,
   "id": "da9adaec",
   "metadata": {
    "execution": {
     "iopub.execute_input": "2025-04-27T12:58:52.181345Z",
     "iopub.status.busy": "2025-04-27T12:58:52.180967Z",
     "iopub.status.idle": "2025-04-27T12:58:52.207088Z",
     "shell.execute_reply": "2025-04-27T12:58:52.205854Z"
    },
    "papermill": {
     "duration": 0.046058,
     "end_time": "2025-04-27T12:58:52.208846",
     "exception": false,
     "start_time": "2025-04-27T12:58:52.162788",
     "status": "completed"
    },
    "tags": []
   },
   "outputs": [],
   "source": [
    "test_df[['Episode_Length_minutes', 'Host_Popularity_percentage', 'Number_of_Ads']] = scaler.fit_transform(test_df[['Episode_Length_minutes', 'Host_Popularity_percentage', 'Number_of_Ads']])"
   ]
  },
  {
   "cell_type": "code",
   "execution_count": 46,
   "id": "56ee0f35",
   "metadata": {
    "execution": {
     "iopub.execute_input": "2025-04-27T12:58:52.244314Z",
     "iopub.status.busy": "2025-04-27T12:58:52.243966Z",
     "iopub.status.idle": "2025-04-27T12:58:52.256355Z",
     "shell.execute_reply": "2025-04-27T12:58:52.255330Z"
    },
    "papermill": {
     "duration": 0.03068,
     "end_time": "2025-04-27T12:58:52.258184",
     "exception": false,
     "start_time": "2025-04-27T12:58:52.227504",
     "status": "completed"
    },
    "tags": []
   },
   "outputs": [
    {
     "data": {
      "text/html": [
       "<div>\n",
       "<style scoped>\n",
       "    .dataframe tbody tr th:only-of-type {\n",
       "        vertical-align: middle;\n",
       "    }\n",
       "\n",
       "    .dataframe tbody tr th {\n",
       "        vertical-align: top;\n",
       "    }\n",
       "\n",
       "    .dataframe thead th {\n",
       "        text-align: right;\n",
       "    }\n",
       "</style>\n",
       "<table border=\"1\" class=\"dataframe\">\n",
       "  <thead>\n",
       "    <tr style=\"text-align: right;\">\n",
       "      <th></th>\n",
       "      <th>Episode_Length_minutes</th>\n",
       "      <th>Host_Popularity_percentage</th>\n",
       "      <th>Number_of_Ads</th>\n",
       "    </tr>\n",
       "  </thead>\n",
       "  <tbody>\n",
       "    <tr>\n",
       "      <th>0</th>\n",
       "      <td>0.449872</td>\n",
       "      <td>-0.944340</td>\n",
       "      <td>-0.312103</td>\n",
       "    </tr>\n",
       "    <tr>\n",
       "      <th>1</th>\n",
       "      <td>-1.089279</td>\n",
       "      <td>0.505836</td>\n",
       "      <td>-1.210839</td>\n",
       "    </tr>\n",
       "    <tr>\n",
       "      <th>2</th>\n",
       "      <td>0.152827</td>\n",
       "      <td>0.357234</td>\n",
       "      <td>-1.210839</td>\n",
       "    </tr>\n",
       "    <tr>\n",
       "      <th>3</th>\n",
       "      <td>1.547371</td>\n",
       "      <td>-1.587260</td>\n",
       "      <td>0.586634</td>\n",
       "    </tr>\n",
       "    <tr>\n",
       "      <th>4</th>\n",
       "      <td>0.249833</td>\n",
       "      <td>-0.070651</td>\n",
       "      <td>0.586634</td>\n",
       "    </tr>\n",
       "  </tbody>\n",
       "</table>\n",
       "</div>"
      ],
      "text/plain": [
       "   Episode_Length_minutes  Host_Popularity_percentage  Number_of_Ads\n",
       "0                0.449872                   -0.944340      -0.312103\n",
       "1               -1.089279                    0.505836      -1.210839\n",
       "2                0.152827                    0.357234      -1.210839\n",
       "3                1.547371                   -1.587260       0.586634\n",
       "4                0.249833                   -0.070651       0.586634"
      ]
     },
     "execution_count": 46,
     "metadata": {},
     "output_type": "execute_result"
    }
   ],
   "source": [
    "test_df[['Episode_Length_minutes', 'Host_Popularity_percentage', 'Number_of_Ads']].head()"
   ]
  },
  {
   "cell_type": "code",
   "execution_count": 47,
   "id": "52f34e60",
   "metadata": {
    "execution": {
     "iopub.execute_input": "2025-04-27T12:58:52.291375Z",
     "iopub.status.busy": "2025-04-27T12:58:52.291031Z",
     "iopub.status.idle": "2025-04-27T12:58:52.295363Z",
     "shell.execute_reply": "2025-04-27T12:58:52.294514Z"
    },
    "papermill": {
     "duration": 0.022768,
     "end_time": "2025-04-27T12:58:52.296882",
     "exception": false,
     "start_time": "2025-04-27T12:58:52.274114",
     "status": "completed"
    },
    "tags": []
   },
   "outputs": [],
   "source": [
    "from sklearn.preprocessing import OneHotEncoder"
   ]
  },
  {
   "cell_type": "code",
   "execution_count": 48,
   "id": "4ce34036",
   "metadata": {
    "execution": {
     "iopub.execute_input": "2025-04-27T12:58:52.331113Z",
     "iopub.status.busy": "2025-04-27T12:58:52.330767Z",
     "iopub.status.idle": "2025-04-27T12:58:52.336369Z",
     "shell.execute_reply": "2025-04-27T12:58:52.335360Z"
    },
    "papermill": {
     "duration": 0.02438,
     "end_time": "2025-04-27T12:58:52.337911",
     "exception": false,
     "start_time": "2025-04-27T12:58:52.313531",
     "status": "completed"
    },
    "tags": []
   },
   "outputs": [
    {
     "data": {
      "text/plain": [
       "['Podcast_Name',\n",
       " 'Episode_Title',\n",
       " 'Genre',\n",
       " 'Publication_Day',\n",
       " 'Publication_Time',\n",
       " 'Episode_Sentiment']"
      ]
     },
     "execution_count": 48,
     "metadata": {},
     "output_type": "execute_result"
    }
   ],
   "source": [
    "cat_cols"
   ]
  },
  {
   "cell_type": "code",
   "execution_count": 49,
   "id": "8bbf3367",
   "metadata": {
    "execution": {
     "iopub.execute_input": "2025-04-27T12:58:52.371166Z",
     "iopub.status.busy": "2025-04-27T12:58:52.370762Z",
     "iopub.status.idle": "2025-04-27T12:58:52.375380Z",
     "shell.execute_reply": "2025-04-27T12:58:52.374329Z"
    },
    "papermill": {
     "duration": 0.023558,
     "end_time": "2025-04-27T12:58:52.377069",
     "exception": false,
     "start_time": "2025-04-27T12:58:52.353511",
     "status": "completed"
    },
    "tags": []
   },
   "outputs": [],
   "source": [
    "encoder = OneHotEncoder(sparse_output=False, handle_unknown='ignore')"
   ]
  },
  {
   "cell_type": "code",
   "execution_count": 50,
   "id": "42ead57f",
   "metadata": {
    "execution": {
     "iopub.execute_input": "2025-04-27T12:58:52.409814Z",
     "iopub.status.busy": "2025-04-27T12:58:52.409437Z",
     "iopub.status.idle": "2025-04-27T12:58:52.639786Z",
     "shell.execute_reply": "2025-04-27T12:58:52.638389Z"
    },
    "papermill": {
     "duration": 0.248916,
     "end_time": "2025-04-27T12:58:52.641891",
     "exception": false,
     "start_time": "2025-04-27T12:58:52.392975",
     "status": "completed"
    },
    "tags": []
   },
   "outputs": [
    {
     "data": {
      "text/html": [
       "<style>#sk-container-id-1 {color: black;background-color: white;}#sk-container-id-1 pre{padding: 0;}#sk-container-id-1 div.sk-toggleable {background-color: white;}#sk-container-id-1 label.sk-toggleable__label {cursor: pointer;display: block;width: 100%;margin-bottom: 0;padding: 0.3em;box-sizing: border-box;text-align: center;}#sk-container-id-1 label.sk-toggleable__label-arrow:before {content: \"▸\";float: left;margin-right: 0.25em;color: #696969;}#sk-container-id-1 label.sk-toggleable__label-arrow:hover:before {color: black;}#sk-container-id-1 div.sk-estimator:hover label.sk-toggleable__label-arrow:before {color: black;}#sk-container-id-1 div.sk-toggleable__content {max-height: 0;max-width: 0;overflow: hidden;text-align: left;background-color: #f0f8ff;}#sk-container-id-1 div.sk-toggleable__content pre {margin: 0.2em;color: black;border-radius: 0.25em;background-color: #f0f8ff;}#sk-container-id-1 input.sk-toggleable__control:checked~div.sk-toggleable__content {max-height: 200px;max-width: 100%;overflow: auto;}#sk-container-id-1 input.sk-toggleable__control:checked~label.sk-toggleable__label-arrow:before {content: \"▾\";}#sk-container-id-1 div.sk-estimator input.sk-toggleable__control:checked~label.sk-toggleable__label {background-color: #d4ebff;}#sk-container-id-1 div.sk-label input.sk-toggleable__control:checked~label.sk-toggleable__label {background-color: #d4ebff;}#sk-container-id-1 input.sk-hidden--visually {border: 0;clip: rect(1px 1px 1px 1px);clip: rect(1px, 1px, 1px, 1px);height: 1px;margin: -1px;overflow: hidden;padding: 0;position: absolute;width: 1px;}#sk-container-id-1 div.sk-estimator {font-family: monospace;background-color: #f0f8ff;border: 1px dotted black;border-radius: 0.25em;box-sizing: border-box;margin-bottom: 0.5em;}#sk-container-id-1 div.sk-estimator:hover {background-color: #d4ebff;}#sk-container-id-1 div.sk-parallel-item::after {content: \"\";width: 100%;border-bottom: 1px solid gray;flex-grow: 1;}#sk-container-id-1 div.sk-label:hover label.sk-toggleable__label {background-color: #d4ebff;}#sk-container-id-1 div.sk-serial::before {content: \"\";position: absolute;border-left: 1px solid gray;box-sizing: border-box;top: 0;bottom: 0;left: 50%;z-index: 0;}#sk-container-id-1 div.sk-serial {display: flex;flex-direction: column;align-items: center;background-color: white;padding-right: 0.2em;padding-left: 0.2em;position: relative;}#sk-container-id-1 div.sk-item {position: relative;z-index: 1;}#sk-container-id-1 div.sk-parallel {display: flex;align-items: stretch;justify-content: center;background-color: white;position: relative;}#sk-container-id-1 div.sk-item::before, #sk-container-id-1 div.sk-parallel-item::before {content: \"\";position: absolute;border-left: 1px solid gray;box-sizing: border-box;top: 0;bottom: 0;left: 50%;z-index: -1;}#sk-container-id-1 div.sk-parallel-item {display: flex;flex-direction: column;z-index: 1;position: relative;background-color: white;}#sk-container-id-1 div.sk-parallel-item:first-child::after {align-self: flex-end;width: 50%;}#sk-container-id-1 div.sk-parallel-item:last-child::after {align-self: flex-start;width: 50%;}#sk-container-id-1 div.sk-parallel-item:only-child::after {width: 0;}#sk-container-id-1 div.sk-dashed-wrapped {border: 1px dashed gray;margin: 0 0.4em 0.5em 0.4em;box-sizing: border-box;padding-bottom: 0.4em;background-color: white;}#sk-container-id-1 div.sk-label label {font-family: monospace;font-weight: bold;display: inline-block;line-height: 1.2em;}#sk-container-id-1 div.sk-label-container {text-align: center;}#sk-container-id-1 div.sk-container {/* jupyter's `normalize.less` sets `[hidden] { display: none; }` but bootstrap.min.css set `[hidden] { display: none !important; }` so we also need the `!important` here to be able to override the default hidden behavior on the sphinx rendered scikit-learn.org. See: https://github.com/scikit-learn/scikit-learn/issues/21755 */display: inline-block !important;position: relative;}#sk-container-id-1 div.sk-text-repr-fallback {display: none;}</style><div id=\"sk-container-id-1\" class=\"sk-top-container\"><div class=\"sk-text-repr-fallback\"><pre>OneHotEncoder(handle_unknown=&#x27;ignore&#x27;, sparse_output=False)</pre><b>In a Jupyter environment, please rerun this cell to show the HTML representation or trust the notebook. <br />On GitHub, the HTML representation is unable to render, please try loading this page with nbviewer.org.</b></div><div class=\"sk-container\" hidden><div class=\"sk-item\"><div class=\"sk-estimator sk-toggleable\"><input class=\"sk-toggleable__control sk-hidden--visually\" id=\"sk-estimator-id-1\" type=\"checkbox\" checked><label for=\"sk-estimator-id-1\" class=\"sk-toggleable__label sk-toggleable__label-arrow\">OneHotEncoder</label><div class=\"sk-toggleable__content\"><pre>OneHotEncoder(handle_unknown=&#x27;ignore&#x27;, sparse_output=False)</pre></div></div></div></div></div>"
      ],
      "text/plain": [
       "OneHotEncoder(handle_unknown='ignore', sparse_output=False)"
      ]
     },
     "execution_count": 50,
     "metadata": {},
     "output_type": "execute_result"
    }
   ],
   "source": [
    "encoder.fit(train_df[cat_cols])"
   ]
  },
  {
   "cell_type": "code",
   "execution_count": 51,
   "id": "dca0da51",
   "metadata": {
    "collapsed": true,
    "execution": {
     "iopub.execute_input": "2025-04-27T12:58:52.677672Z",
     "iopub.status.busy": "2025-04-27T12:58:52.677312Z",
     "iopub.status.idle": "2025-04-27T12:58:52.684151Z",
     "shell.execute_reply": "2025-04-27T12:58:52.683257Z"
    },
    "jupyter": {
     "outputs_hidden": true
    },
    "papermill": {
     "duration": 0.026845,
     "end_time": "2025-04-27T12:58:52.685625",
     "exception": false,
     "start_time": "2025-04-27T12:58:52.658780",
     "status": "completed"
    },
    "tags": []
   },
   "outputs": [
    {
     "data": {
      "text/plain": [
       "array([\"Podcast_Name_Athlete's Arena\", 'Podcast_Name_Brain Boost',\n",
       "       'Podcast_Name_Business Briefs', 'Podcast_Name_Business Insights',\n",
       "       'Podcast_Name_Comedy Corner', 'Podcast_Name_Crime Chronicles',\n",
       "       'Podcast_Name_Criminal Minds', 'Podcast_Name_Current Affairs',\n",
       "       'Podcast_Name_Daily Digest', 'Podcast_Name_Detective Diaries',\n",
       "       'Podcast_Name_Digital Digest', 'Podcast_Name_Educational Nuggets',\n",
       "       'Podcast_Name_Fashion Forward', 'Podcast_Name_Finance Focus',\n",
       "       'Podcast_Name_Fitness First', 'Podcast_Name_Funny Folks',\n",
       "       'Podcast_Name_Gadget Geek', 'Podcast_Name_Game Day',\n",
       "       'Podcast_Name_Global News', 'Podcast_Name_Health Hour',\n",
       "       'Podcast_Name_Healthy Living', 'Podcast_Name_Home & Living',\n",
       "       'Podcast_Name_Humor Hub', 'Podcast_Name_Innovators',\n",
       "       'Podcast_Name_Joke Junction', 'Podcast_Name_Laugh Line',\n",
       "       'Podcast_Name_Learning Lab', 'Podcast_Name_Life Lessons',\n",
       "       'Podcast_Name_Lifestyle Lounge', 'Podcast_Name_Market Masters',\n",
       "       'Podcast_Name_Melody Mix', 'Podcast_Name_Mind & Body',\n",
       "       'Podcast_Name_Money Matters', 'Podcast_Name_Music Matters',\n",
       "       'Podcast_Name_Mystery Matters', 'Podcast_Name_News Roundup',\n",
       "       'Podcast_Name_Sound Waves', 'Podcast_Name_Sport Spot',\n",
       "       'Podcast_Name_Sports Central', 'Podcast_Name_Sports Weekly',\n",
       "       'Podcast_Name_Study Sessions', 'Podcast_Name_Style Guide',\n",
       "       'Podcast_Name_Tech Talks', 'Podcast_Name_Tech Trends',\n",
       "       'Podcast_Name_True Crime Stories', 'Podcast_Name_Tune Time',\n",
       "       'Podcast_Name_Wellness Wave', 'Podcast_Name_World Watch',\n",
       "       'Episode_Title_Episode 1', 'Episode_Title_Episode 10',\n",
       "       'Episode_Title_Episode 100', 'Episode_Title_Episode 11',\n",
       "       'Episode_Title_Episode 12', 'Episode_Title_Episode 13',\n",
       "       'Episode_Title_Episode 14', 'Episode_Title_Episode 15',\n",
       "       'Episode_Title_Episode 16', 'Episode_Title_Episode 17',\n",
       "       'Episode_Title_Episode 18', 'Episode_Title_Episode 19',\n",
       "       'Episode_Title_Episode 2', 'Episode_Title_Episode 20',\n",
       "       'Episode_Title_Episode 21', 'Episode_Title_Episode 22',\n",
       "       'Episode_Title_Episode 23', 'Episode_Title_Episode 24',\n",
       "       'Episode_Title_Episode 25', 'Episode_Title_Episode 26',\n",
       "       'Episode_Title_Episode 27', 'Episode_Title_Episode 28',\n",
       "       'Episode_Title_Episode 29', 'Episode_Title_Episode 3',\n",
       "       'Episode_Title_Episode 30', 'Episode_Title_Episode 31',\n",
       "       'Episode_Title_Episode 32', 'Episode_Title_Episode 33',\n",
       "       'Episode_Title_Episode 34', 'Episode_Title_Episode 35',\n",
       "       'Episode_Title_Episode 36', 'Episode_Title_Episode 37',\n",
       "       'Episode_Title_Episode 38', 'Episode_Title_Episode 39',\n",
       "       'Episode_Title_Episode 4', 'Episode_Title_Episode 40',\n",
       "       'Episode_Title_Episode 41', 'Episode_Title_Episode 42',\n",
       "       'Episode_Title_Episode 43', 'Episode_Title_Episode 44',\n",
       "       'Episode_Title_Episode 45', 'Episode_Title_Episode 46',\n",
       "       'Episode_Title_Episode 47', 'Episode_Title_Episode 48',\n",
       "       'Episode_Title_Episode 49', 'Episode_Title_Episode 5',\n",
       "       'Episode_Title_Episode 50', 'Episode_Title_Episode 51',\n",
       "       'Episode_Title_Episode 52', 'Episode_Title_Episode 53',\n",
       "       'Episode_Title_Episode 54', 'Episode_Title_Episode 55',\n",
       "       'Episode_Title_Episode 56', 'Episode_Title_Episode 57',\n",
       "       'Episode_Title_Episode 58', 'Episode_Title_Episode 59',\n",
       "       'Episode_Title_Episode 6', 'Episode_Title_Episode 60',\n",
       "       'Episode_Title_Episode 61', 'Episode_Title_Episode 62',\n",
       "       'Episode_Title_Episode 63', 'Episode_Title_Episode 64',\n",
       "       'Episode_Title_Episode 65', 'Episode_Title_Episode 66',\n",
       "       'Episode_Title_Episode 67', 'Episode_Title_Episode 68',\n",
       "       'Episode_Title_Episode 69', 'Episode_Title_Episode 7',\n",
       "       'Episode_Title_Episode 70', 'Episode_Title_Episode 71',\n",
       "       'Episode_Title_Episode 72', 'Episode_Title_Episode 73',\n",
       "       'Episode_Title_Episode 74', 'Episode_Title_Episode 75',\n",
       "       'Episode_Title_Episode 76', 'Episode_Title_Episode 77',\n",
       "       'Episode_Title_Episode 78', 'Episode_Title_Episode 79',\n",
       "       'Episode_Title_Episode 8', 'Episode_Title_Episode 80',\n",
       "       'Episode_Title_Episode 81', 'Episode_Title_Episode 82',\n",
       "       'Episode_Title_Episode 83', 'Episode_Title_Episode 84',\n",
       "       'Episode_Title_Episode 85', 'Episode_Title_Episode 86',\n",
       "       'Episode_Title_Episode 87', 'Episode_Title_Episode 88',\n",
       "       'Episode_Title_Episode 89', 'Episode_Title_Episode 9',\n",
       "       'Episode_Title_Episode 90', 'Episode_Title_Episode 91',\n",
       "       'Episode_Title_Episode 92', 'Episode_Title_Episode 93',\n",
       "       'Episode_Title_Episode 94', 'Episode_Title_Episode 95',\n",
       "       'Episode_Title_Episode 96', 'Episode_Title_Episode 97',\n",
       "       'Episode_Title_Episode 98', 'Episode_Title_Episode 99',\n",
       "       'Genre_Business', 'Genre_Comedy', 'Genre_Education',\n",
       "       'Genre_Health', 'Genre_Lifestyle', 'Genre_Music', 'Genre_News',\n",
       "       'Genre_Sports', 'Genre_Technology', 'Genre_True Crime',\n",
       "       'Publication_Day_Friday', 'Publication_Day_Monday',\n",
       "       'Publication_Day_Saturday', 'Publication_Day_Sunday',\n",
       "       'Publication_Day_Thursday', 'Publication_Day_Tuesday',\n",
       "       'Publication_Day_Wednesday', 'Publication_Time_Afternoon',\n",
       "       'Publication_Time_Evening', 'Publication_Time_Morning',\n",
       "       'Publication_Time_Night', 'Episode_Sentiment_Negative',\n",
       "       'Episode_Sentiment_Neutral', 'Episode_Sentiment_Positive'],\n",
       "      dtype=object)"
      ]
     },
     "execution_count": 51,
     "metadata": {},
     "output_type": "execute_result"
    }
   ],
   "source": [
    "encoded_cols = encoder.get_feature_names_out(cat_cols)\n",
    "encoded_cols"
   ]
  },
  {
   "cell_type": "code",
   "execution_count": 52,
   "id": "a73679b8",
   "metadata": {
    "collapsed": true,
    "execution": {
     "iopub.execute_input": "2025-04-27T12:58:52.722409Z",
     "iopub.status.busy": "2025-04-27T12:58:52.722067Z",
     "iopub.status.idle": "2025-04-27T12:58:58.756328Z",
     "shell.execute_reply": "2025-04-27T12:58:58.755312Z"
    },
    "jupyter": {
     "outputs_hidden": true
    },
    "papermill": {
     "duration": 6.054715,
     "end_time": "2025-04-27T12:58:58.758381",
     "exception": false,
     "start_time": "2025-04-27T12:58:52.703666",
     "status": "completed"
    },
    "tags": []
   },
   "outputs": [
    {
     "name": "stderr",
     "output_type": "stream",
     "text": [
      "/tmp/ipykernel_13/227183327.py:1: PerformanceWarning:\n",
      "\n",
      "DataFrame is highly fragmented.  This is usually the result of calling `frame.insert` many times, which has poor performance.  Consider joining all columns at once using pd.concat(axis=1) instead. To get a de-fragmented frame, use `newframe = frame.copy()`\n",
      "\n",
      "/tmp/ipykernel_13/227183327.py:1: PerformanceWarning:\n",
      "\n",
      "DataFrame is highly fragmented.  This is usually the result of calling `frame.insert` many times, which has poor performance.  Consider joining all columns at once using pd.concat(axis=1) instead. To get a de-fragmented frame, use `newframe = frame.copy()`\n",
      "\n",
      "/tmp/ipykernel_13/227183327.py:1: PerformanceWarning:\n",
      "\n",
      "DataFrame is highly fragmented.  This is usually the result of calling `frame.insert` many times, which has poor performance.  Consider joining all columns at once using pd.concat(axis=1) instead. To get a de-fragmented frame, use `newframe = frame.copy()`\n",
      "\n",
      "/tmp/ipykernel_13/227183327.py:1: PerformanceWarning:\n",
      "\n",
      "DataFrame is highly fragmented.  This is usually the result of calling `frame.insert` many times, which has poor performance.  Consider joining all columns at once using pd.concat(axis=1) instead. To get a de-fragmented frame, use `newframe = frame.copy()`\n",
      "\n",
      "/tmp/ipykernel_13/227183327.py:1: PerformanceWarning:\n",
      "\n",
      "DataFrame is highly fragmented.  This is usually the result of calling `frame.insert` many times, which has poor performance.  Consider joining all columns at once using pd.concat(axis=1) instead. To get a de-fragmented frame, use `newframe = frame.copy()`\n",
      "\n",
      "/tmp/ipykernel_13/227183327.py:1: PerformanceWarning:\n",
      "\n",
      "DataFrame is highly fragmented.  This is usually the result of calling `frame.insert` many times, which has poor performance.  Consider joining all columns at once using pd.concat(axis=1) instead. To get a de-fragmented frame, use `newframe = frame.copy()`\n",
      "\n",
      "/tmp/ipykernel_13/227183327.py:1: PerformanceWarning:\n",
      "\n",
      "DataFrame is highly fragmented.  This is usually the result of calling `frame.insert` many times, which has poor performance.  Consider joining all columns at once using pd.concat(axis=1) instead. To get a de-fragmented frame, use `newframe = frame.copy()`\n",
      "\n",
      "/tmp/ipykernel_13/227183327.py:1: PerformanceWarning:\n",
      "\n",
      "DataFrame is highly fragmented.  This is usually the result of calling `frame.insert` many times, which has poor performance.  Consider joining all columns at once using pd.concat(axis=1) instead. To get a de-fragmented frame, use `newframe = frame.copy()`\n",
      "\n",
      "/tmp/ipykernel_13/227183327.py:1: PerformanceWarning:\n",
      "\n",
      "DataFrame is highly fragmented.  This is usually the result of calling `frame.insert` many times, which has poor performance.  Consider joining all columns at once using pd.concat(axis=1) instead. To get a de-fragmented frame, use `newframe = frame.copy()`\n",
      "\n",
      "/tmp/ipykernel_13/227183327.py:1: PerformanceWarning:\n",
      "\n",
      "DataFrame is highly fragmented.  This is usually the result of calling `frame.insert` many times, which has poor performance.  Consider joining all columns at once using pd.concat(axis=1) instead. To get a de-fragmented frame, use `newframe = frame.copy()`\n",
      "\n",
      "/tmp/ipykernel_13/227183327.py:1: PerformanceWarning:\n",
      "\n",
      "DataFrame is highly fragmented.  This is usually the result of calling `frame.insert` many times, which has poor performance.  Consider joining all columns at once using pd.concat(axis=1) instead. To get a de-fragmented frame, use `newframe = frame.copy()`\n",
      "\n",
      "/tmp/ipykernel_13/227183327.py:1: PerformanceWarning:\n",
      "\n",
      "DataFrame is highly fragmented.  This is usually the result of calling `frame.insert` many times, which has poor performance.  Consider joining all columns at once using pd.concat(axis=1) instead. To get a de-fragmented frame, use `newframe = frame.copy()`\n",
      "\n",
      "/tmp/ipykernel_13/227183327.py:1: PerformanceWarning:\n",
      "\n",
      "DataFrame is highly fragmented.  This is usually the result of calling `frame.insert` many times, which has poor performance.  Consider joining all columns at once using pd.concat(axis=1) instead. To get a de-fragmented frame, use `newframe = frame.copy()`\n",
      "\n",
      "/tmp/ipykernel_13/227183327.py:1: PerformanceWarning:\n",
      "\n",
      "DataFrame is highly fragmented.  This is usually the result of calling `frame.insert` many times, which has poor performance.  Consider joining all columns at once using pd.concat(axis=1) instead. To get a de-fragmented frame, use `newframe = frame.copy()`\n",
      "\n",
      "/tmp/ipykernel_13/227183327.py:1: PerformanceWarning:\n",
      "\n",
      "DataFrame is highly fragmented.  This is usually the result of calling `frame.insert` many times, which has poor performance.  Consider joining all columns at once using pd.concat(axis=1) instead. To get a de-fragmented frame, use `newframe = frame.copy()`\n",
      "\n",
      "/tmp/ipykernel_13/227183327.py:1: PerformanceWarning:\n",
      "\n",
      "DataFrame is highly fragmented.  This is usually the result of calling `frame.insert` many times, which has poor performance.  Consider joining all columns at once using pd.concat(axis=1) instead. To get a de-fragmented frame, use `newframe = frame.copy()`\n",
      "\n",
      "/tmp/ipykernel_13/227183327.py:1: PerformanceWarning:\n",
      "\n",
      "DataFrame is highly fragmented.  This is usually the result of calling `frame.insert` many times, which has poor performance.  Consider joining all columns at once using pd.concat(axis=1) instead. To get a de-fragmented frame, use `newframe = frame.copy()`\n",
      "\n",
      "/tmp/ipykernel_13/227183327.py:1: PerformanceWarning:\n",
      "\n",
      "DataFrame is highly fragmented.  This is usually the result of calling `frame.insert` many times, which has poor performance.  Consider joining all columns at once using pd.concat(axis=1) instead. To get a de-fragmented frame, use `newframe = frame.copy()`\n",
      "\n",
      "/tmp/ipykernel_13/227183327.py:1: PerformanceWarning:\n",
      "\n",
      "DataFrame is highly fragmented.  This is usually the result of calling `frame.insert` many times, which has poor performance.  Consider joining all columns at once using pd.concat(axis=1) instead. To get a de-fragmented frame, use `newframe = frame.copy()`\n",
      "\n",
      "/tmp/ipykernel_13/227183327.py:1: PerformanceWarning:\n",
      "\n",
      "DataFrame is highly fragmented.  This is usually the result of calling `frame.insert` many times, which has poor performance.  Consider joining all columns at once using pd.concat(axis=1) instead. To get a de-fragmented frame, use `newframe = frame.copy()`\n",
      "\n",
      "/tmp/ipykernel_13/227183327.py:1: PerformanceWarning:\n",
      "\n",
      "DataFrame is highly fragmented.  This is usually the result of calling `frame.insert` many times, which has poor performance.  Consider joining all columns at once using pd.concat(axis=1) instead. To get a de-fragmented frame, use `newframe = frame.copy()`\n",
      "\n",
      "/tmp/ipykernel_13/227183327.py:1: PerformanceWarning:\n",
      "\n",
      "DataFrame is highly fragmented.  This is usually the result of calling `frame.insert` many times, which has poor performance.  Consider joining all columns at once using pd.concat(axis=1) instead. To get a de-fragmented frame, use `newframe = frame.copy()`\n",
      "\n",
      "/tmp/ipykernel_13/227183327.py:1: PerformanceWarning:\n",
      "\n",
      "DataFrame is highly fragmented.  This is usually the result of calling `frame.insert` many times, which has poor performance.  Consider joining all columns at once using pd.concat(axis=1) instead. To get a de-fragmented frame, use `newframe = frame.copy()`\n",
      "\n",
      "/tmp/ipykernel_13/227183327.py:1: PerformanceWarning:\n",
      "\n",
      "DataFrame is highly fragmented.  This is usually the result of calling `frame.insert` many times, which has poor performance.  Consider joining all columns at once using pd.concat(axis=1) instead. To get a de-fragmented frame, use `newframe = frame.copy()`\n",
      "\n",
      "/tmp/ipykernel_13/227183327.py:1: PerformanceWarning:\n",
      "\n",
      "DataFrame is highly fragmented.  This is usually the result of calling `frame.insert` many times, which has poor performance.  Consider joining all columns at once using pd.concat(axis=1) instead. To get a de-fragmented frame, use `newframe = frame.copy()`\n",
      "\n",
      "/tmp/ipykernel_13/227183327.py:1: PerformanceWarning:\n",
      "\n",
      "DataFrame is highly fragmented.  This is usually the result of calling `frame.insert` many times, which has poor performance.  Consider joining all columns at once using pd.concat(axis=1) instead. To get a de-fragmented frame, use `newframe = frame.copy()`\n",
      "\n",
      "/tmp/ipykernel_13/227183327.py:1: PerformanceWarning:\n",
      "\n",
      "DataFrame is highly fragmented.  This is usually the result of calling `frame.insert` many times, which has poor performance.  Consider joining all columns at once using pd.concat(axis=1) instead. To get a de-fragmented frame, use `newframe = frame.copy()`\n",
      "\n",
      "/tmp/ipykernel_13/227183327.py:1: PerformanceWarning:\n",
      "\n",
      "DataFrame is highly fragmented.  This is usually the result of calling `frame.insert` many times, which has poor performance.  Consider joining all columns at once using pd.concat(axis=1) instead. To get a de-fragmented frame, use `newframe = frame.copy()`\n",
      "\n",
      "/tmp/ipykernel_13/227183327.py:1: PerformanceWarning:\n",
      "\n",
      "DataFrame is highly fragmented.  This is usually the result of calling `frame.insert` many times, which has poor performance.  Consider joining all columns at once using pd.concat(axis=1) instead. To get a de-fragmented frame, use `newframe = frame.copy()`\n",
      "\n",
      "/tmp/ipykernel_13/227183327.py:1: PerformanceWarning:\n",
      "\n",
      "DataFrame is highly fragmented.  This is usually the result of calling `frame.insert` many times, which has poor performance.  Consider joining all columns at once using pd.concat(axis=1) instead. To get a de-fragmented frame, use `newframe = frame.copy()`\n",
      "\n",
      "/tmp/ipykernel_13/227183327.py:1: PerformanceWarning:\n",
      "\n",
      "DataFrame is highly fragmented.  This is usually the result of calling `frame.insert` many times, which has poor performance.  Consider joining all columns at once using pd.concat(axis=1) instead. To get a de-fragmented frame, use `newframe = frame.copy()`\n",
      "\n",
      "/tmp/ipykernel_13/227183327.py:1: PerformanceWarning:\n",
      "\n",
      "DataFrame is highly fragmented.  This is usually the result of calling `frame.insert` many times, which has poor performance.  Consider joining all columns at once using pd.concat(axis=1) instead. To get a de-fragmented frame, use `newframe = frame.copy()`\n",
      "\n",
      "/tmp/ipykernel_13/227183327.py:1: PerformanceWarning:\n",
      "\n",
      "DataFrame is highly fragmented.  This is usually the result of calling `frame.insert` many times, which has poor performance.  Consider joining all columns at once using pd.concat(axis=1) instead. To get a de-fragmented frame, use `newframe = frame.copy()`\n",
      "\n",
      "/tmp/ipykernel_13/227183327.py:1: PerformanceWarning:\n",
      "\n",
      "DataFrame is highly fragmented.  This is usually the result of calling `frame.insert` many times, which has poor performance.  Consider joining all columns at once using pd.concat(axis=1) instead. To get a de-fragmented frame, use `newframe = frame.copy()`\n",
      "\n",
      "/tmp/ipykernel_13/227183327.py:1: PerformanceWarning:\n",
      "\n",
      "DataFrame is highly fragmented.  This is usually the result of calling `frame.insert` many times, which has poor performance.  Consider joining all columns at once using pd.concat(axis=1) instead. To get a de-fragmented frame, use `newframe = frame.copy()`\n",
      "\n",
      "/tmp/ipykernel_13/227183327.py:1: PerformanceWarning:\n",
      "\n",
      "DataFrame is highly fragmented.  This is usually the result of calling `frame.insert` many times, which has poor performance.  Consider joining all columns at once using pd.concat(axis=1) instead. To get a de-fragmented frame, use `newframe = frame.copy()`\n",
      "\n",
      "/tmp/ipykernel_13/227183327.py:1: PerformanceWarning:\n",
      "\n",
      "DataFrame is highly fragmented.  This is usually the result of calling `frame.insert` many times, which has poor performance.  Consider joining all columns at once using pd.concat(axis=1) instead. To get a de-fragmented frame, use `newframe = frame.copy()`\n",
      "\n",
      "/tmp/ipykernel_13/227183327.py:1: PerformanceWarning:\n",
      "\n",
      "DataFrame is highly fragmented.  This is usually the result of calling `frame.insert` many times, which has poor performance.  Consider joining all columns at once using pd.concat(axis=1) instead. To get a de-fragmented frame, use `newframe = frame.copy()`\n",
      "\n",
      "/tmp/ipykernel_13/227183327.py:1: PerformanceWarning:\n",
      "\n",
      "DataFrame is highly fragmented.  This is usually the result of calling `frame.insert` many times, which has poor performance.  Consider joining all columns at once using pd.concat(axis=1) instead. To get a de-fragmented frame, use `newframe = frame.copy()`\n",
      "\n",
      "/tmp/ipykernel_13/227183327.py:1: PerformanceWarning:\n",
      "\n",
      "DataFrame is highly fragmented.  This is usually the result of calling `frame.insert` many times, which has poor performance.  Consider joining all columns at once using pd.concat(axis=1) instead. To get a de-fragmented frame, use `newframe = frame.copy()`\n",
      "\n",
      "/tmp/ipykernel_13/227183327.py:1: PerformanceWarning:\n",
      "\n",
      "DataFrame is highly fragmented.  This is usually the result of calling `frame.insert` many times, which has poor performance.  Consider joining all columns at once using pd.concat(axis=1) instead. To get a de-fragmented frame, use `newframe = frame.copy()`\n",
      "\n",
      "/tmp/ipykernel_13/227183327.py:1: PerformanceWarning:\n",
      "\n",
      "DataFrame is highly fragmented.  This is usually the result of calling `frame.insert` many times, which has poor performance.  Consider joining all columns at once using pd.concat(axis=1) instead. To get a de-fragmented frame, use `newframe = frame.copy()`\n",
      "\n",
      "/tmp/ipykernel_13/227183327.py:1: PerformanceWarning:\n",
      "\n",
      "DataFrame is highly fragmented.  This is usually the result of calling `frame.insert` many times, which has poor performance.  Consider joining all columns at once using pd.concat(axis=1) instead. To get a de-fragmented frame, use `newframe = frame.copy()`\n",
      "\n",
      "/tmp/ipykernel_13/227183327.py:1: PerformanceWarning:\n",
      "\n",
      "DataFrame is highly fragmented.  This is usually the result of calling `frame.insert` many times, which has poor performance.  Consider joining all columns at once using pd.concat(axis=1) instead. To get a de-fragmented frame, use `newframe = frame.copy()`\n",
      "\n",
      "/tmp/ipykernel_13/227183327.py:1: PerformanceWarning:\n",
      "\n",
      "DataFrame is highly fragmented.  This is usually the result of calling `frame.insert` many times, which has poor performance.  Consider joining all columns at once using pd.concat(axis=1) instead. To get a de-fragmented frame, use `newframe = frame.copy()`\n",
      "\n",
      "/tmp/ipykernel_13/227183327.py:1: PerformanceWarning:\n",
      "\n",
      "DataFrame is highly fragmented.  This is usually the result of calling `frame.insert` many times, which has poor performance.  Consider joining all columns at once using pd.concat(axis=1) instead. To get a de-fragmented frame, use `newframe = frame.copy()`\n",
      "\n",
      "/tmp/ipykernel_13/227183327.py:1: PerformanceWarning:\n",
      "\n",
      "DataFrame is highly fragmented.  This is usually the result of calling `frame.insert` many times, which has poor performance.  Consider joining all columns at once using pd.concat(axis=1) instead. To get a de-fragmented frame, use `newframe = frame.copy()`\n",
      "\n",
      "/tmp/ipykernel_13/227183327.py:1: PerformanceWarning:\n",
      "\n",
      "DataFrame is highly fragmented.  This is usually the result of calling `frame.insert` many times, which has poor performance.  Consider joining all columns at once using pd.concat(axis=1) instead. To get a de-fragmented frame, use `newframe = frame.copy()`\n",
      "\n",
      "/tmp/ipykernel_13/227183327.py:1: PerformanceWarning:\n",
      "\n",
      "DataFrame is highly fragmented.  This is usually the result of calling `frame.insert` many times, which has poor performance.  Consider joining all columns at once using pd.concat(axis=1) instead. To get a de-fragmented frame, use `newframe = frame.copy()`\n",
      "\n",
      "/tmp/ipykernel_13/227183327.py:1: PerformanceWarning:\n",
      "\n",
      "DataFrame is highly fragmented.  This is usually the result of calling `frame.insert` many times, which has poor performance.  Consider joining all columns at once using pd.concat(axis=1) instead. To get a de-fragmented frame, use `newframe = frame.copy()`\n",
      "\n",
      "/tmp/ipykernel_13/227183327.py:1: PerformanceWarning:\n",
      "\n",
      "DataFrame is highly fragmented.  This is usually the result of calling `frame.insert` many times, which has poor performance.  Consider joining all columns at once using pd.concat(axis=1) instead. To get a de-fragmented frame, use `newframe = frame.copy()`\n",
      "\n",
      "/tmp/ipykernel_13/227183327.py:1: PerformanceWarning:\n",
      "\n",
      "DataFrame is highly fragmented.  This is usually the result of calling `frame.insert` many times, which has poor performance.  Consider joining all columns at once using pd.concat(axis=1) instead. To get a de-fragmented frame, use `newframe = frame.copy()`\n",
      "\n",
      "/tmp/ipykernel_13/227183327.py:1: PerformanceWarning:\n",
      "\n",
      "DataFrame is highly fragmented.  This is usually the result of calling `frame.insert` many times, which has poor performance.  Consider joining all columns at once using pd.concat(axis=1) instead. To get a de-fragmented frame, use `newframe = frame.copy()`\n",
      "\n",
      "/tmp/ipykernel_13/227183327.py:1: PerformanceWarning:\n",
      "\n",
      "DataFrame is highly fragmented.  This is usually the result of calling `frame.insert` many times, which has poor performance.  Consider joining all columns at once using pd.concat(axis=1) instead. To get a de-fragmented frame, use `newframe = frame.copy()`\n",
      "\n",
      "/tmp/ipykernel_13/227183327.py:1: PerformanceWarning:\n",
      "\n",
      "DataFrame is highly fragmented.  This is usually the result of calling `frame.insert` many times, which has poor performance.  Consider joining all columns at once using pd.concat(axis=1) instead. To get a de-fragmented frame, use `newframe = frame.copy()`\n",
      "\n",
      "/tmp/ipykernel_13/227183327.py:1: PerformanceWarning:\n",
      "\n",
      "DataFrame is highly fragmented.  This is usually the result of calling `frame.insert` many times, which has poor performance.  Consider joining all columns at once using pd.concat(axis=1) instead. To get a de-fragmented frame, use `newframe = frame.copy()`\n",
      "\n",
      "/tmp/ipykernel_13/227183327.py:1: PerformanceWarning:\n",
      "\n",
      "DataFrame is highly fragmented.  This is usually the result of calling `frame.insert` many times, which has poor performance.  Consider joining all columns at once using pd.concat(axis=1) instead. To get a de-fragmented frame, use `newframe = frame.copy()`\n",
      "\n",
      "/tmp/ipykernel_13/227183327.py:1: PerformanceWarning:\n",
      "\n",
      "DataFrame is highly fragmented.  This is usually the result of calling `frame.insert` many times, which has poor performance.  Consider joining all columns at once using pd.concat(axis=1) instead. To get a de-fragmented frame, use `newframe = frame.copy()`\n",
      "\n",
      "/tmp/ipykernel_13/227183327.py:1: PerformanceWarning:\n",
      "\n",
      "DataFrame is highly fragmented.  This is usually the result of calling `frame.insert` many times, which has poor performance.  Consider joining all columns at once using pd.concat(axis=1) instead. To get a de-fragmented frame, use `newframe = frame.copy()`\n",
      "\n",
      "/tmp/ipykernel_13/227183327.py:1: PerformanceWarning:\n",
      "\n",
      "DataFrame is highly fragmented.  This is usually the result of calling `frame.insert` many times, which has poor performance.  Consider joining all columns at once using pd.concat(axis=1) instead. To get a de-fragmented frame, use `newframe = frame.copy()`\n",
      "\n",
      "/tmp/ipykernel_13/227183327.py:1: PerformanceWarning:\n",
      "\n",
      "DataFrame is highly fragmented.  This is usually the result of calling `frame.insert` many times, which has poor performance.  Consider joining all columns at once using pd.concat(axis=1) instead. To get a de-fragmented frame, use `newframe = frame.copy()`\n",
      "\n",
      "/tmp/ipykernel_13/227183327.py:1: PerformanceWarning:\n",
      "\n",
      "DataFrame is highly fragmented.  This is usually the result of calling `frame.insert` many times, which has poor performance.  Consider joining all columns at once using pd.concat(axis=1) instead. To get a de-fragmented frame, use `newframe = frame.copy()`\n",
      "\n",
      "/tmp/ipykernel_13/227183327.py:1: PerformanceWarning:\n",
      "\n",
      "DataFrame is highly fragmented.  This is usually the result of calling `frame.insert` many times, which has poor performance.  Consider joining all columns at once using pd.concat(axis=1) instead. To get a de-fragmented frame, use `newframe = frame.copy()`\n",
      "\n",
      "/tmp/ipykernel_13/227183327.py:1: PerformanceWarning:\n",
      "\n",
      "DataFrame is highly fragmented.  This is usually the result of calling `frame.insert` many times, which has poor performance.  Consider joining all columns at once using pd.concat(axis=1) instead. To get a de-fragmented frame, use `newframe = frame.copy()`\n",
      "\n",
      "/tmp/ipykernel_13/227183327.py:1: PerformanceWarning:\n",
      "\n",
      "DataFrame is highly fragmented.  This is usually the result of calling `frame.insert` many times, which has poor performance.  Consider joining all columns at once using pd.concat(axis=1) instead. To get a de-fragmented frame, use `newframe = frame.copy()`\n",
      "\n",
      "/tmp/ipykernel_13/227183327.py:1: PerformanceWarning:\n",
      "\n",
      "DataFrame is highly fragmented.  This is usually the result of calling `frame.insert` many times, which has poor performance.  Consider joining all columns at once using pd.concat(axis=1) instead. To get a de-fragmented frame, use `newframe = frame.copy()`\n",
      "\n",
      "/tmp/ipykernel_13/227183327.py:1: PerformanceWarning:\n",
      "\n",
      "DataFrame is highly fragmented.  This is usually the result of calling `frame.insert` many times, which has poor performance.  Consider joining all columns at once using pd.concat(axis=1) instead. To get a de-fragmented frame, use `newframe = frame.copy()`\n",
      "\n",
      "/tmp/ipykernel_13/227183327.py:1: PerformanceWarning:\n",
      "\n",
      "DataFrame is highly fragmented.  This is usually the result of calling `frame.insert` many times, which has poor performance.  Consider joining all columns at once using pd.concat(axis=1) instead. To get a de-fragmented frame, use `newframe = frame.copy()`\n",
      "\n",
      "/tmp/ipykernel_13/227183327.py:1: PerformanceWarning:\n",
      "\n",
      "DataFrame is highly fragmented.  This is usually the result of calling `frame.insert` many times, which has poor performance.  Consider joining all columns at once using pd.concat(axis=1) instead. To get a de-fragmented frame, use `newframe = frame.copy()`\n",
      "\n",
      "/tmp/ipykernel_13/227183327.py:1: PerformanceWarning:\n",
      "\n",
      "DataFrame is highly fragmented.  This is usually the result of calling `frame.insert` many times, which has poor performance.  Consider joining all columns at once using pd.concat(axis=1) instead. To get a de-fragmented frame, use `newframe = frame.copy()`\n",
      "\n",
      "/tmp/ipykernel_13/227183327.py:1: PerformanceWarning:\n",
      "\n",
      "DataFrame is highly fragmented.  This is usually the result of calling `frame.insert` many times, which has poor performance.  Consider joining all columns at once using pd.concat(axis=1) instead. To get a de-fragmented frame, use `newframe = frame.copy()`\n",
      "\n",
      "/tmp/ipykernel_13/227183327.py:1: PerformanceWarning:\n",
      "\n",
      "DataFrame is highly fragmented.  This is usually the result of calling `frame.insert` many times, which has poor performance.  Consider joining all columns at once using pd.concat(axis=1) instead. To get a de-fragmented frame, use `newframe = frame.copy()`\n",
      "\n",
      "/tmp/ipykernel_13/227183327.py:1: PerformanceWarning:\n",
      "\n",
      "DataFrame is highly fragmented.  This is usually the result of calling `frame.insert` many times, which has poor performance.  Consider joining all columns at once using pd.concat(axis=1) instead. To get a de-fragmented frame, use `newframe = frame.copy()`\n",
      "\n",
      "/tmp/ipykernel_13/227183327.py:1: PerformanceWarning:\n",
      "\n",
      "DataFrame is highly fragmented.  This is usually the result of calling `frame.insert` many times, which has poor performance.  Consider joining all columns at once using pd.concat(axis=1) instead. To get a de-fragmented frame, use `newframe = frame.copy()`\n",
      "\n",
      "/tmp/ipykernel_13/227183327.py:1: PerformanceWarning:\n",
      "\n",
      "DataFrame is highly fragmented.  This is usually the result of calling `frame.insert` many times, which has poor performance.  Consider joining all columns at once using pd.concat(axis=1) instead. To get a de-fragmented frame, use `newframe = frame.copy()`\n",
      "\n",
      "/tmp/ipykernel_13/227183327.py:1: PerformanceWarning:\n",
      "\n",
      "DataFrame is highly fragmented.  This is usually the result of calling `frame.insert` many times, which has poor performance.  Consider joining all columns at once using pd.concat(axis=1) instead. To get a de-fragmented frame, use `newframe = frame.copy()`\n",
      "\n",
      "/tmp/ipykernel_13/227183327.py:1: PerformanceWarning:\n",
      "\n",
      "DataFrame is highly fragmented.  This is usually the result of calling `frame.insert` many times, which has poor performance.  Consider joining all columns at once using pd.concat(axis=1) instead. To get a de-fragmented frame, use `newframe = frame.copy()`\n",
      "\n",
      "/tmp/ipykernel_13/227183327.py:1: PerformanceWarning:\n",
      "\n",
      "DataFrame is highly fragmented.  This is usually the result of calling `frame.insert` many times, which has poor performance.  Consider joining all columns at once using pd.concat(axis=1) instead. To get a de-fragmented frame, use `newframe = frame.copy()`\n",
      "\n"
     ]
    }
   ],
   "source": [
    "train_df[encoded_cols] = encoder.transform(train_df[cat_cols])"
   ]
  },
  {
   "cell_type": "code",
   "execution_count": 53,
   "id": "c6a5d052",
   "metadata": {
    "collapsed": true,
    "execution": {
     "iopub.execute_input": "2025-04-27T12:58:58.795470Z",
     "iopub.status.busy": "2025-04-27T12:58:58.795178Z",
     "iopub.status.idle": "2025-04-27T12:59:01.051076Z",
     "shell.execute_reply": "2025-04-27T12:59:01.049850Z"
    },
    "jupyter": {
     "outputs_hidden": true
    },
    "papermill": {
     "duration": 2.275891,
     "end_time": "2025-04-27T12:59:01.052611",
     "exception": false,
     "start_time": "2025-04-27T12:58:58.776720",
     "status": "completed"
    },
    "tags": []
   },
   "outputs": [
    {
     "name": "stderr",
     "output_type": "stream",
     "text": [
      "/tmp/ipykernel_13/2389210805.py:1: PerformanceWarning:\n",
      "\n",
      "DataFrame is highly fragmented.  This is usually the result of calling `frame.insert` many times, which has poor performance.  Consider joining all columns at once using pd.concat(axis=1) instead. To get a de-fragmented frame, use `newframe = frame.copy()`\n",
      "\n",
      "/tmp/ipykernel_13/2389210805.py:1: PerformanceWarning:\n",
      "\n",
      "DataFrame is highly fragmented.  This is usually the result of calling `frame.insert` many times, which has poor performance.  Consider joining all columns at once using pd.concat(axis=1) instead. To get a de-fragmented frame, use `newframe = frame.copy()`\n",
      "\n",
      "/tmp/ipykernel_13/2389210805.py:1: PerformanceWarning:\n",
      "\n",
      "DataFrame is highly fragmented.  This is usually the result of calling `frame.insert` many times, which has poor performance.  Consider joining all columns at once using pd.concat(axis=1) instead. To get a de-fragmented frame, use `newframe = frame.copy()`\n",
      "\n",
      "/tmp/ipykernel_13/2389210805.py:1: PerformanceWarning:\n",
      "\n",
      "DataFrame is highly fragmented.  This is usually the result of calling `frame.insert` many times, which has poor performance.  Consider joining all columns at once using pd.concat(axis=1) instead. To get a de-fragmented frame, use `newframe = frame.copy()`\n",
      "\n",
      "/tmp/ipykernel_13/2389210805.py:1: PerformanceWarning:\n",
      "\n",
      "DataFrame is highly fragmented.  This is usually the result of calling `frame.insert` many times, which has poor performance.  Consider joining all columns at once using pd.concat(axis=1) instead. To get a de-fragmented frame, use `newframe = frame.copy()`\n",
      "\n",
      "/tmp/ipykernel_13/2389210805.py:1: PerformanceWarning:\n",
      "\n",
      "DataFrame is highly fragmented.  This is usually the result of calling `frame.insert` many times, which has poor performance.  Consider joining all columns at once using pd.concat(axis=1) instead. To get a de-fragmented frame, use `newframe = frame.copy()`\n",
      "\n",
      "/tmp/ipykernel_13/2389210805.py:1: PerformanceWarning:\n",
      "\n",
      "DataFrame is highly fragmented.  This is usually the result of calling `frame.insert` many times, which has poor performance.  Consider joining all columns at once using pd.concat(axis=1) instead. To get a de-fragmented frame, use `newframe = frame.copy()`\n",
      "\n",
      "/tmp/ipykernel_13/2389210805.py:1: PerformanceWarning:\n",
      "\n",
      "DataFrame is highly fragmented.  This is usually the result of calling `frame.insert` many times, which has poor performance.  Consider joining all columns at once using pd.concat(axis=1) instead. To get a de-fragmented frame, use `newframe = frame.copy()`\n",
      "\n",
      "/tmp/ipykernel_13/2389210805.py:1: PerformanceWarning:\n",
      "\n",
      "DataFrame is highly fragmented.  This is usually the result of calling `frame.insert` many times, which has poor performance.  Consider joining all columns at once using pd.concat(axis=1) instead. To get a de-fragmented frame, use `newframe = frame.copy()`\n",
      "\n",
      "/tmp/ipykernel_13/2389210805.py:1: PerformanceWarning:\n",
      "\n",
      "DataFrame is highly fragmented.  This is usually the result of calling `frame.insert` many times, which has poor performance.  Consider joining all columns at once using pd.concat(axis=1) instead. To get a de-fragmented frame, use `newframe = frame.copy()`\n",
      "\n",
      "/tmp/ipykernel_13/2389210805.py:1: PerformanceWarning:\n",
      "\n",
      "DataFrame is highly fragmented.  This is usually the result of calling `frame.insert` many times, which has poor performance.  Consider joining all columns at once using pd.concat(axis=1) instead. To get a de-fragmented frame, use `newframe = frame.copy()`\n",
      "\n",
      "/tmp/ipykernel_13/2389210805.py:1: PerformanceWarning:\n",
      "\n",
      "DataFrame is highly fragmented.  This is usually the result of calling `frame.insert` many times, which has poor performance.  Consider joining all columns at once using pd.concat(axis=1) instead. To get a de-fragmented frame, use `newframe = frame.copy()`\n",
      "\n",
      "/tmp/ipykernel_13/2389210805.py:1: PerformanceWarning:\n",
      "\n",
      "DataFrame is highly fragmented.  This is usually the result of calling `frame.insert` many times, which has poor performance.  Consider joining all columns at once using pd.concat(axis=1) instead. To get a de-fragmented frame, use `newframe = frame.copy()`\n",
      "\n",
      "/tmp/ipykernel_13/2389210805.py:1: PerformanceWarning:\n",
      "\n",
      "DataFrame is highly fragmented.  This is usually the result of calling `frame.insert` many times, which has poor performance.  Consider joining all columns at once using pd.concat(axis=1) instead. To get a de-fragmented frame, use `newframe = frame.copy()`\n",
      "\n",
      "/tmp/ipykernel_13/2389210805.py:1: PerformanceWarning:\n",
      "\n",
      "DataFrame is highly fragmented.  This is usually the result of calling `frame.insert` many times, which has poor performance.  Consider joining all columns at once using pd.concat(axis=1) instead. To get a de-fragmented frame, use `newframe = frame.copy()`\n",
      "\n",
      "/tmp/ipykernel_13/2389210805.py:1: PerformanceWarning:\n",
      "\n",
      "DataFrame is highly fragmented.  This is usually the result of calling `frame.insert` many times, which has poor performance.  Consider joining all columns at once using pd.concat(axis=1) instead. To get a de-fragmented frame, use `newframe = frame.copy()`\n",
      "\n",
      "/tmp/ipykernel_13/2389210805.py:1: PerformanceWarning:\n",
      "\n",
      "DataFrame is highly fragmented.  This is usually the result of calling `frame.insert` many times, which has poor performance.  Consider joining all columns at once using pd.concat(axis=1) instead. To get a de-fragmented frame, use `newframe = frame.copy()`\n",
      "\n",
      "/tmp/ipykernel_13/2389210805.py:1: PerformanceWarning:\n",
      "\n",
      "DataFrame is highly fragmented.  This is usually the result of calling `frame.insert` many times, which has poor performance.  Consider joining all columns at once using pd.concat(axis=1) instead. To get a de-fragmented frame, use `newframe = frame.copy()`\n",
      "\n",
      "/tmp/ipykernel_13/2389210805.py:1: PerformanceWarning:\n",
      "\n",
      "DataFrame is highly fragmented.  This is usually the result of calling `frame.insert` many times, which has poor performance.  Consider joining all columns at once using pd.concat(axis=1) instead. To get a de-fragmented frame, use `newframe = frame.copy()`\n",
      "\n",
      "/tmp/ipykernel_13/2389210805.py:1: PerformanceWarning:\n",
      "\n",
      "DataFrame is highly fragmented.  This is usually the result of calling `frame.insert` many times, which has poor performance.  Consider joining all columns at once using pd.concat(axis=1) instead. To get a de-fragmented frame, use `newframe = frame.copy()`\n",
      "\n",
      "/tmp/ipykernel_13/2389210805.py:1: PerformanceWarning:\n",
      "\n",
      "DataFrame is highly fragmented.  This is usually the result of calling `frame.insert` many times, which has poor performance.  Consider joining all columns at once using pd.concat(axis=1) instead. To get a de-fragmented frame, use `newframe = frame.copy()`\n",
      "\n",
      "/tmp/ipykernel_13/2389210805.py:1: PerformanceWarning:\n",
      "\n",
      "DataFrame is highly fragmented.  This is usually the result of calling `frame.insert` many times, which has poor performance.  Consider joining all columns at once using pd.concat(axis=1) instead. To get a de-fragmented frame, use `newframe = frame.copy()`\n",
      "\n",
      "/tmp/ipykernel_13/2389210805.py:1: PerformanceWarning:\n",
      "\n",
      "DataFrame is highly fragmented.  This is usually the result of calling `frame.insert` many times, which has poor performance.  Consider joining all columns at once using pd.concat(axis=1) instead. To get a de-fragmented frame, use `newframe = frame.copy()`\n",
      "\n",
      "/tmp/ipykernel_13/2389210805.py:1: PerformanceWarning:\n",
      "\n",
      "DataFrame is highly fragmented.  This is usually the result of calling `frame.insert` many times, which has poor performance.  Consider joining all columns at once using pd.concat(axis=1) instead. To get a de-fragmented frame, use `newframe = frame.copy()`\n",
      "\n",
      "/tmp/ipykernel_13/2389210805.py:1: PerformanceWarning:\n",
      "\n",
      "DataFrame is highly fragmented.  This is usually the result of calling `frame.insert` many times, which has poor performance.  Consider joining all columns at once using pd.concat(axis=1) instead. To get a de-fragmented frame, use `newframe = frame.copy()`\n",
      "\n",
      "/tmp/ipykernel_13/2389210805.py:1: PerformanceWarning:\n",
      "\n",
      "DataFrame is highly fragmented.  This is usually the result of calling `frame.insert` many times, which has poor performance.  Consider joining all columns at once using pd.concat(axis=1) instead. To get a de-fragmented frame, use `newframe = frame.copy()`\n",
      "\n",
      "/tmp/ipykernel_13/2389210805.py:1: PerformanceWarning:\n",
      "\n",
      "DataFrame is highly fragmented.  This is usually the result of calling `frame.insert` many times, which has poor performance.  Consider joining all columns at once using pd.concat(axis=1) instead. To get a de-fragmented frame, use `newframe = frame.copy()`\n",
      "\n",
      "/tmp/ipykernel_13/2389210805.py:1: PerformanceWarning:\n",
      "\n",
      "DataFrame is highly fragmented.  This is usually the result of calling `frame.insert` many times, which has poor performance.  Consider joining all columns at once using pd.concat(axis=1) instead. To get a de-fragmented frame, use `newframe = frame.copy()`\n",
      "\n",
      "/tmp/ipykernel_13/2389210805.py:1: PerformanceWarning:\n",
      "\n",
      "DataFrame is highly fragmented.  This is usually the result of calling `frame.insert` many times, which has poor performance.  Consider joining all columns at once using pd.concat(axis=1) instead. To get a de-fragmented frame, use `newframe = frame.copy()`\n",
      "\n",
      "/tmp/ipykernel_13/2389210805.py:1: PerformanceWarning:\n",
      "\n",
      "DataFrame is highly fragmented.  This is usually the result of calling `frame.insert` many times, which has poor performance.  Consider joining all columns at once using pd.concat(axis=1) instead. To get a de-fragmented frame, use `newframe = frame.copy()`\n",
      "\n",
      "/tmp/ipykernel_13/2389210805.py:1: PerformanceWarning:\n",
      "\n",
      "DataFrame is highly fragmented.  This is usually the result of calling `frame.insert` many times, which has poor performance.  Consider joining all columns at once using pd.concat(axis=1) instead. To get a de-fragmented frame, use `newframe = frame.copy()`\n",
      "\n",
      "/tmp/ipykernel_13/2389210805.py:1: PerformanceWarning:\n",
      "\n",
      "DataFrame is highly fragmented.  This is usually the result of calling `frame.insert` many times, which has poor performance.  Consider joining all columns at once using pd.concat(axis=1) instead. To get a de-fragmented frame, use `newframe = frame.copy()`\n",
      "\n",
      "/tmp/ipykernel_13/2389210805.py:1: PerformanceWarning:\n",
      "\n",
      "DataFrame is highly fragmented.  This is usually the result of calling `frame.insert` many times, which has poor performance.  Consider joining all columns at once using pd.concat(axis=1) instead. To get a de-fragmented frame, use `newframe = frame.copy()`\n",
      "\n",
      "/tmp/ipykernel_13/2389210805.py:1: PerformanceWarning:\n",
      "\n",
      "DataFrame is highly fragmented.  This is usually the result of calling `frame.insert` many times, which has poor performance.  Consider joining all columns at once using pd.concat(axis=1) instead. To get a de-fragmented frame, use `newframe = frame.copy()`\n",
      "\n",
      "/tmp/ipykernel_13/2389210805.py:1: PerformanceWarning:\n",
      "\n",
      "DataFrame is highly fragmented.  This is usually the result of calling `frame.insert` many times, which has poor performance.  Consider joining all columns at once using pd.concat(axis=1) instead. To get a de-fragmented frame, use `newframe = frame.copy()`\n",
      "\n",
      "/tmp/ipykernel_13/2389210805.py:1: PerformanceWarning:\n",
      "\n",
      "DataFrame is highly fragmented.  This is usually the result of calling `frame.insert` many times, which has poor performance.  Consider joining all columns at once using pd.concat(axis=1) instead. To get a de-fragmented frame, use `newframe = frame.copy()`\n",
      "\n",
      "/tmp/ipykernel_13/2389210805.py:1: PerformanceWarning:\n",
      "\n",
      "DataFrame is highly fragmented.  This is usually the result of calling `frame.insert` many times, which has poor performance.  Consider joining all columns at once using pd.concat(axis=1) instead. To get a de-fragmented frame, use `newframe = frame.copy()`\n",
      "\n",
      "/tmp/ipykernel_13/2389210805.py:1: PerformanceWarning:\n",
      "\n",
      "DataFrame is highly fragmented.  This is usually the result of calling `frame.insert` many times, which has poor performance.  Consider joining all columns at once using pd.concat(axis=1) instead. To get a de-fragmented frame, use `newframe = frame.copy()`\n",
      "\n",
      "/tmp/ipykernel_13/2389210805.py:1: PerformanceWarning:\n",
      "\n",
      "DataFrame is highly fragmented.  This is usually the result of calling `frame.insert` many times, which has poor performance.  Consider joining all columns at once using pd.concat(axis=1) instead. To get a de-fragmented frame, use `newframe = frame.copy()`\n",
      "\n",
      "/tmp/ipykernel_13/2389210805.py:1: PerformanceWarning:\n",
      "\n",
      "DataFrame is highly fragmented.  This is usually the result of calling `frame.insert` many times, which has poor performance.  Consider joining all columns at once using pd.concat(axis=1) instead. To get a de-fragmented frame, use `newframe = frame.copy()`\n",
      "\n",
      "/tmp/ipykernel_13/2389210805.py:1: PerformanceWarning:\n",
      "\n",
      "DataFrame is highly fragmented.  This is usually the result of calling `frame.insert` many times, which has poor performance.  Consider joining all columns at once using pd.concat(axis=1) instead. To get a de-fragmented frame, use `newframe = frame.copy()`\n",
      "\n",
      "/tmp/ipykernel_13/2389210805.py:1: PerformanceWarning:\n",
      "\n",
      "DataFrame is highly fragmented.  This is usually the result of calling `frame.insert` many times, which has poor performance.  Consider joining all columns at once using pd.concat(axis=1) instead. To get a de-fragmented frame, use `newframe = frame.copy()`\n",
      "\n",
      "/tmp/ipykernel_13/2389210805.py:1: PerformanceWarning:\n",
      "\n",
      "DataFrame is highly fragmented.  This is usually the result of calling `frame.insert` many times, which has poor performance.  Consider joining all columns at once using pd.concat(axis=1) instead. To get a de-fragmented frame, use `newframe = frame.copy()`\n",
      "\n",
      "/tmp/ipykernel_13/2389210805.py:1: PerformanceWarning:\n",
      "\n",
      "DataFrame is highly fragmented.  This is usually the result of calling `frame.insert` many times, which has poor performance.  Consider joining all columns at once using pd.concat(axis=1) instead. To get a de-fragmented frame, use `newframe = frame.copy()`\n",
      "\n",
      "/tmp/ipykernel_13/2389210805.py:1: PerformanceWarning:\n",
      "\n",
      "DataFrame is highly fragmented.  This is usually the result of calling `frame.insert` many times, which has poor performance.  Consider joining all columns at once using pd.concat(axis=1) instead. To get a de-fragmented frame, use `newframe = frame.copy()`\n",
      "\n",
      "/tmp/ipykernel_13/2389210805.py:1: PerformanceWarning:\n",
      "\n",
      "DataFrame is highly fragmented.  This is usually the result of calling `frame.insert` many times, which has poor performance.  Consider joining all columns at once using pd.concat(axis=1) instead. To get a de-fragmented frame, use `newframe = frame.copy()`\n",
      "\n",
      "/tmp/ipykernel_13/2389210805.py:1: PerformanceWarning:\n",
      "\n",
      "DataFrame is highly fragmented.  This is usually the result of calling `frame.insert` many times, which has poor performance.  Consider joining all columns at once using pd.concat(axis=1) instead. To get a de-fragmented frame, use `newframe = frame.copy()`\n",
      "\n",
      "/tmp/ipykernel_13/2389210805.py:1: PerformanceWarning:\n",
      "\n",
      "DataFrame is highly fragmented.  This is usually the result of calling `frame.insert` many times, which has poor performance.  Consider joining all columns at once using pd.concat(axis=1) instead. To get a de-fragmented frame, use `newframe = frame.copy()`\n",
      "\n",
      "/tmp/ipykernel_13/2389210805.py:1: PerformanceWarning:\n",
      "\n",
      "DataFrame is highly fragmented.  This is usually the result of calling `frame.insert` many times, which has poor performance.  Consider joining all columns at once using pd.concat(axis=1) instead. To get a de-fragmented frame, use `newframe = frame.copy()`\n",
      "\n",
      "/tmp/ipykernel_13/2389210805.py:1: PerformanceWarning:\n",
      "\n",
      "DataFrame is highly fragmented.  This is usually the result of calling `frame.insert` many times, which has poor performance.  Consider joining all columns at once using pd.concat(axis=1) instead. To get a de-fragmented frame, use `newframe = frame.copy()`\n",
      "\n",
      "/tmp/ipykernel_13/2389210805.py:1: PerformanceWarning:\n",
      "\n",
      "DataFrame is highly fragmented.  This is usually the result of calling `frame.insert` many times, which has poor performance.  Consider joining all columns at once using pd.concat(axis=1) instead. To get a de-fragmented frame, use `newframe = frame.copy()`\n",
      "\n",
      "/tmp/ipykernel_13/2389210805.py:1: PerformanceWarning:\n",
      "\n",
      "DataFrame is highly fragmented.  This is usually the result of calling `frame.insert` many times, which has poor performance.  Consider joining all columns at once using pd.concat(axis=1) instead. To get a de-fragmented frame, use `newframe = frame.copy()`\n",
      "\n",
      "/tmp/ipykernel_13/2389210805.py:1: PerformanceWarning:\n",
      "\n",
      "DataFrame is highly fragmented.  This is usually the result of calling `frame.insert` many times, which has poor performance.  Consider joining all columns at once using pd.concat(axis=1) instead. To get a de-fragmented frame, use `newframe = frame.copy()`\n",
      "\n",
      "/tmp/ipykernel_13/2389210805.py:1: PerformanceWarning:\n",
      "\n",
      "DataFrame is highly fragmented.  This is usually the result of calling `frame.insert` many times, which has poor performance.  Consider joining all columns at once using pd.concat(axis=1) instead. To get a de-fragmented frame, use `newframe = frame.copy()`\n",
      "\n",
      "/tmp/ipykernel_13/2389210805.py:1: PerformanceWarning:\n",
      "\n",
      "DataFrame is highly fragmented.  This is usually the result of calling `frame.insert` many times, which has poor performance.  Consider joining all columns at once using pd.concat(axis=1) instead. To get a de-fragmented frame, use `newframe = frame.copy()`\n",
      "\n",
      "/tmp/ipykernel_13/2389210805.py:1: PerformanceWarning:\n",
      "\n",
      "DataFrame is highly fragmented.  This is usually the result of calling `frame.insert` many times, which has poor performance.  Consider joining all columns at once using pd.concat(axis=1) instead. To get a de-fragmented frame, use `newframe = frame.copy()`\n",
      "\n",
      "/tmp/ipykernel_13/2389210805.py:1: PerformanceWarning:\n",
      "\n",
      "DataFrame is highly fragmented.  This is usually the result of calling `frame.insert` many times, which has poor performance.  Consider joining all columns at once using pd.concat(axis=1) instead. To get a de-fragmented frame, use `newframe = frame.copy()`\n",
      "\n",
      "/tmp/ipykernel_13/2389210805.py:1: PerformanceWarning:\n",
      "\n",
      "DataFrame is highly fragmented.  This is usually the result of calling `frame.insert` many times, which has poor performance.  Consider joining all columns at once using pd.concat(axis=1) instead. To get a de-fragmented frame, use `newframe = frame.copy()`\n",
      "\n",
      "/tmp/ipykernel_13/2389210805.py:1: PerformanceWarning:\n",
      "\n",
      "DataFrame is highly fragmented.  This is usually the result of calling `frame.insert` many times, which has poor performance.  Consider joining all columns at once using pd.concat(axis=1) instead. To get a de-fragmented frame, use `newframe = frame.copy()`\n",
      "\n",
      "/tmp/ipykernel_13/2389210805.py:1: PerformanceWarning:\n",
      "\n",
      "DataFrame is highly fragmented.  This is usually the result of calling `frame.insert` many times, which has poor performance.  Consider joining all columns at once using pd.concat(axis=1) instead. To get a de-fragmented frame, use `newframe = frame.copy()`\n",
      "\n",
      "/tmp/ipykernel_13/2389210805.py:1: PerformanceWarning:\n",
      "\n",
      "DataFrame is highly fragmented.  This is usually the result of calling `frame.insert` many times, which has poor performance.  Consider joining all columns at once using pd.concat(axis=1) instead. To get a de-fragmented frame, use `newframe = frame.copy()`\n",
      "\n",
      "/tmp/ipykernel_13/2389210805.py:1: PerformanceWarning:\n",
      "\n",
      "DataFrame is highly fragmented.  This is usually the result of calling `frame.insert` many times, which has poor performance.  Consider joining all columns at once using pd.concat(axis=1) instead. To get a de-fragmented frame, use `newframe = frame.copy()`\n",
      "\n",
      "/tmp/ipykernel_13/2389210805.py:1: PerformanceWarning:\n",
      "\n",
      "DataFrame is highly fragmented.  This is usually the result of calling `frame.insert` many times, which has poor performance.  Consider joining all columns at once using pd.concat(axis=1) instead. To get a de-fragmented frame, use `newframe = frame.copy()`\n",
      "\n",
      "/tmp/ipykernel_13/2389210805.py:1: PerformanceWarning:\n",
      "\n",
      "DataFrame is highly fragmented.  This is usually the result of calling `frame.insert` many times, which has poor performance.  Consider joining all columns at once using pd.concat(axis=1) instead. To get a de-fragmented frame, use `newframe = frame.copy()`\n",
      "\n",
      "/tmp/ipykernel_13/2389210805.py:1: PerformanceWarning:\n",
      "\n",
      "DataFrame is highly fragmented.  This is usually the result of calling `frame.insert` many times, which has poor performance.  Consider joining all columns at once using pd.concat(axis=1) instead. To get a de-fragmented frame, use `newframe = frame.copy()`\n",
      "\n",
      "/tmp/ipykernel_13/2389210805.py:1: PerformanceWarning:\n",
      "\n",
      "DataFrame is highly fragmented.  This is usually the result of calling `frame.insert` many times, which has poor performance.  Consider joining all columns at once using pd.concat(axis=1) instead. To get a de-fragmented frame, use `newframe = frame.copy()`\n",
      "\n",
      "/tmp/ipykernel_13/2389210805.py:1: PerformanceWarning:\n",
      "\n",
      "DataFrame is highly fragmented.  This is usually the result of calling `frame.insert` many times, which has poor performance.  Consider joining all columns at once using pd.concat(axis=1) instead. To get a de-fragmented frame, use `newframe = frame.copy()`\n",
      "\n",
      "/tmp/ipykernel_13/2389210805.py:1: PerformanceWarning:\n",
      "\n",
      "DataFrame is highly fragmented.  This is usually the result of calling `frame.insert` many times, which has poor performance.  Consider joining all columns at once using pd.concat(axis=1) instead. To get a de-fragmented frame, use `newframe = frame.copy()`\n",
      "\n",
      "/tmp/ipykernel_13/2389210805.py:1: PerformanceWarning:\n",
      "\n",
      "DataFrame is highly fragmented.  This is usually the result of calling `frame.insert` many times, which has poor performance.  Consider joining all columns at once using pd.concat(axis=1) instead. To get a de-fragmented frame, use `newframe = frame.copy()`\n",
      "\n",
      "/tmp/ipykernel_13/2389210805.py:1: PerformanceWarning:\n",
      "\n",
      "DataFrame is highly fragmented.  This is usually the result of calling `frame.insert` many times, which has poor performance.  Consider joining all columns at once using pd.concat(axis=1) instead. To get a de-fragmented frame, use `newframe = frame.copy()`\n",
      "\n",
      "/tmp/ipykernel_13/2389210805.py:1: PerformanceWarning:\n",
      "\n",
      "DataFrame is highly fragmented.  This is usually the result of calling `frame.insert` many times, which has poor performance.  Consider joining all columns at once using pd.concat(axis=1) instead. To get a de-fragmented frame, use `newframe = frame.copy()`\n",
      "\n",
      "/tmp/ipykernel_13/2389210805.py:1: PerformanceWarning:\n",
      "\n",
      "DataFrame is highly fragmented.  This is usually the result of calling `frame.insert` many times, which has poor performance.  Consider joining all columns at once using pd.concat(axis=1) instead. To get a de-fragmented frame, use `newframe = frame.copy()`\n",
      "\n",
      "/tmp/ipykernel_13/2389210805.py:1: PerformanceWarning:\n",
      "\n",
      "DataFrame is highly fragmented.  This is usually the result of calling `frame.insert` many times, which has poor performance.  Consider joining all columns at once using pd.concat(axis=1) instead. To get a de-fragmented frame, use `newframe = frame.copy()`\n",
      "\n",
      "/tmp/ipykernel_13/2389210805.py:1: PerformanceWarning:\n",
      "\n",
      "DataFrame is highly fragmented.  This is usually the result of calling `frame.insert` many times, which has poor performance.  Consider joining all columns at once using pd.concat(axis=1) instead. To get a de-fragmented frame, use `newframe = frame.copy()`\n",
      "\n",
      "/tmp/ipykernel_13/2389210805.py:1: PerformanceWarning:\n",
      "\n",
      "DataFrame is highly fragmented.  This is usually the result of calling `frame.insert` many times, which has poor performance.  Consider joining all columns at once using pd.concat(axis=1) instead. To get a de-fragmented frame, use `newframe = frame.copy()`\n",
      "\n",
      "/tmp/ipykernel_13/2389210805.py:1: PerformanceWarning:\n",
      "\n",
      "DataFrame is highly fragmented.  This is usually the result of calling `frame.insert` many times, which has poor performance.  Consider joining all columns at once using pd.concat(axis=1) instead. To get a de-fragmented frame, use `newframe = frame.copy()`\n",
      "\n",
      "/tmp/ipykernel_13/2389210805.py:1: PerformanceWarning:\n",
      "\n",
      "DataFrame is highly fragmented.  This is usually the result of calling `frame.insert` many times, which has poor performance.  Consider joining all columns at once using pd.concat(axis=1) instead. To get a de-fragmented frame, use `newframe = frame.copy()`\n",
      "\n"
     ]
    }
   ],
   "source": [
    "test_df[encoded_cols] = encoder.transform(test_df[cat_cols])"
   ]
  },
  {
   "cell_type": "code",
   "execution_count": 54,
   "id": "441258a0",
   "metadata": {
    "collapsed": true,
    "execution": {
     "iopub.execute_input": "2025-04-27T12:59:01.091095Z",
     "iopub.status.busy": "2025-04-27T12:59:01.090784Z",
     "iopub.status.idle": "2025-04-27T12:59:01.116418Z",
     "shell.execute_reply": "2025-04-27T12:59:01.115432Z"
    },
    "jupyter": {
     "outputs_hidden": true
    },
    "papermill": {
     "duration": 0.047195,
     "end_time": "2025-04-27T12:59:01.118257",
     "exception": false,
     "start_time": "2025-04-27T12:59:01.071062",
     "status": "completed"
    },
    "tags": []
   },
   "outputs": [
    {
     "data": {
      "text/html": [
       "<div>\n",
       "<style scoped>\n",
       "    .dataframe tbody tr th:only-of-type {\n",
       "        vertical-align: middle;\n",
       "    }\n",
       "\n",
       "    .dataframe tbody tr th {\n",
       "        vertical-align: top;\n",
       "    }\n",
       "\n",
       "    .dataframe thead th {\n",
       "        text-align: right;\n",
       "    }\n",
       "</style>\n",
       "<table border=\"1\" class=\"dataframe\">\n",
       "  <thead>\n",
       "    <tr style=\"text-align: right;\">\n",
       "      <th></th>\n",
       "      <th>id</th>\n",
       "      <th>Podcast_Name</th>\n",
       "      <th>Episode_Title</th>\n",
       "      <th>Episode_Length_minutes</th>\n",
       "      <th>Genre</th>\n",
       "      <th>Host_Popularity_percentage</th>\n",
       "      <th>Publication_Day</th>\n",
       "      <th>Publication_Time</th>\n",
       "      <th>Number_of_Ads</th>\n",
       "      <th>Episode_Sentiment</th>\n",
       "      <th>...</th>\n",
       "      <th>Publication_Day_Thursday</th>\n",
       "      <th>Publication_Day_Tuesday</th>\n",
       "      <th>Publication_Day_Wednesday</th>\n",
       "      <th>Publication_Time_Afternoon</th>\n",
       "      <th>Publication_Time_Evening</th>\n",
       "      <th>Publication_Time_Morning</th>\n",
       "      <th>Publication_Time_Night</th>\n",
       "      <th>Episode_Sentiment_Negative</th>\n",
       "      <th>Episode_Sentiment_Neutral</th>\n",
       "      <th>Episode_Sentiment_Positive</th>\n",
       "    </tr>\n",
       "  </thead>\n",
       "  <tbody>\n",
       "    <tr>\n",
       "      <th>0</th>\n",
       "      <td>0</td>\n",
       "      <td>Mystery Matters</td>\n",
       "      <td>Episode 98</td>\n",
       "      <td>-0.000001</td>\n",
       "      <td>True Crime</td>\n",
       "      <td>0.653610</td>\n",
       "      <td>Thursday</td>\n",
       "      <td>Night</td>\n",
       "      <td>-1.213263</td>\n",
       "      <td>Positive</td>\n",
       "      <td>...</td>\n",
       "      <td>1.0</td>\n",
       "      <td>0.0</td>\n",
       "      <td>0.0</td>\n",
       "      <td>0.0</td>\n",
       "      <td>0.0</td>\n",
       "      <td>0.0</td>\n",
       "      <td>1.0</td>\n",
       "      <td>0.0</td>\n",
       "      <td>0.0</td>\n",
       "      <td>1.0</td>\n",
       "    </tr>\n",
       "    <tr>\n",
       "      <th>1</th>\n",
       "      <td>1</td>\n",
       "      <td>Joke Junction</td>\n",
       "      <td>Episode 26</td>\n",
       "      <td>1.783933</td>\n",
       "      <td>Comedy</td>\n",
       "      <td>0.309974</td>\n",
       "      <td>Saturday</td>\n",
       "      <td>Afternoon</td>\n",
       "      <td>0.586958</td>\n",
       "      <td>Negative</td>\n",
       "      <td>...</td>\n",
       "      <td>0.0</td>\n",
       "      <td>0.0</td>\n",
       "      <td>0.0</td>\n",
       "      <td>1.0</td>\n",
       "      <td>0.0</td>\n",
       "      <td>0.0</td>\n",
       "      <td>0.0</td>\n",
       "      <td>1.0</td>\n",
       "      <td>0.0</td>\n",
       "      <td>0.0</td>\n",
       "    </tr>\n",
       "    <tr>\n",
       "      <th>2</th>\n",
       "      <td>2</td>\n",
       "      <td>Study Sessions</td>\n",
       "      <td>Episode 16</td>\n",
       "      <td>0.303108</td>\n",
       "      <td>Education</td>\n",
       "      <td>0.442007</td>\n",
       "      <td>Tuesday</td>\n",
       "      <td>Evening</td>\n",
       "      <td>-1.213263</td>\n",
       "      <td>Negative</td>\n",
       "      <td>...</td>\n",
       "      <td>0.0</td>\n",
       "      <td>1.0</td>\n",
       "      <td>0.0</td>\n",
       "      <td>0.0</td>\n",
       "      <td>1.0</td>\n",
       "      <td>0.0</td>\n",
       "      <td>0.0</td>\n",
       "      <td>1.0</td>\n",
       "      <td>0.0</td>\n",
       "      <td>0.0</td>\n",
       "    </tr>\n",
       "    <tr>\n",
       "      <th>3</th>\n",
       "      <td>3</td>\n",
       "      <td>Digital Digest</td>\n",
       "      <td>Episode 45</td>\n",
       "      <td>0.085985</td>\n",
       "      <td>Technology</td>\n",
       "      <td>-0.115417</td>\n",
       "      <td>Monday</td>\n",
       "      <td>Morning</td>\n",
       "      <td>0.586958</td>\n",
       "      <td>Positive</td>\n",
       "      <td>...</td>\n",
       "      <td>0.0</td>\n",
       "      <td>0.0</td>\n",
       "      <td>0.0</td>\n",
       "      <td>0.0</td>\n",
       "      <td>0.0</td>\n",
       "      <td>1.0</td>\n",
       "      <td>0.0</td>\n",
       "      <td>0.0</td>\n",
       "      <td>0.0</td>\n",
       "      <td>1.0</td>\n",
       "    </tr>\n",
       "    <tr>\n",
       "      <th>4</th>\n",
       "      <td>4</td>\n",
       "      <td>Mind &amp; Body</td>\n",
       "      <td>Episode 86</td>\n",
       "      <td>1.484219</td>\n",
       "      <td>Health</td>\n",
       "      <td>0.883574</td>\n",
       "      <td>Monday</td>\n",
       "      <td>Afternoon</td>\n",
       "      <td>1.487068</td>\n",
       "      <td>Neutral</td>\n",
       "      <td>...</td>\n",
       "      <td>0.0</td>\n",
       "      <td>0.0</td>\n",
       "      <td>0.0</td>\n",
       "      <td>1.0</td>\n",
       "      <td>0.0</td>\n",
       "      <td>0.0</td>\n",
       "      <td>0.0</td>\n",
       "      <td>0.0</td>\n",
       "      <td>1.0</td>\n",
       "      <td>0.0</td>\n",
       "    </tr>\n",
       "  </tbody>\n",
       "</table>\n",
       "<p>5 rows × 183 columns</p>\n",
       "</div>"
      ],
      "text/plain": [
       "   id     Podcast_Name Episode_Title  Episode_Length_minutes       Genre  \\\n",
       "0   0  Mystery Matters    Episode 98               -0.000001  True Crime   \n",
       "1   1    Joke Junction    Episode 26                1.783933      Comedy   \n",
       "2   2   Study Sessions    Episode 16                0.303108   Education   \n",
       "3   3   Digital Digest    Episode 45                0.085985  Technology   \n",
       "4   4      Mind & Body    Episode 86                1.484219      Health   \n",
       "\n",
       "   Host_Popularity_percentage Publication_Day Publication_Time  Number_of_Ads  \\\n",
       "0                    0.653610        Thursday            Night      -1.213263   \n",
       "1                    0.309974        Saturday        Afternoon       0.586958   \n",
       "2                    0.442007         Tuesday          Evening      -1.213263   \n",
       "3                   -0.115417          Monday          Morning       0.586958   \n",
       "4                    0.883574          Monday        Afternoon       1.487068   \n",
       "\n",
       "  Episode_Sentiment  ...  Publication_Day_Thursday  Publication_Day_Tuesday  \\\n",
       "0          Positive  ...                       1.0                      0.0   \n",
       "1          Negative  ...                       0.0                      0.0   \n",
       "2          Negative  ...                       0.0                      1.0   \n",
       "3          Positive  ...                       0.0                      0.0   \n",
       "4           Neutral  ...                       0.0                      0.0   \n",
       "\n",
       "   Publication_Day_Wednesday  Publication_Time_Afternoon  \\\n",
       "0                        0.0                         0.0   \n",
       "1                        0.0                         1.0   \n",
       "2                        0.0                         0.0   \n",
       "3                        0.0                         0.0   \n",
       "4                        0.0                         1.0   \n",
       "\n",
       "   Publication_Time_Evening  Publication_Time_Morning  Publication_Time_Night  \\\n",
       "0                       0.0                       0.0                     1.0   \n",
       "1                       0.0                       0.0                     0.0   \n",
       "2                       1.0                       0.0                     0.0   \n",
       "3                       0.0                       1.0                     0.0   \n",
       "4                       0.0                       0.0                     0.0   \n",
       "\n",
       "   Episode_Sentiment_Negative  Episode_Sentiment_Neutral  \\\n",
       "0                         0.0                        0.0   \n",
       "1                         1.0                        0.0   \n",
       "2                         1.0                        0.0   \n",
       "3                         0.0                        0.0   \n",
       "4                         0.0                        1.0   \n",
       "\n",
       "   Episode_Sentiment_Positive  \n",
       "0                         1.0  \n",
       "1                         0.0  \n",
       "2                         0.0  \n",
       "3                         1.0  \n",
       "4                         0.0  \n",
       "\n",
       "[5 rows x 183 columns]"
      ]
     },
     "execution_count": 54,
     "metadata": {},
     "output_type": "execute_result"
    }
   ],
   "source": [
    "train_df.head()"
   ]
  },
  {
   "cell_type": "code",
   "execution_count": 55,
   "id": "7b3e1bd1",
   "metadata": {
    "collapsed": true,
    "execution": {
     "iopub.execute_input": "2025-04-27T12:59:01.158798Z",
     "iopub.status.busy": "2025-04-27T12:59:01.157736Z",
     "iopub.status.idle": "2025-04-27T12:59:01.173444Z",
     "shell.execute_reply": "2025-04-27T12:59:01.172474Z"
    },
    "jupyter": {
     "outputs_hidden": true
    },
    "papermill": {
     "duration": 0.037131,
     "end_time": "2025-04-27T12:59:01.174918",
     "exception": false,
     "start_time": "2025-04-27T12:59:01.137787",
     "status": "completed"
    },
    "tags": []
   },
   "outputs": [
    {
     "name": "stdout",
     "output_type": "stream",
     "text": [
      "<class 'pandas.core.frame.DataFrame'>\n",
      "Index: 749999 entries, 0 to 749999\n",
      "Columns: 183 entries, id to Episode_Sentiment_Positive\n",
      "dtypes: float64(176), int64(1), object(6)\n",
      "memory usage: 1.0+ GB\n"
     ]
    }
   ],
   "source": [
    "train_df.info()"
   ]
  },
  {
   "cell_type": "code",
   "execution_count": 56,
   "id": "0a8c9d80",
   "metadata": {
    "execution": {
     "iopub.execute_input": "2025-04-27T12:59:01.213441Z",
     "iopub.status.busy": "2025-04-27T12:59:01.213156Z",
     "iopub.status.idle": "2025-04-27T12:59:01.316330Z",
     "shell.execute_reply": "2025-04-27T12:59:01.315369Z"
    },
    "papermill": {
     "duration": 0.124736,
     "end_time": "2025-04-27T12:59:01.318219",
     "exception": false,
     "start_time": "2025-04-27T12:59:01.193483",
     "status": "completed"
    },
    "tags": []
   },
   "outputs": [
    {
     "data": {
      "text/plain": [
       "count         749999\n",
       "unique           100\n",
       "top       Episode 71\n",
       "freq           10515\n",
       "Name: Episode_Title, dtype: object"
      ]
     },
     "execution_count": 56,
     "metadata": {},
     "output_type": "execute_result"
    }
   ],
   "source": [
    "train_df['Episode_Title'].describe()"
   ]
  },
  {
   "cell_type": "code",
   "execution_count": 57,
   "id": "00a4e88f",
   "metadata": {
    "execution": {
     "iopub.execute_input": "2025-04-27T12:59:01.358378Z",
     "iopub.status.busy": "2025-04-27T12:59:01.358067Z",
     "iopub.status.idle": "2025-04-27T12:59:01.384406Z",
     "shell.execute_reply": "2025-04-27T12:59:01.383162Z"
    },
    "papermill": {
     "duration": 0.048142,
     "end_time": "2025-04-27T12:59:01.386175",
     "exception": false,
     "start_time": "2025-04-27T12:59:01.338033",
     "status": "completed"
    },
    "tags": []
   },
   "outputs": [
    {
     "data": {
      "text/html": [
       "<div>\n",
       "<style scoped>\n",
       "    .dataframe tbody tr th:only-of-type {\n",
       "        vertical-align: middle;\n",
       "    }\n",
       "\n",
       "    .dataframe tbody tr th {\n",
       "        vertical-align: top;\n",
       "    }\n",
       "\n",
       "    .dataframe thead th {\n",
       "        text-align: right;\n",
       "    }\n",
       "</style>\n",
       "<table border=\"1\" class=\"dataframe\">\n",
       "  <thead>\n",
       "    <tr style=\"text-align: right;\">\n",
       "      <th></th>\n",
       "      <th>id</th>\n",
       "      <th>Podcast_Name</th>\n",
       "      <th>Episode_Title</th>\n",
       "      <th>Episode_Length_minutes</th>\n",
       "      <th>Genre</th>\n",
       "      <th>Host_Popularity_percentage</th>\n",
       "      <th>Publication_Day</th>\n",
       "      <th>Publication_Time</th>\n",
       "      <th>Number_of_Ads</th>\n",
       "      <th>Episode_Sentiment</th>\n",
       "      <th>...</th>\n",
       "      <th>Publication_Day_Thursday</th>\n",
       "      <th>Publication_Day_Tuesday</th>\n",
       "      <th>Publication_Day_Wednesday</th>\n",
       "      <th>Publication_Time_Afternoon</th>\n",
       "      <th>Publication_Time_Evening</th>\n",
       "      <th>Publication_Time_Morning</th>\n",
       "      <th>Publication_Time_Night</th>\n",
       "      <th>Episode_Sentiment_Negative</th>\n",
       "      <th>Episode_Sentiment_Neutral</th>\n",
       "      <th>Episode_Sentiment_Positive</th>\n",
       "    </tr>\n",
       "  </thead>\n",
       "  <tbody>\n",
       "    <tr>\n",
       "      <th>0</th>\n",
       "      <td>750000</td>\n",
       "      <td>Educational Nuggets</td>\n",
       "      <td>Episode 73</td>\n",
       "      <td>0.449872</td>\n",
       "      <td>Education</td>\n",
       "      <td>-0.944340</td>\n",
       "      <td>Saturday</td>\n",
       "      <td>Evening</td>\n",
       "      <td>-0.312103</td>\n",
       "      <td>Neutral</td>\n",
       "      <td>...</td>\n",
       "      <td>0.0</td>\n",
       "      <td>0.0</td>\n",
       "      <td>0.0</td>\n",
       "      <td>0.0</td>\n",
       "      <td>1.0</td>\n",
       "      <td>0.0</td>\n",
       "      <td>0.0</td>\n",
       "      <td>0.0</td>\n",
       "      <td>1.0</td>\n",
       "      <td>0.0</td>\n",
       "    </tr>\n",
       "    <tr>\n",
       "      <th>1</th>\n",
       "      <td>750001</td>\n",
       "      <td>Sound Waves</td>\n",
       "      <td>Episode 23</td>\n",
       "      <td>-1.089279</td>\n",
       "      <td>Music</td>\n",
       "      <td>0.505836</td>\n",
       "      <td>Sunday</td>\n",
       "      <td>Morning</td>\n",
       "      <td>-1.210839</td>\n",
       "      <td>Neutral</td>\n",
       "      <td>...</td>\n",
       "      <td>0.0</td>\n",
       "      <td>0.0</td>\n",
       "      <td>0.0</td>\n",
       "      <td>0.0</td>\n",
       "      <td>0.0</td>\n",
       "      <td>1.0</td>\n",
       "      <td>0.0</td>\n",
       "      <td>0.0</td>\n",
       "      <td>1.0</td>\n",
       "      <td>0.0</td>\n",
       "    </tr>\n",
       "    <tr>\n",
       "      <th>2</th>\n",
       "      <td>750002</td>\n",
       "      <td>Joke Junction</td>\n",
       "      <td>Episode 11</td>\n",
       "      <td>0.152827</td>\n",
       "      <td>Comedy</td>\n",
       "      <td>0.357234</td>\n",
       "      <td>Friday</td>\n",
       "      <td>Evening</td>\n",
       "      <td>-1.210839</td>\n",
       "      <td>Positive</td>\n",
       "      <td>...</td>\n",
       "      <td>0.0</td>\n",
       "      <td>0.0</td>\n",
       "      <td>0.0</td>\n",
       "      <td>0.0</td>\n",
       "      <td>1.0</td>\n",
       "      <td>0.0</td>\n",
       "      <td>0.0</td>\n",
       "      <td>0.0</td>\n",
       "      <td>0.0</td>\n",
       "      <td>1.0</td>\n",
       "    </tr>\n",
       "    <tr>\n",
       "      <th>3</th>\n",
       "      <td>750003</td>\n",
       "      <td>Comedy Corner</td>\n",
       "      <td>Episode 73</td>\n",
       "      <td>1.547371</td>\n",
       "      <td>Comedy</td>\n",
       "      <td>-1.587260</td>\n",
       "      <td>Sunday</td>\n",
       "      <td>Morning</td>\n",
       "      <td>0.586634</td>\n",
       "      <td>Positive</td>\n",
       "      <td>...</td>\n",
       "      <td>0.0</td>\n",
       "      <td>0.0</td>\n",
       "      <td>0.0</td>\n",
       "      <td>0.0</td>\n",
       "      <td>0.0</td>\n",
       "      <td>1.0</td>\n",
       "      <td>0.0</td>\n",
       "      <td>0.0</td>\n",
       "      <td>0.0</td>\n",
       "      <td>1.0</td>\n",
       "    </tr>\n",
       "    <tr>\n",
       "      <th>4</th>\n",
       "      <td>750004</td>\n",
       "      <td>Life Lessons</td>\n",
       "      <td>Episode 50</td>\n",
       "      <td>0.249833</td>\n",
       "      <td>Lifestyle</td>\n",
       "      <td>-0.070651</td>\n",
       "      <td>Wednesday</td>\n",
       "      <td>Morning</td>\n",
       "      <td>0.586634</td>\n",
       "      <td>Neutral</td>\n",
       "      <td>...</td>\n",
       "      <td>0.0</td>\n",
       "      <td>0.0</td>\n",
       "      <td>1.0</td>\n",
       "      <td>0.0</td>\n",
       "      <td>0.0</td>\n",
       "      <td>1.0</td>\n",
       "      <td>0.0</td>\n",
       "      <td>0.0</td>\n",
       "      <td>1.0</td>\n",
       "      <td>0.0</td>\n",
       "    </tr>\n",
       "  </tbody>\n",
       "</table>\n",
       "<p>5 rows × 182 columns</p>\n",
       "</div>"
      ],
      "text/plain": [
       "       id         Podcast_Name Episode_Title  Episode_Length_minutes  \\\n",
       "0  750000  Educational Nuggets    Episode 73                0.449872   \n",
       "1  750001          Sound Waves    Episode 23               -1.089279   \n",
       "2  750002        Joke Junction    Episode 11                0.152827   \n",
       "3  750003        Comedy Corner    Episode 73                1.547371   \n",
       "4  750004         Life Lessons    Episode 50                0.249833   \n",
       "\n",
       "       Genre  Host_Popularity_percentage Publication_Day Publication_Time  \\\n",
       "0  Education                   -0.944340        Saturday          Evening   \n",
       "1      Music                    0.505836          Sunday          Morning   \n",
       "2     Comedy                    0.357234          Friday          Evening   \n",
       "3     Comedy                   -1.587260          Sunday          Morning   \n",
       "4  Lifestyle                   -0.070651       Wednesday          Morning   \n",
       "\n",
       "   Number_of_Ads Episode_Sentiment  ...  Publication_Day_Thursday  \\\n",
       "0      -0.312103           Neutral  ...                       0.0   \n",
       "1      -1.210839           Neutral  ...                       0.0   \n",
       "2      -1.210839          Positive  ...                       0.0   \n",
       "3       0.586634          Positive  ...                       0.0   \n",
       "4       0.586634           Neutral  ...                       0.0   \n",
       "\n",
       "   Publication_Day_Tuesday  Publication_Day_Wednesday  \\\n",
       "0                      0.0                        0.0   \n",
       "1                      0.0                        0.0   \n",
       "2                      0.0                        0.0   \n",
       "3                      0.0                        0.0   \n",
       "4                      0.0                        1.0   \n",
       "\n",
       "   Publication_Time_Afternoon  Publication_Time_Evening  \\\n",
       "0                         0.0                       1.0   \n",
       "1                         0.0                       0.0   \n",
       "2                         0.0                       1.0   \n",
       "3                         0.0                       0.0   \n",
       "4                         0.0                       0.0   \n",
       "\n",
       "   Publication_Time_Morning  Publication_Time_Night  \\\n",
       "0                       0.0                     0.0   \n",
       "1                       1.0                     0.0   \n",
       "2                       0.0                     0.0   \n",
       "3                       1.0                     0.0   \n",
       "4                       1.0                     0.0   \n",
       "\n",
       "   Episode_Sentiment_Negative  Episode_Sentiment_Neutral  \\\n",
       "0                         0.0                        1.0   \n",
       "1                         0.0                        1.0   \n",
       "2                         0.0                        0.0   \n",
       "3                         0.0                        0.0   \n",
       "4                         0.0                        1.0   \n",
       "\n",
       "   Episode_Sentiment_Positive  \n",
       "0                         0.0  \n",
       "1                         0.0  \n",
       "2                         1.0  \n",
       "3                         1.0  \n",
       "4                         0.0  \n",
       "\n",
       "[5 rows x 182 columns]"
      ]
     },
     "execution_count": 57,
     "metadata": {},
     "output_type": "execute_result"
    }
   ],
   "source": [
    "test_df.head()"
   ]
  },
  {
   "cell_type": "code",
   "execution_count": 58,
   "id": "e899d27a",
   "metadata": {
    "execution": {
     "iopub.execute_input": "2025-04-27T12:59:01.426479Z",
     "iopub.status.busy": "2025-04-27T12:59:01.426155Z",
     "iopub.status.idle": "2025-04-27T12:59:01.440458Z",
     "shell.execute_reply": "2025-04-27T12:59:01.439379Z"
    },
    "papermill": {
     "duration": 0.03638,
     "end_time": "2025-04-27T12:59:01.442274",
     "exception": false,
     "start_time": "2025-04-27T12:59:01.405894",
     "status": "completed"
    },
    "tags": []
   },
   "outputs": [
    {
     "name": "stdout",
     "output_type": "stream",
     "text": [
      "<class 'pandas.core.frame.DataFrame'>\n",
      "RangeIndex: 250000 entries, 0 to 249999\n",
      "Columns: 182 entries, id to Episode_Sentiment_Positive\n",
      "dtypes: float64(175), int64(1), object(6)\n",
      "memory usage: 347.1+ MB\n"
     ]
    }
   ],
   "source": [
    "test_df.info()"
   ]
  },
  {
   "cell_type": "code",
   "execution_count": 59,
   "id": "fd6c5d95",
   "metadata": {
    "execution": {
     "iopub.execute_input": "2025-04-27T12:59:01.482690Z",
     "iopub.status.busy": "2025-04-27T12:59:01.482282Z",
     "iopub.status.idle": "2025-04-27T12:59:01.486778Z",
     "shell.execute_reply": "2025-04-27T12:59:01.485666Z"
    },
    "papermill": {
     "duration": 0.026147,
     "end_time": "2025-04-27T12:59:01.488315",
     "exception": false,
     "start_time": "2025-04-27T12:59:01.462168",
     "status": "completed"
    },
    "tags": []
   },
   "outputs": [],
   "source": [
    "from sklearn.linear_model import SGDRegressor"
   ]
  },
  {
   "cell_type": "code",
   "execution_count": 60,
   "id": "0ea55831",
   "metadata": {
    "execution": {
     "iopub.execute_input": "2025-04-27T12:59:01.529710Z",
     "iopub.status.busy": "2025-04-27T12:59:01.528496Z",
     "iopub.status.idle": "2025-04-27T12:59:01.534144Z",
     "shell.execute_reply": "2025-04-27T12:59:01.533188Z"
    },
    "papermill": {
     "duration": 0.027865,
     "end_time": "2025-04-27T12:59:01.535979",
     "exception": false,
     "start_time": "2025-04-27T12:59:01.508114",
     "status": "completed"
    },
    "tags": []
   },
   "outputs": [],
   "source": [
    "sgd = SGDRegressor(max_iter=1000, tol=1e-3, penalty=None, random_state=42)"
   ]
  },
  {
   "cell_type": "code",
   "execution_count": 61,
   "id": "6251c680",
   "metadata": {
    "execution": {
     "iopub.execute_input": "2025-04-27T12:59:01.576127Z",
     "iopub.status.busy": "2025-04-27T12:59:01.575783Z",
     "iopub.status.idle": "2025-04-27T12:59:01.581553Z",
     "shell.execute_reply": "2025-04-27T12:59:01.580759Z"
    },
    "papermill": {
     "duration": 0.027398,
     "end_time": "2025-04-27T12:59:01.583120",
     "exception": false,
     "start_time": "2025-04-27T12:59:01.555722",
     "status": "completed"
    },
    "tags": []
   },
   "outputs": [
    {
     "data": {
      "text/plain": [
       "['id', 'Episode_Length_minutes', 'Host_Popularity_percentage', 'Number_of_Ads']"
      ]
     },
     "execution_count": 61,
     "metadata": {},
     "output_type": "execute_result"
    }
   ],
   "source": [
    "numerical_cols"
   ]
  },
  {
   "cell_type": "code",
   "execution_count": 62,
   "id": "b82324f0",
   "metadata": {
    "execution": {
     "iopub.execute_input": "2025-04-27T12:59:01.624167Z",
     "iopub.status.busy": "2025-04-27T12:59:01.623866Z",
     "iopub.status.idle": "2025-04-27T12:59:01.628577Z",
     "shell.execute_reply": "2025-04-27T12:59:01.627294Z"
    },
    "papermill": {
     "duration": 0.027422,
     "end_time": "2025-04-27T12:59:01.630237",
     "exception": false,
     "start_time": "2025-04-27T12:59:01.602815",
     "status": "completed"
    },
    "tags": []
   },
   "outputs": [],
   "source": [
    "numeric_cols = ['Episode_Length_minutes', 'Host_Popularity_percentage', 'Number_of_Ads']"
   ]
  },
  {
   "cell_type": "code",
   "execution_count": 63,
   "id": "069f3936",
   "metadata": {
    "execution": {
     "iopub.execute_input": "2025-04-27T12:59:01.670807Z",
     "iopub.status.busy": "2025-04-27T12:59:01.670463Z",
     "iopub.status.idle": "2025-04-27T12:59:01.677252Z",
     "shell.execute_reply": "2025-04-27T12:59:01.675878Z"
    },
    "papermill": {
     "duration": 0.02983,
     "end_time": "2025-04-27T12:59:01.679171",
     "exception": false,
     "start_time": "2025-04-27T12:59:01.649341",
     "status": "completed"
    },
    "tags": []
   },
   "outputs": [
    {
     "data": {
      "text/plain": [
       "'Listening_Time_minutes'"
      ]
     },
     "execution_count": 63,
     "metadata": {},
     "output_type": "execute_result"
    }
   ],
   "source": [
    "target_cols"
   ]
  },
  {
   "cell_type": "code",
   "execution_count": 64,
   "id": "ee7dc8c3",
   "metadata": {
    "execution": {
     "iopub.execute_input": "2025-04-27T12:59:01.720220Z",
     "iopub.status.busy": "2025-04-27T12:59:01.719861Z",
     "iopub.status.idle": "2025-04-27T12:59:01.724739Z",
     "shell.execute_reply": "2025-04-27T12:59:01.723726Z"
    },
    "papermill": {
     "duration": 0.027786,
     "end_time": "2025-04-27T12:59:01.726361",
     "exception": false,
     "start_time": "2025-04-27T12:59:01.698575",
     "status": "completed"
    },
    "tags": []
   },
   "outputs": [],
   "source": [
    "cols = train_df.columns[1:-1].tolist()"
   ]
  },
  {
   "cell_type": "code",
   "execution_count": 65,
   "id": "088b5b86",
   "metadata": {
    "execution": {
     "iopub.execute_input": "2025-04-27T12:59:01.767006Z",
     "iopub.status.busy": "2025-04-27T12:59:01.766579Z",
     "iopub.status.idle": "2025-04-27T12:59:01.771079Z",
     "shell.execute_reply": "2025-04-27T12:59:01.770112Z"
    },
    "papermill": {
     "duration": 0.026752,
     "end_time": "2025-04-27T12:59:01.772521",
     "exception": false,
     "start_time": "2025-04-27T12:59:01.745769",
     "status": "completed"
    },
    "tags": []
   },
   "outputs": [],
   "source": [
    "import itertools"
   ]
  },
  {
   "cell_type": "code",
   "execution_count": 66,
   "id": "37da7846",
   "metadata": {
    "collapsed": true,
    "execution": {
     "iopub.execute_input": "2025-04-27T12:59:01.813051Z",
     "iopub.status.busy": "2025-04-27T12:59:01.812751Z",
     "iopub.status.idle": "2025-04-27T12:59:01.820454Z",
     "shell.execute_reply": "2025-04-27T12:59:01.819467Z"
    },
    "jupyter": {
     "outputs_hidden": true
    },
    "papermill": {
     "duration": 0.030065,
     "end_time": "2025-04-27T12:59:01.822135",
     "exception": false,
     "start_time": "2025-04-27T12:59:01.792070",
     "status": "completed"
    },
    "tags": []
   },
   "outputs": [
    {
     "data": {
      "text/plain": [
       "['Episode_Length_minutes',\n",
       " 'Host_Popularity_percentage',\n",
       " 'Number_of_Ads',\n",
       " \"Podcast_Name_Athlete's Arena\",\n",
       " 'Podcast_Name_Brain Boost',\n",
       " 'Podcast_Name_Business Briefs',\n",
       " 'Podcast_Name_Business Insights',\n",
       " 'Podcast_Name_Comedy Corner',\n",
       " 'Podcast_Name_Crime Chronicles',\n",
       " 'Podcast_Name_Criminal Minds',\n",
       " 'Podcast_Name_Current Affairs',\n",
       " 'Podcast_Name_Daily Digest',\n",
       " 'Podcast_Name_Detective Diaries',\n",
       " 'Podcast_Name_Digital Digest',\n",
       " 'Podcast_Name_Educational Nuggets',\n",
       " 'Podcast_Name_Fashion Forward',\n",
       " 'Podcast_Name_Finance Focus',\n",
       " 'Podcast_Name_Fitness First',\n",
       " 'Podcast_Name_Funny Folks',\n",
       " 'Podcast_Name_Gadget Geek',\n",
       " 'Podcast_Name_Game Day',\n",
       " 'Podcast_Name_Global News',\n",
       " 'Podcast_Name_Health Hour',\n",
       " 'Podcast_Name_Healthy Living',\n",
       " 'Podcast_Name_Home & Living',\n",
       " 'Podcast_Name_Humor Hub',\n",
       " 'Podcast_Name_Innovators',\n",
       " 'Podcast_Name_Joke Junction',\n",
       " 'Podcast_Name_Laugh Line',\n",
       " 'Podcast_Name_Learning Lab',\n",
       " 'Podcast_Name_Life Lessons',\n",
       " 'Podcast_Name_Lifestyle Lounge',\n",
       " 'Podcast_Name_Market Masters',\n",
       " 'Podcast_Name_Melody Mix',\n",
       " 'Podcast_Name_Mind & Body',\n",
       " 'Podcast_Name_Money Matters',\n",
       " 'Podcast_Name_Music Matters',\n",
       " 'Podcast_Name_Mystery Matters',\n",
       " 'Podcast_Name_News Roundup',\n",
       " 'Podcast_Name_Sound Waves',\n",
       " 'Podcast_Name_Sport Spot',\n",
       " 'Podcast_Name_Sports Central',\n",
       " 'Podcast_Name_Sports Weekly',\n",
       " 'Podcast_Name_Study Sessions',\n",
       " 'Podcast_Name_Style Guide',\n",
       " 'Podcast_Name_Tech Talks',\n",
       " 'Podcast_Name_Tech Trends',\n",
       " 'Podcast_Name_True Crime Stories',\n",
       " 'Podcast_Name_Tune Time',\n",
       " 'Podcast_Name_Wellness Wave',\n",
       " 'Podcast_Name_World Watch',\n",
       " 'Episode_Title_Episode 1',\n",
       " 'Episode_Title_Episode 10',\n",
       " 'Episode_Title_Episode 100',\n",
       " 'Episode_Title_Episode 11',\n",
       " 'Episode_Title_Episode 12',\n",
       " 'Episode_Title_Episode 13',\n",
       " 'Episode_Title_Episode 14',\n",
       " 'Episode_Title_Episode 15',\n",
       " 'Episode_Title_Episode 16',\n",
       " 'Episode_Title_Episode 17',\n",
       " 'Episode_Title_Episode 18',\n",
       " 'Episode_Title_Episode 19',\n",
       " 'Episode_Title_Episode 2',\n",
       " 'Episode_Title_Episode 20',\n",
       " 'Episode_Title_Episode 21',\n",
       " 'Episode_Title_Episode 22',\n",
       " 'Episode_Title_Episode 23',\n",
       " 'Episode_Title_Episode 24',\n",
       " 'Episode_Title_Episode 25',\n",
       " 'Episode_Title_Episode 26',\n",
       " 'Episode_Title_Episode 27',\n",
       " 'Episode_Title_Episode 28',\n",
       " 'Episode_Title_Episode 29',\n",
       " 'Episode_Title_Episode 3',\n",
       " 'Episode_Title_Episode 30',\n",
       " 'Episode_Title_Episode 31',\n",
       " 'Episode_Title_Episode 32',\n",
       " 'Episode_Title_Episode 33',\n",
       " 'Episode_Title_Episode 34',\n",
       " 'Episode_Title_Episode 35',\n",
       " 'Episode_Title_Episode 36',\n",
       " 'Episode_Title_Episode 37',\n",
       " 'Episode_Title_Episode 38',\n",
       " 'Episode_Title_Episode 39',\n",
       " 'Episode_Title_Episode 4',\n",
       " 'Episode_Title_Episode 40',\n",
       " 'Episode_Title_Episode 41',\n",
       " 'Episode_Title_Episode 42',\n",
       " 'Episode_Title_Episode 43',\n",
       " 'Episode_Title_Episode 44',\n",
       " 'Episode_Title_Episode 45',\n",
       " 'Episode_Title_Episode 46',\n",
       " 'Episode_Title_Episode 47',\n",
       " 'Episode_Title_Episode 48',\n",
       " 'Episode_Title_Episode 49',\n",
       " 'Episode_Title_Episode 5',\n",
       " 'Episode_Title_Episode 50',\n",
       " 'Episode_Title_Episode 51',\n",
       " 'Episode_Title_Episode 52',\n",
       " 'Episode_Title_Episode 53',\n",
       " 'Episode_Title_Episode 54',\n",
       " 'Episode_Title_Episode 55',\n",
       " 'Episode_Title_Episode 56',\n",
       " 'Episode_Title_Episode 57',\n",
       " 'Episode_Title_Episode 58',\n",
       " 'Episode_Title_Episode 59',\n",
       " 'Episode_Title_Episode 6',\n",
       " 'Episode_Title_Episode 60',\n",
       " 'Episode_Title_Episode 61',\n",
       " 'Episode_Title_Episode 62',\n",
       " 'Episode_Title_Episode 63',\n",
       " 'Episode_Title_Episode 64',\n",
       " 'Episode_Title_Episode 65',\n",
       " 'Episode_Title_Episode 66',\n",
       " 'Episode_Title_Episode 67',\n",
       " 'Episode_Title_Episode 68',\n",
       " 'Episode_Title_Episode 69',\n",
       " 'Episode_Title_Episode 7',\n",
       " 'Episode_Title_Episode 70',\n",
       " 'Episode_Title_Episode 71',\n",
       " 'Episode_Title_Episode 72',\n",
       " 'Episode_Title_Episode 73',\n",
       " 'Episode_Title_Episode 74',\n",
       " 'Episode_Title_Episode 75',\n",
       " 'Episode_Title_Episode 76',\n",
       " 'Episode_Title_Episode 77',\n",
       " 'Episode_Title_Episode 78',\n",
       " 'Episode_Title_Episode 79',\n",
       " 'Episode_Title_Episode 8',\n",
       " 'Episode_Title_Episode 80',\n",
       " 'Episode_Title_Episode 81',\n",
       " 'Episode_Title_Episode 82',\n",
       " 'Episode_Title_Episode 83',\n",
       " 'Episode_Title_Episode 84',\n",
       " 'Episode_Title_Episode 85',\n",
       " 'Episode_Title_Episode 86',\n",
       " 'Episode_Title_Episode 87',\n",
       " 'Episode_Title_Episode 88',\n",
       " 'Episode_Title_Episode 89',\n",
       " 'Episode_Title_Episode 9',\n",
       " 'Episode_Title_Episode 90',\n",
       " 'Episode_Title_Episode 91',\n",
       " 'Episode_Title_Episode 92',\n",
       " 'Episode_Title_Episode 93',\n",
       " 'Episode_Title_Episode 94',\n",
       " 'Episode_Title_Episode 95',\n",
       " 'Episode_Title_Episode 96',\n",
       " 'Episode_Title_Episode 97',\n",
       " 'Episode_Title_Episode 98',\n",
       " 'Episode_Title_Episode 99',\n",
       " 'Genre_Business',\n",
       " 'Genre_Comedy',\n",
       " 'Genre_Education',\n",
       " 'Genre_Health',\n",
       " 'Genre_Lifestyle',\n",
       " 'Genre_Music',\n",
       " 'Genre_News',\n",
       " 'Genre_Sports',\n",
       " 'Genre_Technology',\n",
       " 'Genre_True Crime',\n",
       " 'Publication_Day_Friday',\n",
       " 'Publication_Day_Monday',\n",
       " 'Publication_Day_Saturday',\n",
       " 'Publication_Day_Sunday',\n",
       " 'Publication_Day_Thursday',\n",
       " 'Publication_Day_Tuesday',\n",
       " 'Publication_Day_Wednesday',\n",
       " 'Publication_Time_Afternoon',\n",
       " 'Publication_Time_Evening',\n",
       " 'Publication_Time_Morning',\n",
       " 'Publication_Time_Night',\n",
       " 'Episode_Sentiment_Negative',\n",
       " 'Episode_Sentiment_Neutral',\n",
       " 'Episode_Sentiment_Positive']"
      ]
     },
     "execution_count": 66,
     "metadata": {},
     "output_type": "execute_result"
    }
   ],
   "source": [
    "cols = list(itertools.chain(numeric_cols, encoded_cols))\n",
    "cols"
   ]
  },
  {
   "cell_type": "code",
   "execution_count": 67,
   "id": "c3043f2f",
   "metadata": {
    "execution": {
     "iopub.execute_input": "2025-04-27T12:59:01.865632Z",
     "iopub.status.busy": "2025-04-27T12:59:01.865210Z",
     "iopub.status.idle": "2025-04-27T12:59:23.113768Z",
     "shell.execute_reply": "2025-04-27T12:59:23.112737Z"
    },
    "papermill": {
     "duration": 21.272719,
     "end_time": "2025-04-27T12:59:23.115501",
     "exception": false,
     "start_time": "2025-04-27T12:59:01.842782",
     "status": "completed"
    },
    "tags": []
   },
   "outputs": [
    {
     "data": {
      "text/html": [
       "<style>#sk-container-id-2 {color: black;background-color: white;}#sk-container-id-2 pre{padding: 0;}#sk-container-id-2 div.sk-toggleable {background-color: white;}#sk-container-id-2 label.sk-toggleable__label {cursor: pointer;display: block;width: 100%;margin-bottom: 0;padding: 0.3em;box-sizing: border-box;text-align: center;}#sk-container-id-2 label.sk-toggleable__label-arrow:before {content: \"▸\";float: left;margin-right: 0.25em;color: #696969;}#sk-container-id-2 label.sk-toggleable__label-arrow:hover:before {color: black;}#sk-container-id-2 div.sk-estimator:hover label.sk-toggleable__label-arrow:before {color: black;}#sk-container-id-2 div.sk-toggleable__content {max-height: 0;max-width: 0;overflow: hidden;text-align: left;background-color: #f0f8ff;}#sk-container-id-2 div.sk-toggleable__content pre {margin: 0.2em;color: black;border-radius: 0.25em;background-color: #f0f8ff;}#sk-container-id-2 input.sk-toggleable__control:checked~div.sk-toggleable__content {max-height: 200px;max-width: 100%;overflow: auto;}#sk-container-id-2 input.sk-toggleable__control:checked~label.sk-toggleable__label-arrow:before {content: \"▾\";}#sk-container-id-2 div.sk-estimator input.sk-toggleable__control:checked~label.sk-toggleable__label {background-color: #d4ebff;}#sk-container-id-2 div.sk-label input.sk-toggleable__control:checked~label.sk-toggleable__label {background-color: #d4ebff;}#sk-container-id-2 input.sk-hidden--visually {border: 0;clip: rect(1px 1px 1px 1px);clip: rect(1px, 1px, 1px, 1px);height: 1px;margin: -1px;overflow: hidden;padding: 0;position: absolute;width: 1px;}#sk-container-id-2 div.sk-estimator {font-family: monospace;background-color: #f0f8ff;border: 1px dotted black;border-radius: 0.25em;box-sizing: border-box;margin-bottom: 0.5em;}#sk-container-id-2 div.sk-estimator:hover {background-color: #d4ebff;}#sk-container-id-2 div.sk-parallel-item::after {content: \"\";width: 100%;border-bottom: 1px solid gray;flex-grow: 1;}#sk-container-id-2 div.sk-label:hover label.sk-toggleable__label {background-color: #d4ebff;}#sk-container-id-2 div.sk-serial::before {content: \"\";position: absolute;border-left: 1px solid gray;box-sizing: border-box;top: 0;bottom: 0;left: 50%;z-index: 0;}#sk-container-id-2 div.sk-serial {display: flex;flex-direction: column;align-items: center;background-color: white;padding-right: 0.2em;padding-left: 0.2em;position: relative;}#sk-container-id-2 div.sk-item {position: relative;z-index: 1;}#sk-container-id-2 div.sk-parallel {display: flex;align-items: stretch;justify-content: center;background-color: white;position: relative;}#sk-container-id-2 div.sk-item::before, #sk-container-id-2 div.sk-parallel-item::before {content: \"\";position: absolute;border-left: 1px solid gray;box-sizing: border-box;top: 0;bottom: 0;left: 50%;z-index: -1;}#sk-container-id-2 div.sk-parallel-item {display: flex;flex-direction: column;z-index: 1;position: relative;background-color: white;}#sk-container-id-2 div.sk-parallel-item:first-child::after {align-self: flex-end;width: 50%;}#sk-container-id-2 div.sk-parallel-item:last-child::after {align-self: flex-start;width: 50%;}#sk-container-id-2 div.sk-parallel-item:only-child::after {width: 0;}#sk-container-id-2 div.sk-dashed-wrapped {border: 1px dashed gray;margin: 0 0.4em 0.5em 0.4em;box-sizing: border-box;padding-bottom: 0.4em;background-color: white;}#sk-container-id-2 div.sk-label label {font-family: monospace;font-weight: bold;display: inline-block;line-height: 1.2em;}#sk-container-id-2 div.sk-label-container {text-align: center;}#sk-container-id-2 div.sk-container {/* jupyter's `normalize.less` sets `[hidden] { display: none; }` but bootstrap.min.css set `[hidden] { display: none !important; }` so we also need the `!important` here to be able to override the default hidden behavior on the sphinx rendered scikit-learn.org. See: https://github.com/scikit-learn/scikit-learn/issues/21755 */display: inline-block !important;position: relative;}#sk-container-id-2 div.sk-text-repr-fallback {display: none;}</style><div id=\"sk-container-id-2\" class=\"sk-top-container\"><div class=\"sk-text-repr-fallback\"><pre>SGDRegressor(penalty=None, random_state=42)</pre><b>In a Jupyter environment, please rerun this cell to show the HTML representation or trust the notebook. <br />On GitHub, the HTML representation is unable to render, please try loading this page with nbviewer.org.</b></div><div class=\"sk-container\" hidden><div class=\"sk-item\"><div class=\"sk-estimator sk-toggleable\"><input class=\"sk-toggleable__control sk-hidden--visually\" id=\"sk-estimator-id-2\" type=\"checkbox\" checked><label for=\"sk-estimator-id-2\" class=\"sk-toggleable__label sk-toggleable__label-arrow\">SGDRegressor</label><div class=\"sk-toggleable__content\"><pre>SGDRegressor(penalty=None, random_state=42)</pre></div></div></div></div></div>"
      ],
      "text/plain": [
       "SGDRegressor(penalty=None, random_state=42)"
      ]
     },
     "execution_count": 67,
     "metadata": {},
     "output_type": "execute_result"
    }
   ],
   "source": [
    "sgd.fit(train_df[cols], train_df[target_cols])"
   ]
  },
  {
   "cell_type": "code",
   "execution_count": 68,
   "id": "d9789e7a",
   "metadata": {
    "execution": {
     "iopub.execute_input": "2025-04-27T12:59:23.157959Z",
     "iopub.status.busy": "2025-04-27T12:59:23.157610Z",
     "iopub.status.idle": "2025-04-27T12:59:24.511826Z",
     "shell.execute_reply": "2025-04-27T12:59:24.510957Z"
    },
    "papermill": {
     "duration": 1.377032,
     "end_time": "2025-04-27T12:59:24.513482",
     "exception": false,
     "start_time": "2025-04-27T12:59:23.136450",
     "status": "completed"
    },
    "tags": []
   },
   "outputs": [],
   "source": [
    "train_predict = sgd.predict(train_df[cols])"
   ]
  },
  {
   "cell_type": "code",
   "execution_count": 69,
   "id": "d87adcbb",
   "metadata": {
    "execution": {
     "iopub.execute_input": "2025-04-27T12:59:24.553929Z",
     "iopub.status.busy": "2025-04-27T12:59:24.553575Z",
     "iopub.status.idle": "2025-04-27T12:59:24.558016Z",
     "shell.execute_reply": "2025-04-27T12:59:24.557048Z"
    },
    "papermill": {
     "duration": 0.026543,
     "end_time": "2025-04-27T12:59:24.559600",
     "exception": false,
     "start_time": "2025-04-27T12:59:24.533057",
     "status": "completed"
    },
    "tags": []
   },
   "outputs": [],
   "source": [
    "def rmse(target, predict):\n",
    "    return np.sqrt(np.mean(np.square(target-predict)))"
   ]
  },
  {
   "cell_type": "code",
   "execution_count": 70,
   "id": "86a1a99d",
   "metadata": {
    "execution": {
     "iopub.execute_input": "2025-04-27T12:59:24.600126Z",
     "iopub.status.busy": "2025-04-27T12:59:24.599803Z",
     "iopub.status.idle": "2025-04-27T12:59:24.610700Z",
     "shell.execute_reply": "2025-04-27T12:59:24.609920Z"
    },
    "papermill": {
     "duration": 0.033122,
     "end_time": "2025-04-27T12:59:24.612130",
     "exception": false,
     "start_time": "2025-04-27T12:59:24.579008",
     "status": "completed"
    },
    "tags": []
   },
   "outputs": [
    {
     "name": "stdout",
     "output_type": "stream",
     "text": [
      "13.354103623798752\n"
     ]
    }
   ],
   "source": [
    "print(rmse(train_df[target_cols], train_predict))"
   ]
  },
  {
   "cell_type": "code",
   "execution_count": 71,
   "id": "da7888ed",
   "metadata": {
    "execution": {
     "iopub.execute_input": "2025-04-27T12:59:24.725314Z",
     "iopub.status.busy": "2025-04-27T12:59:24.724695Z",
     "iopub.status.idle": "2025-04-27T12:59:25.024746Z",
     "shell.execute_reply": "2025-04-27T12:59:25.023681Z"
    },
    "papermill": {
     "duration": 0.392775,
     "end_time": "2025-04-27T12:59:25.026528",
     "exception": false,
     "start_time": "2025-04-27T12:59:24.633753",
     "status": "completed"
    },
    "tags": []
   },
   "outputs": [],
   "source": [
    "test_predict = sgd.predict(test_df[cols])"
   ]
  },
  {
   "cell_type": "code",
   "execution_count": 72,
   "id": "5a6c0d69",
   "metadata": {
    "collapsed": true,
    "execution": {
     "iopub.execute_input": "2025-04-27T12:59:25.070172Z",
     "iopub.status.busy": "2025-04-27T12:59:25.069798Z",
     "iopub.status.idle": "2025-04-27T12:59:25.076679Z",
     "shell.execute_reply": "2025-04-27T12:59:25.075827Z"
    },
    "jupyter": {
     "outputs_hidden": true
    },
    "papermill": {
     "duration": 0.02822,
     "end_time": "2025-04-27T12:59:25.077956",
     "exception": false,
     "start_time": "2025-04-27T12:59:25.049736",
     "status": "completed"
    },
    "tags": []
   },
   "outputs": [
    {
     "data": {
      "text/plain": [
       "0         750000\n",
       "1         750001\n",
       "2         750002\n",
       "3         750003\n",
       "4         750004\n",
       "           ...  \n",
       "249995    999995\n",
       "249996    999996\n",
       "249997    999997\n",
       "249998    999998\n",
       "249999    999999\n",
       "Name: id, Length: 250000, dtype: int64"
      ]
     },
     "execution_count": 72,
     "metadata": {},
     "output_type": "execute_result"
    }
   ],
   "source": [
    "test_df['id']"
   ]
  },
  {
   "cell_type": "code",
   "execution_count": 73,
   "id": "a1a0e3e7",
   "metadata": {
    "execution": {
     "iopub.execute_input": "2025-04-27T12:59:25.118767Z",
     "iopub.status.busy": "2025-04-27T12:59:25.117789Z",
     "iopub.status.idle": "2025-04-27T12:59:25.691425Z",
     "shell.execute_reply": "2025-04-27T12:59:25.690453Z"
    },
    "papermill": {
     "duration": 0.5954,
     "end_time": "2025-04-27T12:59:25.692928",
     "exception": false,
     "start_time": "2025-04-27T12:59:25.097528",
     "status": "completed"
    },
    "tags": []
   },
   "outputs": [
    {
     "name": "stdout",
     "output_type": "stream",
     "text": [
      "Your submission was successfully saved!\n"
     ]
    }
   ],
   "source": [
    "submission = pd.DataFrame({\n",
    "    'id': test_df['id'],\n",
    "    'Listening_Time_minutes': test_predict\n",
    "})\n",
    "submission.to_csv('/kaggle/working/submission01.csv', index=False)\n",
    "print(\"Your submission was successfully saved!\")"
   ]
  }
 ],
 "metadata": {
  "kaggle": {
   "accelerator": "none",
   "dataSources": [
    {
     "databundleVersionId": 11351736,
     "sourceId": 91715,
     "sourceType": "competition"
    }
   ],
   "dockerImageVersionId": 31012,
   "isGpuEnabled": false,
   "isInternetEnabled": true,
   "language": "python",
   "sourceType": "notebook"
  },
  "kernelspec": {
   "display_name": "Python 3",
   "language": "python",
   "name": "python3"
  },
  "language_info": {
   "codemirror_mode": {
    "name": "ipython",
    "version": 3
   },
   "file_extension": ".py",
   "mimetype": "text/x-python",
   "name": "python",
   "nbconvert_exporter": "python",
   "pygments_lexer": "ipython3",
   "version": "3.11.11"
  },
  "papermill": {
   "default_parameters": {},
   "duration": 3404.389729,
   "end_time": "2025-04-27T12:59:26.738924",
   "environment_variables": {},
   "exception": null,
   "input_path": "__notebook__.ipynb",
   "output_path": "__notebook__.ipynb",
   "parameters": {},
   "start_time": "2025-04-27T12:02:42.349195",
   "version": "2.6.0"
  }
 },
 "nbformat": 4,
 "nbformat_minor": 5
}
